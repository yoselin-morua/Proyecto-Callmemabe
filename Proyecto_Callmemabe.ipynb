{
 "cells": [
  {
   "cell_type": "markdown",
   "metadata": {},
   "source": [
    "# Telecomunicaciones: identificar operadores ineficaces"
   ]
  },
  {
   "cell_type": "markdown",
   "metadata": {},
   "source": [
    "### Descripción del proyecto\n",
    "\n",
    "El servicio de telefonía virtual CallMeMaybe está desarrollando una nueva función que brindará a los supervisores y las supervisoras información sobre los operadores menos eficaces. Se considera que un operador es ineficaz si tiene una gran cantidad de llamadas entrantes perdidas (internas y externas) y un tiempo de espera prolongado para las llamadas entrantes. Además, si se supone que un operador debe realizar llamadas salientes, un número reducido de ellas también será un signo de ineficacia.\n",
    "\n",
    "\n",
    "**Descripción de los datos**\n",
    "\n",
    "Los datasets contienen información sobre el uso del servicio de telefonía virtual CallMeMaybe. Sus clientes son organizaciones que necesitan distribuir gran cantidad de llamadas entrantes entre varios operadores, o realizar llamadas salientes a través de sus operadores. Los operadores también pueden realizar llamadas internas para comunicarse entre ellos. Estas llamadas se realizan a través de la red de CallMeMaybe.\n",
    "\n",
    "El dataset comprimido `telecom_dataset_us.csv` contiene las siguientes columnas:\n",
    "\n",
    "- `user_id`: ID de la cuenta de cliente\n",
    "- `date`: fecha en la que se recuperaron las estadísticas\n",
    "- `direction`: \"dirección\" de llamada (`out` para saliente, `in` para entrante)\n",
    "- `internal`: si la llamada fue interna (entre los operadores de un cliente o clienta)\n",
    "- `operator_id`: identificador del operador\n",
    "- `is_missed_call`: si fue una llamada perdida\n",
    "- `calls_count`: número de llamadas\n",
    "- `call_duration`: duración de la llamada (sin incluir el tiempo de espera)\n",
    "- `total_call_duration`: duración de la llamada (incluido el tiempo de espera)\n",
    "\n",
    " \n",
    "\n",
    "El conjunto de datos `telecom_clients_us.csv` tiene las siguientes columnas:\n",
    "\n",
    "- `user_id`: ID de usuario/a\n",
    "- `tariff_plan`: tarifa actual de la clientela\n",
    "- `date_start`: fecha de registro de la clientela\n",
    "\n",
    "\n",
    "### objetivos\n",
    "\n",
    "- Identificar operadores ineficaces\n",
    "- Prueba las hipótesis estadísticas\n",
    "\n",
    "\n",
    "### Instrucciones para completar la tarea\n",
    "\n",
    "\n",
    "**Paso 1.** Subir los archivos base de datos.\n",
    "\n",
    "**Paso 2.** Abrir los archivos de datos y leer la información general.\n",
    "\n",
    "**Paso 3.** Preparar los datos para el análisis de datos \n",
    "\n",
    "  - Convertir los tipos de los datos si es necesario;\n",
    "  - Comprobar si hay valores ausentes o duplicados, si hay decidir cómo tratarlos;\n",
    "  - Corregir los datos si es necesario.\n",
    "  \n",
    "**Paso 4.** Llevar a cabo el análisis de los datos.\n",
    "\n",
    "- Muestra el número de llamadas entrantes perdidas (descendente)\n",
    "    - Filtrar las llamadas entrantes perdidas;\n",
    "    - Calcular el número total de llamadas salientes perdidas por cada operador y unir con 'groupby' por operador y las llamadas perdidas (ordena de mayor a menor);\n",
    "    - Visualiza ¿qué operadores son los que tienen mayor número de llamadas (entrantes) perdidas?\n",
    "- Muestra el mayor tiempo de espera promedio para las llamadas entrantes de cada operador\n",
    "    - Crea una cloumna nueva llamada 'call_waiting' que calcule el tiempo de espera de cada llamada;\n",
    "    - Obtener el tiempo de espera promedio por operador y calcular el promedio de espera, uniendolo por 'groupby' (ordena de mayor a menor);\n",
    "    - ¿Quienes son los operadores que hacen un tiempo de espera prolongado?\n",
    "\n",
    "- Identifica los operadores con actividad baja en llamadas salientes\n",
    "    - Filtrar las llamadas salientes, selecciona solo las filas 'out';\n",
    "    - Agrupar el número total de llamadas salientes por el operador (ordena de mayor a menor);\n",
    "    - Calcular la mediana de llamadas salientes y identificar los operadores por debajo de esta que hacen menos llamadas salientes de lo esperado.\n",
    "\n",
    "-  Identifica los operadores que tienen bajo rendimiento en más de 1 críterio y se concidere ineficaz\n",
    "    - ¿Cuántos operadores existen con 1 actividad baja, cuántos con 2 y cuántos con 3? Saca conclusiones;\n",
    "    - ¿Hay varios operadores repetidos en los tops de las tablas son diferentes?,¿Dónde hay mayor deficiencia por parte de los operadores?, ¿Hay algo que te llame la atención?.\n",
    "\n",
    "**Paso 5.** Hipótesis\n",
    "- En base al análisis de datos hay alguna hipótesis de la que se pueda sacar conclusiones.\n",
    "  - ¿Hay algunas variables relevantes que se puedan análizar entre si?;\n",
    "  - Define qué diferencia se quiere medir.\n",
    "- Plantea la pregunta de investigación.\n",
    "  - Fórmula la hipótesis nula y alternativa;\n",
    "  - Selecciona la prueba estadística adecuada\n",
    "- Ejecuta la prueba y saca conclusiones"
   ]
  },
  {
   "cell_type": "markdown",
   "metadata": {},
   "source": [
    "## Inicializacion de los datos"
   ]
  },
  {
   "cell_type": "code",
   "execution_count": 50,
   "metadata": {
    "trusted": true
   },
   "outputs": [],
   "source": [
    "import pandas as pd\n",
    "import matplotlib.pyplot as plt\n",
    "import seaborn as sns\n",
    "import numpy as np\n",
    "import scipy.stats as stats"
   ]
  },
  {
   "cell_type": "code",
   "execution_count": 51,
   "metadata": {
    "trusted": true
   },
   "outputs": [],
   "source": [
    "telecom = pd.read_csv('/datasets/telecom_dataset_us.csv')\n",
    "clients = pd.read_csv('/datasets/telecom_clients_us.csv')"
   ]
  },
  {
   "cell_type": "markdown",
   "metadata": {},
   "source": [
    "### Explorar datos"
   ]
  },
  {
   "cell_type": "code",
   "execution_count": 52,
   "metadata": {
    "trusted": true
   },
   "outputs": [
    {
     "name": "stdout",
     "output_type": "stream",
     "text": [
      "<class 'pandas.core.frame.DataFrame'>\n",
      "RangeIndex: 53902 entries, 0 to 53901\n",
      "Data columns (total 9 columns):\n",
      " #   Column               Non-Null Count  Dtype  \n",
      "---  ------               --------------  -----  \n",
      " 0   user_id              53902 non-null  int64  \n",
      " 1   date                 53902 non-null  object \n",
      " 2   direction            53902 non-null  object \n",
      " 3   internal             53785 non-null  object \n",
      " 4   operator_id          45730 non-null  float64\n",
      " 5   is_missed_call       53902 non-null  bool   \n",
      " 6   calls_count          53902 non-null  int64  \n",
      " 7   call_duration        53902 non-null  int64  \n",
      " 8   total_call_duration  53902 non-null  int64  \n",
      "dtypes: bool(1), float64(1), int64(4), object(3)\n",
      "memory usage: 3.3+ MB\n"
     ]
    }
   ],
   "source": [
    "telecom.info()"
   ]
  },
  {
   "cell_type": "code",
   "execution_count": 53,
   "metadata": {
    "trusted": true
   },
   "outputs": [
    {
     "data": {
      "text/html": [
       "<div>\n",
       "<style scoped>\n",
       "    .dataframe tbody tr th:only-of-type {\n",
       "        vertical-align: middle;\n",
       "    }\n",
       "\n",
       "    .dataframe tbody tr th {\n",
       "        vertical-align: top;\n",
       "    }\n",
       "\n",
       "    .dataframe thead th {\n",
       "        text-align: right;\n",
       "    }\n",
       "</style>\n",
       "<table border=\"1\" class=\"dataframe\">\n",
       "  <thead>\n",
       "    <tr style=\"text-align: right;\">\n",
       "      <th></th>\n",
       "      <th>user_id</th>\n",
       "      <th>date</th>\n",
       "      <th>direction</th>\n",
       "      <th>internal</th>\n",
       "      <th>operator_id</th>\n",
       "      <th>is_missed_call</th>\n",
       "      <th>calls_count</th>\n",
       "      <th>call_duration</th>\n",
       "      <th>total_call_duration</th>\n",
       "    </tr>\n",
       "  </thead>\n",
       "  <tbody>\n",
       "    <tr>\n",
       "      <th>0</th>\n",
       "      <td>166377</td>\n",
       "      <td>2019-08-04 00:00:00+03:00</td>\n",
       "      <td>in</td>\n",
       "      <td>False</td>\n",
       "      <td>NaN</td>\n",
       "      <td>True</td>\n",
       "      <td>2</td>\n",
       "      <td>0</td>\n",
       "      <td>4</td>\n",
       "    </tr>\n",
       "    <tr>\n",
       "      <th>1</th>\n",
       "      <td>166377</td>\n",
       "      <td>2019-08-05 00:00:00+03:00</td>\n",
       "      <td>out</td>\n",
       "      <td>True</td>\n",
       "      <td>880022.0</td>\n",
       "      <td>True</td>\n",
       "      <td>3</td>\n",
       "      <td>0</td>\n",
       "      <td>5</td>\n",
       "    </tr>\n",
       "    <tr>\n",
       "      <th>2</th>\n",
       "      <td>166377</td>\n",
       "      <td>2019-08-05 00:00:00+03:00</td>\n",
       "      <td>out</td>\n",
       "      <td>True</td>\n",
       "      <td>880020.0</td>\n",
       "      <td>True</td>\n",
       "      <td>1</td>\n",
       "      <td>0</td>\n",
       "      <td>1</td>\n",
       "    </tr>\n",
       "    <tr>\n",
       "      <th>3</th>\n",
       "      <td>166377</td>\n",
       "      <td>2019-08-05 00:00:00+03:00</td>\n",
       "      <td>out</td>\n",
       "      <td>True</td>\n",
       "      <td>880020.0</td>\n",
       "      <td>False</td>\n",
       "      <td>1</td>\n",
       "      <td>10</td>\n",
       "      <td>18</td>\n",
       "    </tr>\n",
       "    <tr>\n",
       "      <th>4</th>\n",
       "      <td>166377</td>\n",
       "      <td>2019-08-05 00:00:00+03:00</td>\n",
       "      <td>out</td>\n",
       "      <td>False</td>\n",
       "      <td>880022.0</td>\n",
       "      <td>True</td>\n",
       "      <td>3</td>\n",
       "      <td>0</td>\n",
       "      <td>25</td>\n",
       "    </tr>\n",
       "  </tbody>\n",
       "</table>\n",
       "</div>"
      ],
      "text/plain": [
       "   user_id                       date direction internal  operator_id  \\\n",
       "0   166377  2019-08-04 00:00:00+03:00        in    False          NaN   \n",
       "1   166377  2019-08-05 00:00:00+03:00       out     True     880022.0   \n",
       "2   166377  2019-08-05 00:00:00+03:00       out     True     880020.0   \n",
       "3   166377  2019-08-05 00:00:00+03:00       out     True     880020.0   \n",
       "4   166377  2019-08-05 00:00:00+03:00       out    False     880022.0   \n",
       "\n",
       "   is_missed_call  calls_count  call_duration  total_call_duration  \n",
       "0            True            2              0                    4  \n",
       "1            True            3              0                    5  \n",
       "2            True            1              0                    1  \n",
       "3           False            1             10                   18  \n",
       "4            True            3              0                   25  "
      ]
     },
     "execution_count": 53,
     "metadata": {},
     "output_type": "execute_result"
    }
   ],
   "source": [
    "telecom.head()"
   ]
  },
  {
   "cell_type": "markdown",
   "metadata": {},
   "source": [
    "La tabla `telecom` contiene 9 columnas con 53 902 entardas, las columnas en su mayoria estan sin valores nulos a excepcion de la columna `operator_id` que tiene solo 45 730 entaradas,también es importante resaltar que hay columnas que no tienen el tipo correcto como lo son date que debería ser un datetime, internal que preferiblemente debería ser un boleano y operator_id que aunque no es necesarío convertilo a int es la mejor opción. También es necesario verificar si contiene valores duplicados."
   ]
  },
  {
   "cell_type": "code",
   "execution_count": 54,
   "metadata": {
    "trusted": true
   },
   "outputs": [
    {
     "name": "stdout",
     "output_type": "stream",
     "text": [
      "<class 'pandas.core.frame.DataFrame'>\n",
      "RangeIndex: 732 entries, 0 to 731\n",
      "Data columns (total 3 columns):\n",
      " #   Column       Non-Null Count  Dtype \n",
      "---  ------       --------------  ----- \n",
      " 0   user_id      732 non-null    int64 \n",
      " 1   tariff_plan  732 non-null    object\n",
      " 2   date_start   732 non-null    object\n",
      "dtypes: int64(1), object(2)\n",
      "memory usage: 17.3+ KB\n"
     ]
    }
   ],
   "source": [
    "clients.info()"
   ]
  },
  {
   "cell_type": "code",
   "execution_count": 55,
   "metadata": {
    "trusted": true
   },
   "outputs": [
    {
     "data": {
      "text/html": [
       "<div>\n",
       "<style scoped>\n",
       "    .dataframe tbody tr th:only-of-type {\n",
       "        vertical-align: middle;\n",
       "    }\n",
       "\n",
       "    .dataframe tbody tr th {\n",
       "        vertical-align: top;\n",
       "    }\n",
       "\n",
       "    .dataframe thead th {\n",
       "        text-align: right;\n",
       "    }\n",
       "</style>\n",
       "<table border=\"1\" class=\"dataframe\">\n",
       "  <thead>\n",
       "    <tr style=\"text-align: right;\">\n",
       "      <th></th>\n",
       "      <th>user_id</th>\n",
       "      <th>tariff_plan</th>\n",
       "      <th>date_start</th>\n",
       "    </tr>\n",
       "  </thead>\n",
       "  <tbody>\n",
       "    <tr>\n",
       "      <th>0</th>\n",
       "      <td>166713</td>\n",
       "      <td>A</td>\n",
       "      <td>2019-08-15</td>\n",
       "    </tr>\n",
       "    <tr>\n",
       "      <th>1</th>\n",
       "      <td>166901</td>\n",
       "      <td>A</td>\n",
       "      <td>2019-08-23</td>\n",
       "    </tr>\n",
       "    <tr>\n",
       "      <th>2</th>\n",
       "      <td>168527</td>\n",
       "      <td>A</td>\n",
       "      <td>2019-10-29</td>\n",
       "    </tr>\n",
       "    <tr>\n",
       "      <th>3</th>\n",
       "      <td>167097</td>\n",
       "      <td>A</td>\n",
       "      <td>2019-09-01</td>\n",
       "    </tr>\n",
       "    <tr>\n",
       "      <th>4</th>\n",
       "      <td>168193</td>\n",
       "      <td>A</td>\n",
       "      <td>2019-10-16</td>\n",
       "    </tr>\n",
       "  </tbody>\n",
       "</table>\n",
       "</div>"
      ],
      "text/plain": [
       "   user_id tariff_plan  date_start\n",
       "0   166713           A  2019-08-15\n",
       "1   166901           A  2019-08-23\n",
       "2   168527           A  2019-10-29\n",
       "3   167097           A  2019-09-01\n",
       "4   168193           A  2019-10-16"
      ]
     },
     "execution_count": 55,
     "metadata": {},
     "output_type": "execute_result"
    }
   ],
   "source": [
    " clients.head()"
   ]
  },
  {
   "cell_type": "markdown",
   "metadata": {},
   "source": [
    "La tabla `clients` contiene 3 columnas con 732 filas y no se obserban valores nulos, aunque en la columna date_start es de tipo equivocado y deberá ser cambiado a datetime. También es necesario revisar si contiene valores duplicados."
   ]
  },
  {
   "cell_type": "markdown",
   "metadata": {},
   "source": [
    "##  Corrección de datos: tipos, ausentes y duplicados"
   ]
  },
  {
   "cell_type": "markdown",
   "metadata": {},
   "source": [
    "### Tabla `telecom`"
   ]
  },
  {
   "cell_type": "code",
   "execution_count": 56,
   "metadata": {
    "trusted": true
   },
   "outputs": [
    {
     "name": "stdout",
     "output_type": "stream",
     "text": [
      "Verificación de cambio object a datetime: datetime64[ns, pytz.FixedOffset(180)]\n",
      "\n",
      "Verificación de cambio object a bool: bool\n",
      "\n",
      "Verificación de cambio float a Int64: Int64\n"
     ]
    }
   ],
   "source": [
    "# Cambio de tipo de object a datetime\n",
    "telecom['date'] = pd.to_datetime(telecom['date'])\n",
    "\n",
    "# Cambio de tipo de object a bool\n",
    "telecom['internal'] = telecom['internal'].astype(bool)\n",
    "\n",
    "# Cambio de tipo de float a Int64\n",
    "telecom['operator_id'] = telecom['operator_id'].astype('Int64')\n",
    "\n",
    "print('Verificación de cambio object a datetime:', telecom['date'].dtype)\n",
    "print('\\nVerificación de cambio object a bool:', telecom['internal'].dtype)\n",
    "print('\\nVerificación de cambio float a Int64:', telecom['operator_id'].dtype)"
   ]
  },
  {
   "cell_type": "markdown",
   "metadata": {},
   "source": [
    "Se puede observar que hay 8172 valores ausentes en la columna de 'operator_id' que esta destinada a almacenar el Id único de cada operador que hace llamadas. En esta ocación dado que posiblemente hubo alguna falla que no almacenó los datos, no se sabe si solo es un id de un operador que no se almacena o si son varios id de operadores que no se han almacenado por eso he decidido dejarlo así por el momento pero más adelante en el análisis crear una copia de `telecom` excluyendo estos datos para que no alteren los resultados del análisis."
   ]
  },
  {
   "cell_type": "code",
   "execution_count": 57,
   "metadata": {
    "trusted": true
   },
   "outputs": [
    {
     "data": {
      "text/plain": [
       "user_id                   0\n",
       "date                      0\n",
       "direction                 0\n",
       "internal                  0\n",
       "operator_id            8172\n",
       "is_missed_call            0\n",
       "calls_count               0\n",
       "call_duration             0\n",
       "total_call_duration       0\n",
       "dtype: int64"
      ]
     },
     "execution_count": 57,
     "metadata": {},
     "output_type": "execute_result"
    }
   ],
   "source": [
    "# Visulización de valores ausentes\n",
    "telecom.isna().sum()"
   ]
  },
  {
   "cell_type": "markdown",
   "metadata": {},
   "source": [
    "La tabla `telecom` contiene 4 900 filas duplicadas así que deben ser eliminadas quedando en total 49 002 filas en el DataFrame."
   ]
  },
  {
   "cell_type": "code",
   "execution_count": 58,
   "metadata": {
    "trusted": true
   },
   "outputs": [
    {
     "data": {
      "text/plain": [
       "4900"
      ]
     },
     "execution_count": 58,
     "metadata": {},
     "output_type": "execute_result"
    }
   ],
   "source": [
    "# Visualización de valores duplicados\n",
    "telecom.duplicated().sum()"
   ]
  },
  {
   "cell_type": "code",
   "execution_count": 59,
   "metadata": {
    "trusted": true
   },
   "outputs": [
    {
     "data": {
      "text/html": [
       "<div>\n",
       "<style scoped>\n",
       "    .dataframe tbody tr th:only-of-type {\n",
       "        vertical-align: middle;\n",
       "    }\n",
       "\n",
       "    .dataframe tbody tr th {\n",
       "        vertical-align: top;\n",
       "    }\n",
       "\n",
       "    .dataframe thead th {\n",
       "        text-align: right;\n",
       "    }\n",
       "</style>\n",
       "<table border=\"1\" class=\"dataframe\">\n",
       "  <thead>\n",
       "    <tr style=\"text-align: right;\">\n",
       "      <th></th>\n",
       "      <th>user_id</th>\n",
       "      <th>date</th>\n",
       "      <th>direction</th>\n",
       "      <th>internal</th>\n",
       "      <th>operator_id</th>\n",
       "      <th>is_missed_call</th>\n",
       "      <th>calls_count</th>\n",
       "      <th>call_duration</th>\n",
       "      <th>total_call_duration</th>\n",
       "    </tr>\n",
       "  </thead>\n",
       "  <tbody>\n",
       "    <tr>\n",
       "      <th>0</th>\n",
       "      <td>166377</td>\n",
       "      <td>2019-08-04 00:00:00+03:00</td>\n",
       "      <td>in</td>\n",
       "      <td>False</td>\n",
       "      <td>&lt;NA&gt;</td>\n",
       "      <td>True</td>\n",
       "      <td>2</td>\n",
       "      <td>0</td>\n",
       "      <td>4</td>\n",
       "    </tr>\n",
       "    <tr>\n",
       "      <th>1</th>\n",
       "      <td>166377</td>\n",
       "      <td>2019-08-05 00:00:00+03:00</td>\n",
       "      <td>out</td>\n",
       "      <td>True</td>\n",
       "      <td>880022</td>\n",
       "      <td>True</td>\n",
       "      <td>3</td>\n",
       "      <td>0</td>\n",
       "      <td>5</td>\n",
       "    </tr>\n",
       "    <tr>\n",
       "      <th>2</th>\n",
       "      <td>166377</td>\n",
       "      <td>2019-08-05 00:00:00+03:00</td>\n",
       "      <td>out</td>\n",
       "      <td>True</td>\n",
       "      <td>880020</td>\n",
       "      <td>True</td>\n",
       "      <td>1</td>\n",
       "      <td>0</td>\n",
       "      <td>1</td>\n",
       "    </tr>\n",
       "    <tr>\n",
       "      <th>3</th>\n",
       "      <td>166377</td>\n",
       "      <td>2019-08-05 00:00:00+03:00</td>\n",
       "      <td>out</td>\n",
       "      <td>True</td>\n",
       "      <td>880020</td>\n",
       "      <td>False</td>\n",
       "      <td>1</td>\n",
       "      <td>10</td>\n",
       "      <td>18</td>\n",
       "    </tr>\n",
       "    <tr>\n",
       "      <th>4</th>\n",
       "      <td>166377</td>\n",
       "      <td>2019-08-05 00:00:00+03:00</td>\n",
       "      <td>out</td>\n",
       "      <td>False</td>\n",
       "      <td>880022</td>\n",
       "      <td>True</td>\n",
       "      <td>3</td>\n",
       "      <td>0</td>\n",
       "      <td>25</td>\n",
       "    </tr>\n",
       "    <tr>\n",
       "      <th>...</th>\n",
       "      <td>...</td>\n",
       "      <td>...</td>\n",
       "      <td>...</td>\n",
       "      <td>...</td>\n",
       "      <td>...</td>\n",
       "      <td>...</td>\n",
       "      <td>...</td>\n",
       "      <td>...</td>\n",
       "      <td>...</td>\n",
       "    </tr>\n",
       "    <tr>\n",
       "      <th>53896</th>\n",
       "      <td>168606</td>\n",
       "      <td>2019-11-10 00:00:00+03:00</td>\n",
       "      <td>out</td>\n",
       "      <td>True</td>\n",
       "      <td>957922</td>\n",
       "      <td>False</td>\n",
       "      <td>1</td>\n",
       "      <td>0</td>\n",
       "      <td>25</td>\n",
       "    </tr>\n",
       "    <tr>\n",
       "      <th>53897</th>\n",
       "      <td>168606</td>\n",
       "      <td>2019-11-10 00:00:00+03:00</td>\n",
       "      <td>out</td>\n",
       "      <td>True</td>\n",
       "      <td>957922</td>\n",
       "      <td>True</td>\n",
       "      <td>1</td>\n",
       "      <td>0</td>\n",
       "      <td>38</td>\n",
       "    </tr>\n",
       "    <tr>\n",
       "      <th>53898</th>\n",
       "      <td>168606</td>\n",
       "      <td>2019-11-11 00:00:00+03:00</td>\n",
       "      <td>out</td>\n",
       "      <td>True</td>\n",
       "      <td>957922</td>\n",
       "      <td>False</td>\n",
       "      <td>2</td>\n",
       "      <td>479</td>\n",
       "      <td>501</td>\n",
       "    </tr>\n",
       "    <tr>\n",
       "      <th>53899</th>\n",
       "      <td>168606</td>\n",
       "      <td>2019-11-15 00:00:00+03:00</td>\n",
       "      <td>out</td>\n",
       "      <td>True</td>\n",
       "      <td>957922</td>\n",
       "      <td>False</td>\n",
       "      <td>4</td>\n",
       "      <td>3130</td>\n",
       "      <td>3190</td>\n",
       "    </tr>\n",
       "    <tr>\n",
       "      <th>53901</th>\n",
       "      <td>168606</td>\n",
       "      <td>2019-11-19 00:00:00+03:00</td>\n",
       "      <td>in</td>\n",
       "      <td>False</td>\n",
       "      <td>&lt;NA&gt;</td>\n",
       "      <td>True</td>\n",
       "      <td>2</td>\n",
       "      <td>0</td>\n",
       "      <td>64</td>\n",
       "    </tr>\n",
       "  </tbody>\n",
       "</table>\n",
       "<p>49002 rows × 9 columns</p>\n",
       "</div>"
      ],
      "text/plain": [
       "       user_id                      date direction  internal  operator_id  \\\n",
       "0       166377 2019-08-04 00:00:00+03:00        in     False         <NA>   \n",
       "1       166377 2019-08-05 00:00:00+03:00       out      True       880022   \n",
       "2       166377 2019-08-05 00:00:00+03:00       out      True       880020   \n",
       "3       166377 2019-08-05 00:00:00+03:00       out      True       880020   \n",
       "4       166377 2019-08-05 00:00:00+03:00       out     False       880022   \n",
       "...        ...                       ...       ...       ...          ...   \n",
       "53896   168606 2019-11-10 00:00:00+03:00       out      True       957922   \n",
       "53897   168606 2019-11-10 00:00:00+03:00       out      True       957922   \n",
       "53898   168606 2019-11-11 00:00:00+03:00       out      True       957922   \n",
       "53899   168606 2019-11-15 00:00:00+03:00       out      True       957922   \n",
       "53901   168606 2019-11-19 00:00:00+03:00        in     False         <NA>   \n",
       "\n",
       "       is_missed_call  calls_count  call_duration  total_call_duration  \n",
       "0                True            2              0                    4  \n",
       "1                True            3              0                    5  \n",
       "2                True            1              0                    1  \n",
       "3               False            1             10                   18  \n",
       "4                True            3              0                   25  \n",
       "...               ...          ...            ...                  ...  \n",
       "53896           False            1              0                   25  \n",
       "53897            True            1              0                   38  \n",
       "53898           False            2            479                  501  \n",
       "53899           False            4           3130                 3190  \n",
       "53901            True            2              0                   64  \n",
       "\n",
       "[49002 rows x 9 columns]"
      ]
     },
     "execution_count": 59,
     "metadata": {},
     "output_type": "execute_result"
    }
   ],
   "source": [
    "telecom.drop_duplicates()"
   ]
  },
  {
   "cell_type": "code",
   "execution_count": 60,
   "metadata": {
    "trusted": true
   },
   "outputs": [],
   "source": [
    "telecom = telecom.drop_duplicates()"
   ]
  },
  {
   "cell_type": "markdown",
   "metadata": {},
   "source": [
    "### Tabla `clients`"
   ]
  },
  {
   "cell_type": "code",
   "execution_count": 61,
   "metadata": {
    "trusted": true
   },
   "outputs": [
    {
     "name": "stdout",
     "output_type": "stream",
     "text": [
      "Verificación de cambio object a datetime: datetime64[ns]\n"
     ]
    }
   ],
   "source": [
    "# Cambio de tipo de object a datetime\n",
    "clients['date_start'] = pd.to_datetime(clients['date_start'])\n",
    "\n",
    "print('Verificación de cambio object a datetime:', clients['date_start'].dtype)"
   ]
  },
  {
   "cell_type": "code",
   "execution_count": 62,
   "metadata": {
    "trusted": true
   },
   "outputs": [
    {
     "data": {
      "text/plain": [
       "user_id        0\n",
       "tariff_plan    0\n",
       "date_start     0\n",
       "dtype: int64"
      ]
     },
     "execution_count": 62,
     "metadata": {},
     "output_type": "execute_result"
    }
   ],
   "source": [
    "# Visulización de valores ausentes\n",
    "clients.isna().sum()"
   ]
  },
  {
   "cell_type": "code",
   "execution_count": 63,
   "metadata": {
    "trusted": true
   },
   "outputs": [
    {
     "data": {
      "text/plain": [
       "0"
      ]
     },
     "execution_count": 63,
     "metadata": {},
     "output_type": "execute_result"
    }
   ],
   "source": [
    "# Visualización de valores duplicados\n",
    "clients.duplicated().sum()"
   ]
  },
  {
   "cell_type": "markdown",
   "metadata": {},
   "source": [
    "## Análisis de datos"
   ]
  },
  {
   "cell_type": "markdown",
   "metadata": {},
   "source": [
    "Esta variable contiene una copia del DateFrame `telecom` sin datos nulos para tener un análisis más limpio y conserbar intacto el original."
   ]
  },
  {
   "cell_type": "code",
   "execution_count": 64,
   "metadata": {
    "trusted": true
   },
   "outputs": [],
   "source": [
    "# Nuevo telecom sin datos nulos\n",
    "telecom_free_null = telecom.dropna(subset = ['operator_id']).copy()"
   ]
  },
  {
   "cell_type": "code",
   "execution_count": 65,
   "metadata": {
    "trusted": true
   },
   "outputs": [
    {
     "data": {
      "text/plain": [
       "1092"
      ]
     },
     "execution_count": 65,
     "metadata": {},
     "output_type": "execute_result"
    }
   ],
   "source": [
    "# Numero de operadores\n",
    "telecom_free_null['operator_id'].nunique()"
   ]
  },
  {
   "cell_type": "markdown",
   "metadata": {},
   "source": [
    "### Muestra el número de llamadas entrantes perdidas (descendente)"
   ]
  },
  {
   "cell_type": "markdown",
   "metadata": {},
   "source": [
    "Los datos de la tabla muestran a los operadores que tinen mayor número de llamadas perdidas como el operador con el Id 913942 encabeza la lista con 52 llamadas perdidas después hay un gran desceso de 22 llamadas perdidas con los operadores 944226 y 885890 que ambos tienen 30, en cuarto lugar lo ocupa el operador 885890 con 26 seguidos de los operadores 944216 y 937956 con 24. Como se muestra la perdida de llamadas va disminuyendo en gran medida del primer lugar al segundo y después de esto la disminución no es tan drastica pero es constante, este evento puede llegar a afectar a la empresa porque puede generar quejas y mal humor por parte de los clientes lo que podría dar mala imagen a la empresa e incluso si es constante los clientes podrían cambiar de compañia."
   ]
  },
  {
   "cell_type": "code",
   "execution_count": 66,
   "metadata": {
    "trusted": true
   },
   "outputs": [
    {
     "data": {
      "text/html": [
       "<div>\n",
       "<style scoped>\n",
       "    .dataframe tbody tr th:only-of-type {\n",
       "        vertical-align: middle;\n",
       "    }\n",
       "\n",
       "    .dataframe tbody tr th {\n",
       "        vertical-align: top;\n",
       "    }\n",
       "\n",
       "    .dataframe thead th {\n",
       "        text-align: right;\n",
       "    }\n",
       "</style>\n",
       "<table border=\"1\" class=\"dataframe\">\n",
       "  <thead>\n",
       "    <tr style=\"text-align: right;\">\n",
       "      <th></th>\n",
       "      <th>operator_id</th>\n",
       "      <th>calls_count</th>\n",
       "    </tr>\n",
       "  </thead>\n",
       "  <tbody>\n",
       "    <tr>\n",
       "      <th>98</th>\n",
       "      <td>913942</td>\n",
       "      <td>52</td>\n",
       "    </tr>\n",
       "    <tr>\n",
       "      <th>196</th>\n",
       "      <td>940588</td>\n",
       "      <td>30</td>\n",
       "    </tr>\n",
       "    <tr>\n",
       "      <th>210</th>\n",
       "      <td>944226</td>\n",
       "      <td>30</td>\n",
       "    </tr>\n",
       "    <tr>\n",
       "      <th>6</th>\n",
       "      <td>885890</td>\n",
       "      <td>26</td>\n",
       "    </tr>\n",
       "    <tr>\n",
       "      <th>206</th>\n",
       "      <td>944216</td>\n",
       "      <td>24</td>\n",
       "    </tr>\n",
       "    <tr>\n",
       "      <th>179</th>\n",
       "      <td>937956</td>\n",
       "      <td>24</td>\n",
       "    </tr>\n",
       "    <tr>\n",
       "      <th>222</th>\n",
       "      <td>951508</td>\n",
       "      <td>21</td>\n",
       "    </tr>\n",
       "    <tr>\n",
       "      <th>5</th>\n",
       "      <td>885876</td>\n",
       "      <td>20</td>\n",
       "    </tr>\n",
       "    <tr>\n",
       "      <th>208</th>\n",
       "      <td>944220</td>\n",
       "      <td>18</td>\n",
       "    </tr>\n",
       "    <tr>\n",
       "      <th>209</th>\n",
       "      <td>944222</td>\n",
       "      <td>17</td>\n",
       "    </tr>\n",
       "  </tbody>\n",
       "</table>\n",
       "</div>"
      ],
      "text/plain": [
       "     operator_id  calls_count\n",
       "98        913942           52\n",
       "196       940588           30\n",
       "210       944226           30\n",
       "6         885890           26\n",
       "206       944216           24\n",
       "179       937956           24\n",
       "222       951508           21\n",
       "5         885876           20\n",
       "208       944220           18\n",
       "209       944222           17"
      ]
     },
     "metadata": {},
     "output_type": "display_data"
    },
    {
     "data": {
      "text/plain": [
       "(239, 2)"
      ]
     },
     "execution_count": 66,
     "metadata": {},
     "output_type": "execute_result"
    }
   ],
   "source": [
    "# Filtro de llamadas entrantes perdidas\n",
    "in_misscall = telecom_free_null[(telecom_free_null['is_missed_call'] == True) & (telecom_free_null['direction'] == 'in')]\n",
    "\n",
    "# Tabla con filtro de llamadas entrantes perdidas por operador y número de llamadas\n",
    "total_misscalls = in_misscall.groupby('operator_id')['calls_count'].sum().reset_index()\n",
    "total_misscall = total_misscalls.sort_values(by = 'calls_count', ascending = False)\n",
    "\n",
    "\n",
    "display(total_misscall.head(10))\n",
    "total_misscall.shape"
   ]
  },
  {
   "cell_type": "markdown",
   "metadata": {},
   "source": [
    "El diagrama nos muestra que hay muchos operadores con más de 10 llamadas perdidas siendo esto valores atipicos dentro del rango de los operadores. A simple vista se podría decir que las llamadas perdidas que tiene la mayoria de los operadores es de 3. Para confirmar esto es necesario sacar los percentiles que nos pueden confirmar cúal es la cantidad ideal de llamadas perdidas."
   ]
  },
  {
   "cell_type": "code",
   "execution_count": 108,
   "metadata": {
    "trusted": true
   },
   "outputs": [
    {
     "data": {
      "text/plain": [
       "<matplotlib.collections.PathCollection at 0x7fd1c04d2e50>"
      ]
     },
     "execution_count": 108,
     "metadata": {},
     "output_type": "execute_result"
    },
    {
     "data": {
      "image/png": "[encoded data removed]",
      "text/plain": [
       "<Figure size 640x480 with 1 Axes>"
      ]
     },
     "metadata": {},
     "output_type": "display_data"
    }
   ],
   "source": [
    "# Rango de números desde 0 hasta el número de observaciones en total_misscalls\n",
    "x_values = pd.Series(range(0,len(total_misscalls)))\n",
    "\n",
    "# Diagrama\n",
    "plt.scatter(x_values, total_misscalls['calls_count'], color = 'skyblue')"
   ]
  },
  {
   "cell_type": "markdown",
   "metadata": {},
   "source": [
    "Para observar el umbral claramente en este caso se calculará con percentiles de 75, 90 y 95. El primero nos ayudará a identificar operadores que están por encima del desempeño promedio aceptable, el percentil 90 a operadores en casos peores a el anterior y en el caso de los percentil 95 son casos extremos.\n",
    "\n",
    "En este caso el percentil 75 nos muestra el umbral de un desempeño aceptable es de 4 llamadas perdidas, casos aceptables pero por fuera de lo ideal es de 9 llamadas perdidas y el percentil 95 nos muestra que el 5% de los operadores tienen más de 15 llamadas perdidas saliendo por mucho de lo ideal. La gráfica nos da una representación de una imagen clara de estos datos."
   ]
  },
  {
   "cell_type": "code",
   "execution_count": 68,
   "metadata": {
    "trusted": true
   },
   "outputs": [
    {
     "name": "stdout",
     "output_type": "stream",
     "text": [
      "4.0\n",
      "9.200000000000017\n",
      "15.099999999999994\n"
     ]
    }
   ],
   "source": [
    "percentil_75_misscall = np.percentile(total_misscall['calls_count'], 75)\n",
    "percentil_90_misscall = np.percentile(total_misscall['calls_count'], 90)\n",
    "percentil_95_misscall = np.percentile(total_misscall['calls_count'], 95)\n",
    "\n",
    "print(percentil_75_misscall)\n",
    "print(percentil_90_misscall)\n",
    "print(percentil_95_misscall)"
   ]
  },
  {
   "cell_type": "code",
   "execution_count": 123,
   "metadata": {
    "trusted": true
   },
   "outputs": [
    {
     "data": {
      "text/plain": [
       "<matplotlib.legend.Legend at 0x7fd1bf783fd0>"
      ]
     },
     "execution_count": 123,
     "metadata": {},
     "output_type": "execute_result"
    },
    {
     "data": {
      "image/png": "[encoded data removed]",
      "text/plain": [
       "<Figure size 1200x600 with 1 Axes>"
      ]
     },
     "metadata": {},
     "output_type": "display_data"
    }
   ],
   "source": [
    "plt.figure(figsize=(12, 6))\n",
    "plt.hist(total_misscall['calls_count'], bins = 50, color = 'skyblue', edgecolor = 'grey', log = True)\n",
    "plt.axvline(percentil_75_misscall, color = 'yellow', linestyle = 'dashed', linewidth = 1.5, label = f'Percentil 75 = {percentil_75_misscall}')\n",
    "plt.axvline(percentil_90_misscall, color = 'orange', linestyle = 'dashed', linewidth = 1.5, label = f'Percentil 90 = {percentil_90_misscall}')\n",
    "plt.axvline(percentil_95_misscall, color = 'red', linestyle = 'dashed', linewidth = 1.5, label = f'Percentil 95 = {percentil_95_misscall}')\n",
    "\n",
    "plt.title('Distribución de llamadas perdidas por operador')\n",
    "plt.xlabel('Número de llamadas perdidas')\n",
    "plt.ylabel('Frecuencia de operadores')\n",
    "plt.legend()"
   ]
  },
  {
   "cell_type": "markdown",
   "metadata": {},
   "source": [
    "### Muestra el mayor tiempo de espera promedio para las llamadas entrantes de cada operador"
   ]
  },
  {
   "cell_type": "markdown",
   "metadata": {},
   "source": [
    "Para saber el tiempo de espera primero es necesario restar las columnas 'total_call_duration' (tiempo total de la llamada) y la columna 'call_duration' (duración de llamada sin tiempo de espera) que se almacenará en una nueva columna llamada 'wait_duration', después es necesario crear un filtro solo para las llamadas entrantes y así calcular el tiempo promedio de espera que hizo cada operador viendola de forma descendiente para identificar quienes hacen mayor tiempo de espera y cuanto es."
   ]
  },
  {
   "cell_type": "code",
   "execution_count": 70,
   "metadata": {
    "trusted": true
   },
   "outputs": [
    {
     "data": {
      "text/html": [
       "<div>\n",
       "<style scoped>\n",
       "    .dataframe tbody tr th:only-of-type {\n",
       "        vertical-align: middle;\n",
       "    }\n",
       "\n",
       "    .dataframe tbody tr th {\n",
       "        vertical-align: top;\n",
       "    }\n",
       "\n",
       "    .dataframe thead th {\n",
       "        text-align: right;\n",
       "    }\n",
       "</style>\n",
       "<table border=\"1\" class=\"dataframe\">\n",
       "  <thead>\n",
       "    <tr style=\"text-align: right;\">\n",
       "      <th></th>\n",
       "      <th>user_id</th>\n",
       "      <th>date</th>\n",
       "      <th>direction</th>\n",
       "      <th>internal</th>\n",
       "      <th>operator_id</th>\n",
       "      <th>is_missed_call</th>\n",
       "      <th>calls_count</th>\n",
       "      <th>call_duration</th>\n",
       "      <th>total_call_duration</th>\n",
       "      <th>wait_duration</th>\n",
       "    </tr>\n",
       "  </thead>\n",
       "  <tbody>\n",
       "    <tr>\n",
       "      <th>1</th>\n",
       "      <td>166377</td>\n",
       "      <td>2019-08-05 00:00:00+03:00</td>\n",
       "      <td>out</td>\n",
       "      <td>True</td>\n",
       "      <td>880022</td>\n",
       "      <td>True</td>\n",
       "      <td>3</td>\n",
       "      <td>0</td>\n",
       "      <td>5</td>\n",
       "      <td>5</td>\n",
       "    </tr>\n",
       "    <tr>\n",
       "      <th>2</th>\n",
       "      <td>166377</td>\n",
       "      <td>2019-08-05 00:00:00+03:00</td>\n",
       "      <td>out</td>\n",
       "      <td>True</td>\n",
       "      <td>880020</td>\n",
       "      <td>True</td>\n",
       "      <td>1</td>\n",
       "      <td>0</td>\n",
       "      <td>1</td>\n",
       "      <td>1</td>\n",
       "    </tr>\n",
       "    <tr>\n",
       "      <th>3</th>\n",
       "      <td>166377</td>\n",
       "      <td>2019-08-05 00:00:00+03:00</td>\n",
       "      <td>out</td>\n",
       "      <td>True</td>\n",
       "      <td>880020</td>\n",
       "      <td>False</td>\n",
       "      <td>1</td>\n",
       "      <td>10</td>\n",
       "      <td>18</td>\n",
       "      <td>8</td>\n",
       "    </tr>\n",
       "    <tr>\n",
       "      <th>4</th>\n",
       "      <td>166377</td>\n",
       "      <td>2019-08-05 00:00:00+03:00</td>\n",
       "      <td>out</td>\n",
       "      <td>False</td>\n",
       "      <td>880022</td>\n",
       "      <td>True</td>\n",
       "      <td>3</td>\n",
       "      <td>0</td>\n",
       "      <td>25</td>\n",
       "      <td>25</td>\n",
       "    </tr>\n",
       "    <tr>\n",
       "      <th>5</th>\n",
       "      <td>166377</td>\n",
       "      <td>2019-08-05 00:00:00+03:00</td>\n",
       "      <td>out</td>\n",
       "      <td>False</td>\n",
       "      <td>880020</td>\n",
       "      <td>False</td>\n",
       "      <td>2</td>\n",
       "      <td>3</td>\n",
       "      <td>29</td>\n",
       "      <td>26</td>\n",
       "    </tr>\n",
       "  </tbody>\n",
       "</table>\n",
       "</div>"
      ],
      "text/plain": [
       "   user_id                      date direction  internal  operator_id  \\\n",
       "1   166377 2019-08-05 00:00:00+03:00       out      True       880022   \n",
       "2   166377 2019-08-05 00:00:00+03:00       out      True       880020   \n",
       "3   166377 2019-08-05 00:00:00+03:00       out      True       880020   \n",
       "4   166377 2019-08-05 00:00:00+03:00       out     False       880022   \n",
       "5   166377 2019-08-05 00:00:00+03:00       out     False       880020   \n",
       "\n",
       "   is_missed_call  calls_count  call_duration  total_call_duration  \\\n",
       "1            True            3              0                    5   \n",
       "2            True            1              0                    1   \n",
       "3           False            1             10                   18   \n",
       "4            True            3              0                   25   \n",
       "5           False            2              3                   29   \n",
       "\n",
       "   wait_duration  \n",
       "1              5  \n",
       "2              1  \n",
       "3              8  \n",
       "4             25  \n",
       "5             26  "
      ]
     },
     "metadata": {},
     "output_type": "display_data"
    }
   ],
   "source": [
    "# Creación de la columna 'wait_duration' que almacena solo la duración de llamadas en espera\n",
    "telecom_free_null['wait_duration'] = telecom_free_null['total_call_duration'] - telecom_free_null['call_duration']\n",
    "\n",
    "# Verificación de la columna agregada\n",
    "display(telecom_free_null.head())"
   ]
  },
  {
   "cell_type": "markdown",
   "metadata": {},
   "source": [
    "__¿Quienes son los operadores que hacen un tiempo de espera prolongado para llamadas entrantes?__\n",
    "\n",
    "Se puede obserbar la gran diferencia el mayor tiempo de espera promedio que se tiene es de 1007.37 segundos (17 minutos aprox) hecho por el operador Id 919794, después hay un desceso de tiempo hasta 889.80 segundos por  el operador 906070 y 866.80 del operador 919790 (14 minutos aprox en ambos), y aunque se puede ver que el tiempo de espera esta bajando rápidamente aún así es excesivamente prolongado para lo que se espera, esto nos puede dar a entender que puede haber un problema en la distribución de llamadas, desempeño individual de estos operadores o insuficiencia de personal."
   ]
  },
  {
   "cell_type": "code",
   "execution_count": 71,
   "metadata": {
    "trusted": true
   },
   "outputs": [
    {
     "data": {
      "text/html": [
       "<div>\n",
       "<style scoped>\n",
       "    .dataframe tbody tr th:only-of-type {\n",
       "        vertical-align: middle;\n",
       "    }\n",
       "\n",
       "    .dataframe tbody tr th {\n",
       "        vertical-align: top;\n",
       "    }\n",
       "\n",
       "    .dataframe thead th {\n",
       "        text-align: right;\n",
       "    }\n",
       "</style>\n",
       "<table border=\"1\" class=\"dataframe\">\n",
       "  <thead>\n",
       "    <tr style=\"text-align: right;\">\n",
       "      <th></th>\n",
       "      <th>operator_id</th>\n",
       "      <th>wait_duration</th>\n",
       "    </tr>\n",
       "  </thead>\n",
       "  <tbody>\n",
       "    <tr>\n",
       "      <th>337</th>\n",
       "      <td>919794</td>\n",
       "      <td>1007.375000</td>\n",
       "    </tr>\n",
       "    <tr>\n",
       "      <th>206</th>\n",
       "      <td>906070</td>\n",
       "      <td>889.800000</td>\n",
       "    </tr>\n",
       "    <tr>\n",
       "      <th>335</th>\n",
       "      <td>919790</td>\n",
       "      <td>866.803279</td>\n",
       "    </tr>\n",
       "    <tr>\n",
       "      <th>445</th>\n",
       "      <td>931458</td>\n",
       "      <td>681.961538</td>\n",
       "    </tr>\n",
       "    <tr>\n",
       "      <th>358</th>\n",
       "      <td>921318</td>\n",
       "      <td>615.418182</td>\n",
       "    </tr>\n",
       "    <tr>\n",
       "      <th>207</th>\n",
       "      <td>906076</td>\n",
       "      <td>611.500000</td>\n",
       "    </tr>\n",
       "    <tr>\n",
       "      <th>333</th>\n",
       "      <td>919552</td>\n",
       "      <td>561.757576</td>\n",
       "    </tr>\n",
       "    <tr>\n",
       "      <th>328</th>\n",
       "      <td>919204</td>\n",
       "      <td>550.941176</td>\n",
       "    </tr>\n",
       "    <tr>\n",
       "      <th>288</th>\n",
       "      <td>913938</td>\n",
       "      <td>526.974026</td>\n",
       "    </tr>\n",
       "    <tr>\n",
       "      <th>334</th>\n",
       "      <td>919554</td>\n",
       "      <td>503.157895</td>\n",
       "    </tr>\n",
       "  </tbody>\n",
       "</table>\n",
       "</div>"
      ],
      "text/plain": [
       "     operator_id  wait_duration\n",
       "337       919794    1007.375000\n",
       "206       906070     889.800000\n",
       "335       919790     866.803279\n",
       "445       931458     681.961538\n",
       "358       921318     615.418182\n",
       "207       906076     611.500000\n",
       "333       919552     561.757576\n",
       "328       919204     550.941176\n",
       "288       913938     526.974026\n",
       "334       919554     503.157895"
      ]
     },
     "metadata": {},
     "output_type": "display_data"
    },
    {
     "data": {
      "text/plain": [
       "(754, 2)"
      ]
     },
     "execution_count": 71,
     "metadata": {},
     "output_type": "execute_result"
    }
   ],
   "source": [
    "# Filtro de llamadas entrantes\n",
    "in_call = telecom_free_null[telecom_free_null['direction'] == 'in']\n",
    "\n",
    "# Tabla con filtro 'in' que muestra el promedio de tiempo de espera que hace cada operador\n",
    "wait_call_per_operator =  in_call.groupby('operator_id')['wait_duration'].mean().reset_index()\n",
    "wait_call_per_operators = wait_call_per_operator.sort_values(by = 'wait_duration', ascending=False)\n",
    "\n",
    "display(wait_call_per_operators.head(10))\n",
    "wait_call_per_operator.shape"
   ]
  },
  {
   "cell_type": "markdown",
   "metadata": {},
   "source": [
    "El diagrama nos muestra que existen muchos operadores que pueden sobrepasar el rango de los operadores que se consideran eficaces, estos pueden llegara tener mas de 190 segundos por encima (siendo este un rango dado a simple vista). Para confirmar esto es necesario sacar los percentiles que nos pueden confirmar cúal es la cantidad ideal de llamadas perdidas."
   ]
  },
  {
   "cell_type": "code",
   "execution_count": 109,
   "metadata": {
    "trusted": true
   },
   "outputs": [
    {
     "data": {
      "text/plain": [
       "<matplotlib.collections.PathCollection at 0x7fd1c04a9f40>"
      ]
     },
     "execution_count": 109,
     "metadata": {},
     "output_type": "execute_result"
    },
    {
     "data": {
      "image/png": "[encoded data removed]",
      "text/plain": [
       "<Figure size 640x480 with 1 Axes>"
      ]
     },
     "metadata": {},
     "output_type": "display_data"
    }
   ],
   "source": [
    "# Rango de números desde 0 hasta el número de observaciones en wait_call_per_operator\n",
    "x_values = pd.Series(range(0,len(wait_call_per_operator)))\n",
    "\n",
    "# Diagrama\n",
    "plt.scatter(x_values, wait_call_per_operator['wait_duration'], color = 'skyblue')"
   ]
  },
  {
   "cell_type": "markdown",
   "metadata": {},
   "source": [
    "Para observar el umbral claramente en este caso se calculará con percentiles de 75, 90 y 95. El primero nos ayudará a identificar operadores que están por encima del desempeño promedio aceptable, el percentil 90 a operadores en casos peores a el anterior y en el caso de los percentil 95 son casos extremos.\n",
    "\n",
    "En este caso el percentil 75 nos muestra el umbral de un desempeño aceptable es de 58 segundos de espera en promedio, fuera de lo ideal siendo el 10% son 114.05 segundos (1 minuto aprox) y el percentil 95 nos muestra los operadores que se salen por mucho de lo ideal a partir de 187.41 segundos (3 minutos aprox) en adelante. La gráfica nos da una representación de una imagen clara de estos datos se identifica con la linea amarilla el percentil 75 que muestra el limite de la eficacia entre operadores, el naranja que muestra los operadores que estan en el 'limbo' de ser ineficaces o eficaes y la linea roja que representa el percentil 95 nos muestra casos críticos entre los operadores."
   ]
  },
  {
   "cell_type": "code",
   "execution_count": 74,
   "metadata": {
    "trusted": true
   },
   "outputs": [
    {
     "name": "stdout",
     "output_type": "stream",
     "text": [
      "58.0\n",
      "114.05000000000007\n",
      "187.41348039215686\n"
     ]
    }
   ],
   "source": [
    "percentil_75_wait = np.percentile(wait_call_per_operator['wait_duration'], 75)\n",
    "percentil_90_wait = np.percentile(wait_call_per_operator['wait_duration'], 90)\n",
    "percentil_95_wait = np.percentile(wait_call_per_operator['wait_duration'], 95)\n",
    "\n",
    "print(percentil_75_wait)\n",
    "print(percentil_90_wait)\n",
    "print(percentil_95_wait)"
   ]
  },
  {
   "cell_type": "code",
   "execution_count": 124,
   "metadata": {
    "trusted": true
   },
   "outputs": [
    {
     "data": {
      "text/plain": [
       "<matplotlib.legend.Legend at 0x7fd1bf618d30>"
      ]
     },
     "execution_count": 124,
     "metadata": {},
     "output_type": "execute_result"
    },
    {
     "data": {
      "image/png": "[encoded data removed]",
      "text/plain": [
       "<Figure size 1200x600 with 1 Axes>"
      ]
     },
     "metadata": {},
     "output_type": "display_data"
    }
   ],
   "source": [
    "plt.figure(figsize=(12, 6))\n",
    "plt.hist(wait_call_per_operator['wait_duration'], bins = 50, color = 'skyblue', edgecolor = 'grey', log = True)\n",
    "plt.axvline(percentil_75_wait, color = 'yellow', linestyle = 'dashed', linewidth = 1.5, label = f'Percentil 75 = {percentil_75_wait}')\n",
    "plt.axvline(percentil_90_wait, color = 'orange', linestyle = 'dashed', linewidth = 1.5, label = f'Percentil 90 = {percentil_90_wait}')\n",
    "plt.axvline(percentil_95_wait, color = 'red', linestyle = 'dashed', linewidth = 1.5, label = f'Percentil 95 = {percentil_95_wait}')\n",
    "\n",
    "plt.title('Distribución de tiempo de espera por operador')\n",
    "plt.xlabel('Tiempo promedio de espera')\n",
    "plt.ylabel('Frecuencia de operadores')\n",
    "plt.legend()"
   ]
  },
  {
   "cell_type": "markdown",
   "metadata": {},
   "source": [
    "### Identifica los operadores con actividad baja en llamadas salientes"
   ]
  },
  {
   "cell_type": "markdown",
   "metadata": {},
   "source": [
    "Para identificar los operadores que tienen poca actividad al hacer llamadas salientes se deben filtrar las llamadas salientes para después sumar todas por operador, esto nos dará cuantas llamadas ha hache cada operador. Después para tener idea del rango de llamadas que debería tener los operadores es necsesario observar cuáles son los valores atípicos mediante un diagrama y los percentiles. \n",
    "\n",
    "Hay muchos operadores con bajo rendimiento y en este caso el id del operador que encabeza la lista con tan solo 1 llamada es 955086 pero no podría ser señalado como el peor ya que muchos comparten su desempeño así que sera mejor visualizar cuantos operadores tienen ese desempeño y compararlos con los demás que tambien estan por debajo de lo recomendable."
   ]
  },
  {
   "cell_type": "code",
   "execution_count": 121,
   "metadata": {
    "trusted": true
   },
   "outputs": [
    {
     "data": {
      "text/html": [
       "<div>\n",
       "<style scoped>\n",
       "    .dataframe tbody tr th:only-of-type {\n",
       "        vertical-align: middle;\n",
       "    }\n",
       "\n",
       "    .dataframe tbody tr th {\n",
       "        vertical-align: top;\n",
       "    }\n",
       "\n",
       "    .dataframe thead th {\n",
       "        text-align: right;\n",
       "    }\n",
       "</style>\n",
       "<table border=\"1\" class=\"dataframe\">\n",
       "  <thead>\n",
       "    <tr style=\"text-align: right;\">\n",
       "      <th></th>\n",
       "      <th>operator_id</th>\n",
       "      <th>calls_count</th>\n",
       "    </tr>\n",
       "  </thead>\n",
       "  <tbody>\n",
       "    <tr>\n",
       "      <th>793</th>\n",
       "      <td>955086</td>\n",
       "      <td>1</td>\n",
       "    </tr>\n",
       "    <tr>\n",
       "      <th>841</th>\n",
       "      <td>963716</td>\n",
       "      <td>1</td>\n",
       "    </tr>\n",
       "    <tr>\n",
       "      <th>293</th>\n",
       "      <td>914272</td>\n",
       "      <td>1</td>\n",
       "    </tr>\n",
       "    <tr>\n",
       "      <th>495</th>\n",
       "      <td>932246</td>\n",
       "      <td>1</td>\n",
       "    </tr>\n",
       "    <tr>\n",
       "      <th>168</th>\n",
       "      <td>902238</td>\n",
       "      <td>1</td>\n",
       "    </tr>\n",
       "    <tr>\n",
       "      <th>653</th>\n",
       "      <td>941816</td>\n",
       "      <td>1</td>\n",
       "    </tr>\n",
       "    <tr>\n",
       "      <th>853</th>\n",
       "      <td>966686</td>\n",
       "      <td>1</td>\n",
       "    </tr>\n",
       "    <tr>\n",
       "      <th>654</th>\n",
       "      <td>941826</td>\n",
       "      <td>1</td>\n",
       "    </tr>\n",
       "    <tr>\n",
       "      <th>102</th>\n",
       "      <td>895266</td>\n",
       "      <td>1</td>\n",
       "    </tr>\n",
       "    <tr>\n",
       "      <th>545</th>\n",
       "      <td>937720</td>\n",
       "      <td>1</td>\n",
       "    </tr>\n",
       "  </tbody>\n",
       "</table>\n",
       "</div>"
      ],
      "text/plain": [
       "     operator_id  calls_count\n",
       "793       955086            1\n",
       "841       963716            1\n",
       "293       914272            1\n",
       "495       932246            1\n",
       "168       902238            1\n",
       "653       941816            1\n",
       "853       966686            1\n",
       "654       941826            1\n",
       "102       895266            1\n",
       "545       937720            1"
      ]
     },
     "metadata": {},
     "output_type": "display_data"
    },
    {
     "data": {
      "text/plain": [
       "(882, 2)"
      ]
     },
     "execution_count": 121,
     "metadata": {},
     "output_type": "execute_result"
    }
   ],
   "source": [
    "# Filtro para llamadas salientes\n",
    "out_calls = telecom_free_null[telecom_free_null['direction'] == 'out']\n",
    "\n",
    "# Tabla con filtro 'out' que muestra la suma de 'calls_counts'\n",
    "out_call_per_operators = out_calls.groupby('operator_id')['calls_count'].sum().reset_index()\n",
    "out_call_per_operator = out_call_per_operators.sort_values(by = 'calls_count', ascending = True)\n",
    "\n",
    "# Verificación \n",
    "display(out_call_per_operator.head(10))\n",
    "out_call_per_operator.shape"
   ]
  },
  {
   "cell_type": "markdown",
   "metadata": {},
   "source": [
    "El diagrama nos muestra en este caso que no hay muchos valores atípicos que pueden llegar hasta 60 000 de llamadas salientes acumuladas, en este caso como lo ideal es que se hagan el mayor número de llamadas los valores atípicos serían los que esten más apegados a la linea x. Se puede obserbar que hay gran acumulación de operadores que no hacen el promedio de llamadas salientes correspondientes."
   ]
  },
  {
   "cell_type": "code",
   "execution_count": 110,
   "metadata": {
    "trusted": true
   },
   "outputs": [
    {
     "data": {
      "text/plain": [
       "<matplotlib.collections.PathCollection at 0x7fd1c0411190>"
      ]
     },
     "execution_count": 110,
     "metadata": {},
     "output_type": "execute_result"
    },
    {
     "data": {
      "image/png": "[encoded data removed]",
      "text/plain": [
       "<Figure size 640x480 with 1 Axes>"
      ]
     },
     "metadata": {},
     "output_type": "display_data"
    }
   ],
   "source": [
    "# Rango de números desde 0 hasta el número de observaciones en out_call_per_operators\n",
    "x_values = pd.Series(range(0,len(out_call_per_operators)))\n",
    "\n",
    "# Diagrama\n",
    "plt.scatter(x_values, out_call_per_operators['calls_count'], color = 'skyblue')"
   ]
  },
  {
   "cell_type": "markdown",
   "metadata": {},
   "source": [
    "Los percentiles muestran que el 5% de los operadores rondan entre las 2 362 o más llamadas salientes hechas,mucho más de lo pedido. El percentil 90 nos muestra que el 10% hace 1 602 llamadas salientes, y el percentil 75 que es lo minímo ideal de llamadas que se deberían hacer es de 597. Esto nos da a entender que los números son muy bajos por parte de los operadores que no llenan el requicito minímo."
   ]
  },
  {
   "cell_type": "code",
   "execution_count": 94,
   "metadata": {
    "trusted": true
   },
   "outputs": [
    {
     "name": "stdout",
     "output_type": "stream",
     "text": [
      "597.25\n",
      "1602.9\n",
      "2362.95\n"
     ]
    }
   ],
   "source": [
    "percentil_75_callout = np.percentile(out_call_per_operators['calls_count'], 75)\n",
    "percentil_90_callout = np.percentile(out_call_per_operators['calls_count'], 90)\n",
    "percentil_95_callout = np.percentile(out_call_per_operators['calls_count'], 95)\n",
    "\n",
    "print(percentil_75_callout)\n",
    "print(percentil_90_callout)\n",
    "print(percentil_95_callout)"
   ]
  },
  {
   "cell_type": "markdown",
   "metadata": {},
   "source": [
    "En este caso los operadores con bajo rendimiento de llamadas salientes es más de la mitad de estos a diferencia de lo que hemos visto a lo largo del análisis, esto es alarmante ya que puede ocasionar perdida de ingresos adicionales, aumento de cancelación por parte de los clientes e incluso se puede perder información valiosa para mejorar los servicios.\n",
    "\n",
    "Se observa que en la gráfica hay más de 60 operadores que solo han hecho 1 llamada, esto baja en gran medida con alrededor de 28 operadores que hicieron 2 llamadas y 25 con 3 llamadas salientes. A lo largo del gráfico se muestra que después de los operadores que hicieron de 1 a 3 llamadas hay una baja de operadores que no tuvo buen rendimiento en hacer las llamadas aún hay muchos picos alrededor de 10 000 y 60 000 operadores teniendo bajo rendimiento este comportamiento pueder ser causado por falta de capacitación, problemas técnicos o de distribución adecuada, desmotivación o deficiencias en la supervisión."
   ]
  },
  {
   "cell_type": "code",
   "execution_count": 118,
   "metadata": {
    "trusted": true
   },
   "outputs": [
    {
     "name": "stderr",
     "output_type": "stream",
     "text": [
      "No handles with labels found to put in legend.\n"
     ]
    },
    {
     "data": {
      "text/plain": [
       "<matplotlib.legend.Legend at 0x7fd1bfa78fd0>"
      ]
     },
     "execution_count": 118,
     "metadata": {},
     "output_type": "execute_result"
    },
    {
     "data": {
      "image/png": "[encoded data removed]",
      "text/plain": [
       "<Figure size 1200x600 with 1 Axes>"
      ]
     },
     "metadata": {},
     "output_type": "display_data"
    }
   ],
   "source": [
    "plt.figure(figsize=(12, 6))\n",
    "plt.hist(out_call_per_operators['calls_count'], bins = 60, color = 'skyblue', edgecolor = 'grey', log = True)\n",
    "plt.title('Distribución de llamadas salientes por operador')\n",
    "plt.xlabel('Número de llamadas salientes realizadas por operador')\n",
    "plt.ylabel('Número de operadores')\n",
    "plt.legend()"
   ]
  },
  {
   "cell_type": "markdown",
   "metadata": {},
   "source": [
    " ###  Identifica los operadores que tienen bajo rendimiento en más de 1 críterio y se concidere ineficaz"
   ]
  },
  {
   "cell_type": "markdown",
   "metadata": {},
   "source": [
    "Para identificar los operadores que tienen más de un críterio con bajo rendimiento primero hay que unir mediante merge las tablas hechas anteriormente que son `total_misscall` que almacena los operadores y su total de llamadas entrantes perdidas, `wait_call_per_operator` almacena los operadores  y su tiempo promedio de espera en las llamadas, por último la tabla `out_call_per_operator` que almacena las llamadas salientes que hace cada operador. Teniendo la tabla `ineff_operators`, que es la union de las tablas antes mencionadas, es necesario obtener los valores límite que en este caso se usarán los percentiles 75 que nos da a los operadores que están por encima del desempeño promedio aceptable de cada críterio columna para después crear la columna `ineffective` que mediante una métrica filtre los valores límite y de como resultado con cuántos críterios tiene cada operador."
   ]
  },
  {
   "cell_type": "code",
   "execution_count": 103,
   "metadata": {
    "trusted": true
   },
   "outputs": [
    {
     "data": {
      "text/html": [
       "<div>\n",
       "<style scoped>\n",
       "    .dataframe tbody tr th:only-of-type {\n",
       "        vertical-align: middle;\n",
       "    }\n",
       "\n",
       "    .dataframe tbody tr th {\n",
       "        vertical-align: top;\n",
       "    }\n",
       "\n",
       "    .dataframe thead th {\n",
       "        text-align: right;\n",
       "    }\n",
       "</style>\n",
       "<table border=\"1\" class=\"dataframe\">\n",
       "  <thead>\n",
       "    <tr style=\"text-align: right;\">\n",
       "      <th></th>\n",
       "      <th>operator_id</th>\n",
       "      <th>miss_calls</th>\n",
       "      <th>wait_duration</th>\n",
       "      <th>insuff_calls</th>\n",
       "    </tr>\n",
       "  </thead>\n",
       "  <tbody>\n",
       "    <tr>\n",
       "      <th>0</th>\n",
       "      <td>913942</td>\n",
       "      <td>52.0</td>\n",
       "      <td>347.917647</td>\n",
       "      <td>440.0</td>\n",
       "    </tr>\n",
       "    <tr>\n",
       "      <th>1</th>\n",
       "      <td>940588</td>\n",
       "      <td>30.0</td>\n",
       "      <td>127.230769</td>\n",
       "      <td>67.0</td>\n",
       "    </tr>\n",
       "    <tr>\n",
       "      <th>2</th>\n",
       "      <td>944226</td>\n",
       "      <td>30.0</td>\n",
       "      <td>153.580000</td>\n",
       "      <td>109.0</td>\n",
       "    </tr>\n",
       "    <tr>\n",
       "      <th>3</th>\n",
       "      <td>885890</td>\n",
       "      <td>26.0</td>\n",
       "      <td>120.276596</td>\n",
       "      <td>58977.0</td>\n",
       "    </tr>\n",
       "    <tr>\n",
       "      <th>4</th>\n",
       "      <td>944216</td>\n",
       "      <td>24.0</td>\n",
       "      <td>160.923077</td>\n",
       "      <td>133.0</td>\n",
       "    </tr>\n",
       "  </tbody>\n",
       "</table>\n",
       "</div>"
      ],
      "text/plain": [
       "   operator_id  miss_calls  wait_duration  insuff_calls\n",
       "0       913942        52.0     347.917647         440.0\n",
       "1       940588        30.0     127.230769          67.0\n",
       "2       944226        30.0     153.580000         109.0\n",
       "3       885890        26.0     120.276596       58977.0\n",
       "4       944216        24.0     160.923077         133.0"
      ]
     },
     "metadata": {},
     "output_type": "display_data"
    }
   ],
   "source": [
    "# Union mediante merge de la tabla 'ineff_operators'\n",
    "ineff_operators = total_misscall.merge(wait_call_per_operator, on = 'operator_id', how = 'outer')\n",
    "ineff_operators = ineff_operators.merge(out_call_per_operator, on = 'operator_id', how = 'outer')\n",
    "\n",
    "# Cambio de nombre de las columnas calls_count\n",
    "ineff_operators = ineff_operators.rename(columns={'calls_count_x': 'miss_calls', 'calls_count_y': 'insuff_calls'})\n",
    "\n",
    "display(ineff_operators.head())"
   ]
  },
  {
   "cell_type": "code",
   "execution_count": 104,
   "metadata": {
    "trusted": true
   },
   "outputs": [],
   "source": [
    "#  Creación de la columna 'ineffective' según ineficiencia de los valores límite\n",
    "ineff_operators['ineffective'] = (\n",
    "    (ineff_operators['miss_calls'] > percentil_75_misscall).astype(int) +\n",
    "    (ineff_operators['wait_duration'] > percentil_75_wait).astype(int) +\n",
    "    (ineff_operators['insuff_calls'] < percentil_75_callout).astype(int)\n",
    ")"
   ]
  },
  {
   "cell_type": "markdown",
   "metadata": {},
   "source": [
    "Son 126 operadores que tienen 2 o más críterios de ineficacia acumulados, esta tabla nos da el Id de los operadores que no cumplen eficientemente con el rendimiento esperado dentro de la empresa, también muestra los críterios individuales como son las llamadas perdidas, el tiempo de espera y las llamadas salientes que se hicieron. Ve mos al operador 906410 ocupando el primer lugar en ineficacia, seguido del los operadores 919206 y 945046 aunque estos lugares pueden ser relativos dependiendo el enfoque que se dé por ejemplo aunque esta en primer lugar tiene menos llamadas perdidas que el segundo lugar al igula que menos tiempo de espera."
   ]
  },
  {
   "cell_type": "code",
   "execution_count": 105,
   "metadata": {
    "trusted": true
   },
   "outputs": [
    {
     "data": {
      "text/html": [
       "<div>\n",
       "<style scoped>\n",
       "    .dataframe tbody tr th:only-of-type {\n",
       "        vertical-align: middle;\n",
       "    }\n",
       "\n",
       "    .dataframe tbody tr th {\n",
       "        vertical-align: top;\n",
       "    }\n",
       "\n",
       "    .dataframe thead th {\n",
       "        text-align: right;\n",
       "    }\n",
       "</style>\n",
       "<table border=\"1\" class=\"dataframe\">\n",
       "  <thead>\n",
       "    <tr style=\"text-align: right;\">\n",
       "      <th></th>\n",
       "      <th>operator_id</th>\n",
       "      <th>miss_calls</th>\n",
       "      <th>wait_duration</th>\n",
       "      <th>insuff_calls</th>\n",
       "      <th>ineffective</th>\n",
       "    </tr>\n",
       "  </thead>\n",
       "  <tbody>\n",
       "    <tr>\n",
       "      <th>0</th>\n",
       "      <td>913942</td>\n",
       "      <td>52.0</td>\n",
       "      <td>347.917647</td>\n",
       "      <td>440.0</td>\n",
       "      <td>3</td>\n",
       "    </tr>\n",
       "    <tr>\n",
       "      <th>38</th>\n",
       "      <td>919166</td>\n",
       "      <td>6.0</td>\n",
       "      <td>401.714286</td>\n",
       "      <td>20.0</td>\n",
       "      <td>3</td>\n",
       "    </tr>\n",
       "    <tr>\n",
       "      <th>26</th>\n",
       "      <td>919206</td>\n",
       "      <td>9.0</td>\n",
       "      <td>388.052632</td>\n",
       "      <td>1.0</td>\n",
       "      <td>3</td>\n",
       "    </tr>\n",
       "    <tr>\n",
       "      <th>25</th>\n",
       "      <td>919204</td>\n",
       "      <td>9.0</td>\n",
       "      <td>550.941176</td>\n",
       "      <td>9.0</td>\n",
       "      <td>3</td>\n",
       "    </tr>\n",
       "    <tr>\n",
       "      <th>31</th>\n",
       "      <td>906410</td>\n",
       "      <td>7.0</td>\n",
       "      <td>177.500000</td>\n",
       "      <td>19.0</td>\n",
       "      <td>3</td>\n",
       "    </tr>\n",
       "    <tr>\n",
       "      <th>18</th>\n",
       "      <td>919554</td>\n",
       "      <td>11.0</td>\n",
       "      <td>503.157895</td>\n",
       "      <td>11.0</td>\n",
       "      <td>3</td>\n",
       "    </tr>\n",
       "    <tr>\n",
       "      <th>1</th>\n",
       "      <td>940588</td>\n",
       "      <td>30.0</td>\n",
       "      <td>127.230769</td>\n",
       "      <td>67.0</td>\n",
       "      <td>3</td>\n",
       "    </tr>\n",
       "    <tr>\n",
       "      <th>16</th>\n",
       "      <td>913938</td>\n",
       "      <td>14.0</td>\n",
       "      <td>526.974026</td>\n",
       "      <td>408.0</td>\n",
       "      <td>3</td>\n",
       "    </tr>\n",
       "    <tr>\n",
       "      <th>15</th>\n",
       "      <td>908960</td>\n",
       "      <td>14.0</td>\n",
       "      <td>150.592593</td>\n",
       "      <td>113.0</td>\n",
       "      <td>3</td>\n",
       "    </tr>\n",
       "    <tr>\n",
       "      <th>13</th>\n",
       "      <td>944218</td>\n",
       "      <td>15.0</td>\n",
       "      <td>187.416667</td>\n",
       "      <td>164.0</td>\n",
       "      <td>3</td>\n",
       "    </tr>\n",
       "  </tbody>\n",
       "</table>\n",
       "</div>"
      ],
      "text/plain": [
       "    operator_id  miss_calls  wait_duration  insuff_calls  ineffective\n",
       "0        913942        52.0     347.917647         440.0            3\n",
       "38       919166         6.0     401.714286          20.0            3\n",
       "26       919206         9.0     388.052632           1.0            3\n",
       "25       919204         9.0     550.941176           9.0            3\n",
       "31       906410         7.0     177.500000          19.0            3\n",
       "18       919554        11.0     503.157895          11.0            3\n",
       "1        940588        30.0     127.230769          67.0            3\n",
       "16       913938        14.0     526.974026         408.0            3\n",
       "15       908960        14.0     150.592593         113.0            3\n",
       "13       944218        15.0     187.416667         164.0            3"
      ]
     },
     "metadata": {},
     "output_type": "display_data"
    },
    {
     "data": {
      "text/plain": [
       "(126, 5)"
      ]
     },
     "execution_count": 105,
     "metadata": {},
     "output_type": "execute_result"
    }
   ],
   "source": [
    "# Filtro que identifica los operadores con 2 o más críterios acumulados \n",
    "ineffective_ops = ineff_operators[ineff_operators['ineffective'] >= 2]\n",
    "\n",
    "display(ineffective_ops.sort_values(by = 'ineffective', ascending = False).head(10))\n",
    "ineffective_ops.shape"
   ]
  },
  {
   "cell_type": "markdown",
   "metadata": {},
   "source": [
    "La distribución de puntuación nos muestra que son más los operadores que cuentan con gran eficiencia contando con nulos malos críterios o solamente 1 esto son buenas noticias para la empresa. Por otra parte podemos obserbar que los que cuentan con 2 críterios acumulados son 108 operadores y con 3 son solamente 18."
   ]
  },
  {
   "cell_type": "code",
   "execution_count": 106,
   "metadata": {
    "trusted": true
   },
   "outputs": [
    {
     "data": {
      "text/plain": [
       "0    339\n",
       "1    627\n",
       "2    108\n",
       "3     18\n",
       "Name: ineffective, dtype: int64"
      ]
     },
     "metadata": {},
     "output_type": "display_data"
    }
   ],
   "source": [
    "# Variable que muestra la distribución de puntuación de ineficacia de los operadores\n",
    "distribution_ineff = ineff_operators['ineffective'].value_counts().sort_index()\n",
    "\n",
    "display(distribution_ineff)"
   ]
  },
  {
   "cell_type": "code",
   "execution_count": 122,
   "metadata": {
    "trusted": true
   },
   "outputs": [
    {
     "data": {
      "image/png": "[encoded data removed]",
      "text/plain": [
       "<Figure size 1200x600 with 1 Axes>"
      ]
     },
     "metadata": {},
     "output_type": "display_data"
    }
   ],
   "source": [
    "# Gráfica para visualizar la distribución de puntuación de ineficiencia entre los operadores\n",
    "distribution_ineff.plot(kind = 'bar', color = 'skyblue', figsize = (12, 6))\n",
    "plt.title('Distribución de puntuación de ineficiencia')\n",
    "plt.xlabel('Puntos de ineficiencia donde 0 es eficaz y 3 es muy ineficaz')\n",
    "plt.ylabel('Cantidad de operadores')\n",
    "plt.grid(axis = 'y', linestyle = '--', alpha = 0.5)\n",
    "plt.xticks(rotation = 0)\n",
    "plt.show()"
   ]
  },
  {
   "cell_type": "markdown",
   "metadata": {},
   "source": [
    "## Hipótesis"
   ]
  },
  {
   "cell_type": "markdown",
   "metadata": {},
   "source": [
    "La hipótesis planteada a continuación surgió al visualizar la gráfica y datos de llamadas perdidas entrantes, ya que como mencioné antes que es cierto que hay algunos operadores con una cantidad considerable de llamadas perdidas también creo que los números bajan considerablemente y se mantienen constantes, por eso decidí verificar si hay una diferencia significativa en la cantidad de llamadas perdidas entre operadores ineficaces y eficaces mediante la prueba no paramétrica de Wilcoxon-Mann-Whitney."
   ]
  },
  {
   "cell_type": "markdown",
   "metadata": {},
   "source": [
    "__Hipótesis nula:__ No hay diferencia significativa en la cantidad de llamadas perdidas entre operadores ineficaces y eficaces.\n",
    "\n",
    "__Hipótesis alternativa:__ Los operadores ineficaces tienen una cantidad significativamente mayor de llamadas perdidas en comparación con los eficaces."
   ]
  },
  {
   "cell_type": "code",
   "execution_count": 88,
   "metadata": {
    "trusted": true
   },
   "outputs": [
    {
     "name": "stdout",
     "output_type": "stream",
     "text": [
      "Estadístico de prueba: 0.0\n",
      "Valor p: 5.972612138859504e-30\n",
      "Rechazamos la hipótesis nula: Los operadores ineficaces tienen una cantidad significativamente mayor de llamadas perdidas en comparación con los eficaces.\n"
     ]
    }
   ],
   "source": [
    "operador_eficaz = total_misscall[total_misscall['calls_count'] <= percentil_75_misscall]['calls_count']\n",
    "operador_ineficaz = total_misscall[total_misscall['calls_count'] > percentil_75_misscall]['calls_count']\n",
    "\n",
    "alpha = 0.05\n",
    "\n",
    "stat, p_valor = stats.mannwhitneyu(operador_eficaz, operador_ineficaz, alternative='less')\n",
    "\n",
    "print('Estadístico de prueba:', stat)\n",
    "print('Valor p:', p_valor)\n",
    "\n",
    "\n",
    "if p_valor < alpha:\n",
    "    print('Rechazamos la hipótesis nula: Los operadores ineficaces tienen una cantidad significativamente mayor de llamadas perdidas en comparación con los eficaces.')\n",
    "else:\n",
    "    print('No podemos rechazar la hipótesis nula: No hay diferencia significativa en la cantidad de llamadas perdidas entre operadores ineficaces y eficaces.')"
   ]
  },
  {
   "cell_type": "markdown",
   "metadata": {},
   "source": [
    "Como podemos ver la hipótesis nula fue rechazada lo que indica que los operadores ineficaces tienen una cantidad significativamente mayor de llamadas perdidas en comparación con los eficaces lo que claramnete puede considerarse un problema porque puede causar perdida de clientela, mala fama o marketing, quejas contantes, etc. Aunque por otro lado más positivo también se abre la puerta a nuevas estrategias que cambien el panorama y erradiquen el problema."
   ]
  },
  {
   "cell_type": "markdown",
   "metadata": {},
   "source": [
    "## Conclusión"
   ]
  },
  {
   "cell_type": "markdown",
   "metadata": {},
   "source": [
    "A lo largo del análisis podemos observar que hay operadores que tienen bajo rendimiento en algunas areas teniendo en cuenta que  ningún Id de estos se repite visiblemente en las tablas que se muestran los 10 operadores más ineficaces, lo que da a entender que aunque estén o no en la lista de operadores ineficaces no hay Ids concentrados en los peores lugares. Recordando que los operadores considerados ineficaces tienen 2 a 3 criterios malos acumulados es visible que es una cantidad mínima a comparación de los operadores eficaces.\n",
    "\n",
    "Estas podrían ser algunas soluciones a problemas que podrían estar causando la ineficiencia por parte de los operadores:\n",
    "  \n",
    "  - Para las llamadas perdidas entrantes: Algunas veces en las horas pico no hay suficiente personal disponible lo que causa aumento de llamadas perdidas en estos casos incrementar el número de operadores en horarios con mayor actividad puede ayudar a disminuir esto. \n",
    "  - Para el tiempo de espera prolongado: esto podría deberse a la falta de capacitación de los operadores por eso recomiendo altamente hacer capacitaciones recurrentes, así también como tener un reglamento claro al que puedan recurrir o también que tengan visualmente su rendimiendo por medio de un dashboard.\n",
    "  - Para la falta de llamadas salientes: puede deberse a la falta de motivación por parte de los empleados por eso recomiendo en estos casos dar incentivos esto ayudará a mejorar la motivación y eficiencia de los operadores, estos se pueden dar después de lograr cierto número de llamadas o por período de tiempo manteniendo un alto rendimiento.\n",
    "  \n",
    "   \n",
    "También para ayudar a solucionar estas tres problematicas se podría recurrir a empresas que se dedican a la mejora de la gestión de las operaciones de servicio dando capacitación a empleados o implementando estrategias según las necesidades de la empresa. A tomar en cuenta 'actdigital'."
   ]
  }
 ],
 "metadata": {
  "ExecuteTimeLog": [
   {
    "duration": 281,
    "start_time": "2025-03-20T15:33:18.655Z"
   },
   {
    "duration": 73,
    "start_time": "2025-03-20T15:43:18.727Z"
   },
   {
    "duration": 13,
    "start_time": "2025-03-20T15:43:28.932Z"
   },
   {
    "duration": 48,
    "start_time": "2025-03-20T15:44:46.326Z"
   },
   {
    "duration": 2,
    "start_time": "2025-03-20T15:45:45.859Z"
   },
   {
    "duration": 38,
    "start_time": "2025-03-20T15:45:46.445Z"
   },
   {
    "duration": 13,
    "start_time": "2025-03-20T15:45:47.593Z"
   },
   {
    "duration": 13,
    "start_time": "2025-03-20T15:46:40.072Z"
   },
   {
    "duration": 23,
    "start_time": "2025-03-20T15:46:51.360Z"
   },
   {
    "duration": 10,
    "start_time": "2025-03-20T15:47:16.229Z"
   },
   {
    "duration": 6,
    "start_time": "2025-03-20T15:47:41.600Z"
   },
   {
    "duration": 9,
    "start_time": "2025-03-20T15:47:58.828Z"
   },
   {
    "duration": 12,
    "start_time": "2025-03-20T16:25:06.442Z"
   },
   {
    "duration": 9,
    "start_time": "2025-03-20T16:27:13.900Z"
   },
   {
    "duration": 306,
    "start_time": "2025-03-21T16:22:42.647Z"
   },
   {
    "duration": 72,
    "start_time": "2025-03-21T16:22:42.955Z"
   },
   {
    "duration": 13,
    "start_time": "2025-03-21T16:22:43.029Z"
   },
   {
    "duration": 13,
    "start_time": "2025-03-21T16:22:43.044Z"
   },
   {
    "duration": 6,
    "start_time": "2025-03-21T16:22:43.058Z"
   },
   {
    "duration": 8,
    "start_time": "2025-03-21T16:22:43.066Z"
   },
   {
    "duration": 31,
    "start_time": "2025-03-21T16:22:43.075Z"
   },
   {
    "duration": 9,
    "start_time": "2025-03-21T16:27:57.544Z"
   },
   {
    "duration": 8,
    "start_time": "2025-03-21T16:38:44.277Z"
   },
   {
    "duration": 7,
    "start_time": "2025-03-21T16:38:44.970Z"
   },
   {
    "duration": 180,
    "start_time": "2025-03-21T16:52:53.440Z"
   },
   {
    "duration": 15,
    "start_time": "2025-03-21T16:53:08.621Z"
   },
   {
    "duration": 11,
    "start_time": "2025-03-21T16:53:38.452Z"
   },
   {
    "duration": 11,
    "start_time": "2025-03-21T16:54:50.986Z"
   },
   {
    "duration": 12,
    "start_time": "2025-03-21T16:55:30.158Z"
   },
   {
    "duration": 12,
    "start_time": "2025-03-21T16:56:00.152Z"
   },
   {
    "duration": 8,
    "start_time": "2025-03-21T16:56:06.862Z"
   },
   {
    "duration": 14,
    "start_time": "2025-03-21T16:56:41.616Z"
   },
   {
    "duration": 12,
    "start_time": "2025-03-21T16:58:22.535Z"
   },
   {
    "duration": 14,
    "start_time": "2025-03-21T16:58:31.200Z"
   },
   {
    "duration": 24,
    "start_time": "2025-03-21T16:59:29.888Z"
   },
   {
    "duration": 13,
    "start_time": "2025-03-21T16:59:38.782Z"
   },
   {
    "duration": 2,
    "start_time": "2025-03-21T17:00:22.553Z"
   },
   {
    "duration": 40,
    "start_time": "2025-03-21T17:00:22.559Z"
   },
   {
    "duration": 15,
    "start_time": "2025-03-21T17:00:22.601Z"
   },
   {
    "duration": 10,
    "start_time": "2025-03-21T17:00:22.618Z"
   },
   {
    "duration": 11,
    "start_time": "2025-03-21T17:00:22.630Z"
   },
   {
    "duration": 7,
    "start_time": "2025-03-21T17:00:22.642Z"
   },
   {
    "duration": 22,
    "start_time": "2025-03-21T17:00:22.651Z"
   },
   {
    "duration": 36,
    "start_time": "2025-03-21T17:00:22.675Z"
   },
   {
    "duration": 12,
    "start_time": "2025-03-21T17:00:22.714Z"
   },
   {
    "duration": 21,
    "start_time": "2025-03-21T17:00:22.728Z"
   },
   {
    "duration": 5,
    "start_time": "2025-03-21T17:08:45.955Z"
   },
   {
    "duration": 6,
    "start_time": "2025-03-21T17:11:48.875Z"
   },
   {
    "duration": 5,
    "start_time": "2025-03-21T17:12:11.154Z"
   },
   {
    "duration": 572,
    "start_time": "2025-03-21T18:12:59.713Z"
   },
   {
    "duration": 15,
    "start_time": "2025-03-21T18:13:13.542Z"
   },
   {
    "duration": 8,
    "start_time": "2025-03-21T18:13:41.632Z"
   },
   {
    "duration": 121,
    "start_time": "2025-03-21T18:13:41.666Z"
   },
   {
    "duration": 37,
    "start_time": "2025-03-21T18:13:41.791Z"
   },
   {
    "duration": 21,
    "start_time": "2025-03-21T18:13:41.845Z"
   },
   {
    "duration": 10,
    "start_time": "2025-03-21T18:13:41.868Z"
   },
   {
    "duration": 7,
    "start_time": "2025-03-21T18:13:41.881Z"
   },
   {
    "duration": 38,
    "start_time": "2025-03-21T18:13:41.890Z"
   },
   {
    "duration": 25,
    "start_time": "2025-03-21T18:13:41.945Z"
   },
   {
    "duration": 16,
    "start_time": "2025-03-21T18:13:41.972Z"
   },
   {
    "duration": 70,
    "start_time": "2025-03-21T18:13:41.990Z"
   },
   {
    "duration": 6,
    "start_time": "2025-03-21T18:13:42.069Z"
   },
   {
    "duration": 7,
    "start_time": "2025-03-21T18:13:42.077Z"
   },
   {
    "duration": 5,
    "start_time": "2025-03-21T18:13:42.085Z"
   },
   {
    "duration": 11,
    "start_time": "2025-03-21T18:13:42.092Z"
   },
   {
    "duration": 19,
    "start_time": "2025-03-21T18:15:58.863Z"
   },
   {
    "duration": 12,
    "start_time": "2025-03-21T18:16:10.854Z"
   },
   {
    "duration": 17,
    "start_time": "2025-03-21T18:17:08.521Z"
   },
   {
    "duration": 14,
    "start_time": "2025-03-21T18:17:29.693Z"
   },
   {
    "duration": 12,
    "start_time": "2025-03-21T18:17:44.494Z"
   },
   {
    "duration": 14,
    "start_time": "2025-03-21T18:17:53.556Z"
   },
   {
    "duration": 17,
    "start_time": "2025-03-21T18:18:09.737Z"
   },
   {
    "duration": 22,
    "start_time": "2025-03-21T18:18:30.929Z"
   },
   {
    "duration": 18,
    "start_time": "2025-03-21T18:19:04.120Z"
   },
   {
    "duration": 12,
    "start_time": "2025-03-21T18:20:57.872Z"
   },
   {
    "duration": 11,
    "start_time": "2025-03-21T18:21:04.983Z"
   },
   {
    "duration": 16,
    "start_time": "2025-03-21T18:21:37.404Z"
   },
   {
    "duration": 14,
    "start_time": "2025-03-21T18:22:23.740Z"
   },
   {
    "duration": 12,
    "start_time": "2025-03-21T18:22:38.282Z"
   },
   {
    "duration": 21,
    "start_time": "2025-03-21T18:22:56.193Z"
   },
   {
    "duration": 19,
    "start_time": "2025-03-21T18:23:37.084Z"
   },
   {
    "duration": 24,
    "start_time": "2025-03-21T18:23:58.039Z"
   },
   {
    "duration": 24,
    "start_time": "2025-03-21T18:24:23.434Z"
   },
   {
    "duration": 22,
    "start_time": "2025-03-21T18:29:10.386Z"
   },
   {
    "duration": 16,
    "start_time": "2025-03-21T18:29:34.529Z"
   },
   {
    "duration": 17,
    "start_time": "2025-03-21T18:31:53.185Z"
   },
   {
    "duration": 14,
    "start_time": "2025-03-21T18:32:18.246Z"
   },
   {
    "duration": 2437,
    "start_time": "2025-03-21T18:33:15.380Z"
   },
   {
    "duration": 54,
    "start_time": "2025-03-21T18:33:17.823Z"
   },
   {
    "duration": 341,
    "start_time": "2025-03-21T18:35:46.962Z"
   },
   {
    "duration": 10,
    "start_time": "2025-03-21T18:38:40.630Z"
   },
   {
    "duration": 51,
    "start_time": "2025-03-21T18:40:41.289Z"
   },
   {
    "duration": 50,
    "start_time": "2025-03-21T18:40:49.110Z"
   },
   {
    "duration": 16,
    "start_time": "2025-03-21T18:41:03.036Z"
   },
   {
    "duration": 71,
    "start_time": "2025-03-21T18:48:14.862Z"
   },
   {
    "duration": 20,
    "start_time": "2025-03-21T18:48:34.688Z"
   },
   {
    "duration": 58,
    "start_time": "2025-03-21T18:48:38.997Z"
   },
   {
    "duration": 310,
    "start_time": "2025-03-21T18:49:33.926Z"
   },
   {
    "duration": 295,
    "start_time": "2025-03-21T18:50:01.896Z"
   },
   {
    "duration": 258,
    "start_time": "2025-03-21T18:50:20.561Z"
   },
   {
    "duration": 235,
    "start_time": "2025-03-21T18:50:43.712Z"
   },
   {
    "duration": 239,
    "start_time": "2025-03-21T18:51:08.758Z"
   },
   {
    "duration": 193,
    "start_time": "2025-03-21T18:51:30.398Z"
   },
   {
    "duration": 147,
    "start_time": "2025-03-21T18:51:55.062Z"
   },
   {
    "duration": 259,
    "start_time": "2025-03-21T18:52:08.260Z"
   },
   {
    "duration": 6,
    "start_time": "2025-03-21T19:12:30.397Z"
   },
   {
    "duration": 4,
    "start_time": "2025-03-21T19:12:30.968Z"
   },
   {
    "duration": 7,
    "start_time": "2025-03-21T19:14:57.875Z"
   },
   {
    "duration": 3,
    "start_time": "2025-03-21T19:14:58.699Z"
   },
   {
    "duration": 6,
    "start_time": "2025-03-21T19:16:05.430Z"
   },
   {
    "duration": 4,
    "start_time": "2025-03-21T19:16:05.772Z"
   },
   {
    "duration": 5,
    "start_time": "2025-03-21T19:16:06.115Z"
   },
   {
    "duration": 3,
    "start_time": "2025-03-21T19:16:06.490Z"
   },
   {
    "duration": 7,
    "start_time": "2025-03-21T19:16:06.957Z"
   },
   {
    "duration": 6,
    "start_time": "2025-03-21T19:17:19.152Z"
   },
   {
    "duration": 3,
    "start_time": "2025-03-21T19:17:19.745Z"
   },
   {
    "duration": 6,
    "start_time": "2025-03-21T19:17:20.170Z"
   },
   {
    "duration": 4,
    "start_time": "2025-03-21T19:18:37.462Z"
   },
   {
    "duration": 4,
    "start_time": "2025-03-21T19:18:40.165Z"
   },
   {
    "duration": 7,
    "start_time": "2025-03-21T19:18:40.824Z"
   },
   {
    "duration": 2,
    "start_time": "2025-03-21T19:21:40.923Z"
   },
   {
    "duration": 43,
    "start_time": "2025-03-21T19:21:40.935Z"
   },
   {
    "duration": 16,
    "start_time": "2025-03-21T19:21:40.980Z"
   },
   {
    "duration": 8,
    "start_time": "2025-03-21T19:21:40.998Z"
   },
   {
    "duration": 9,
    "start_time": "2025-03-21T19:21:41.007Z"
   },
   {
    "duration": 6,
    "start_time": "2025-03-21T19:21:41.020Z"
   },
   {
    "duration": 13,
    "start_time": "2025-03-21T19:21:41.028Z"
   },
   {
    "duration": 7,
    "start_time": "2025-03-21T19:21:41.043Z"
   },
   {
    "duration": 14,
    "start_time": "2025-03-21T19:21:41.052Z"
   },
   {
    "duration": 62,
    "start_time": "2025-03-21T19:21:41.069Z"
   },
   {
    "duration": 5,
    "start_time": "2025-03-21T19:21:41.133Z"
   },
   {
    "duration": 6,
    "start_time": "2025-03-21T19:21:41.139Z"
   },
   {
    "duration": 6,
    "start_time": "2025-03-21T19:21:41.147Z"
   },
   {
    "duration": 11,
    "start_time": "2025-03-21T19:21:41.156Z"
   },
   {
    "duration": 194,
    "start_time": "2025-03-21T19:21:41.169Z"
   },
   {
    "duration": 9,
    "start_time": "2025-03-21T19:21:41.365Z"
   },
   {
    "duration": 5,
    "start_time": "2025-03-21T19:21:41.377Z"
   },
   {
    "duration": 25,
    "start_time": "2025-03-21T19:21:41.383Z"
   },
   {
    "duration": 5,
    "start_time": "2025-03-21T19:21:41.409Z"
   },
   {
    "duration": 8,
    "start_time": "2025-03-21T19:21:41.416Z"
   },
   {
    "duration": 10,
    "start_time": "2025-03-21T19:26:59.040Z"
   },
   {
    "duration": 2164,
    "start_time": "2025-03-22T23:02:05.948Z"
   },
   {
    "duration": 73,
    "start_time": "2025-03-22T23:02:08.115Z"
   },
   {
    "duration": 14,
    "start_time": "2025-03-22T23:02:08.190Z"
   },
   {
    "duration": 10,
    "start_time": "2025-03-22T23:02:08.206Z"
   },
   {
    "duration": 7,
    "start_time": "2025-03-22T23:02:08.218Z"
   },
   {
    "duration": 15,
    "start_time": "2025-03-22T23:02:08.227Z"
   },
   {
    "duration": 13,
    "start_time": "2025-03-22T23:02:08.244Z"
   },
   {
    "duration": 7,
    "start_time": "2025-03-22T23:02:08.259Z"
   },
   {
    "duration": 17,
    "start_time": "2025-03-22T23:02:08.267Z"
   },
   {
    "duration": 24,
    "start_time": "2025-03-22T23:02:08.287Z"
   },
   {
    "duration": 33,
    "start_time": "2025-03-22T23:02:08.313Z"
   },
   {
    "duration": 6,
    "start_time": "2025-03-22T23:02:08.348Z"
   },
   {
    "duration": 5,
    "start_time": "2025-03-22T23:02:08.355Z"
   },
   {
    "duration": 13,
    "start_time": "2025-03-22T23:02:08.361Z"
   },
   {
    "duration": 6,
    "start_time": "2025-03-22T23:02:08.376Z"
   },
   {
    "duration": 181,
    "start_time": "2025-03-22T23:02:08.384Z"
   },
   {
    "duration": 8,
    "start_time": "2025-03-22T23:02:08.567Z"
   },
   {
    "duration": 3,
    "start_time": "2025-03-22T23:02:08.577Z"
   },
   {
    "duration": 4,
    "start_time": "2025-03-22T23:02:08.582Z"
   },
   {
    "duration": 3,
    "start_time": "2025-03-22T23:02:08.588Z"
   },
   {
    "duration": 6,
    "start_time": "2025-03-22T23:02:08.593Z"
   },
   {
    "duration": 2197,
    "start_time": "2025-03-24T15:50:11.561Z"
   },
   {
    "duration": 72,
    "start_time": "2025-03-24T15:50:13.760Z"
   },
   {
    "duration": 14,
    "start_time": "2025-03-24T15:50:13.833Z"
   },
   {
    "duration": 11,
    "start_time": "2025-03-24T15:50:13.850Z"
   },
   {
    "duration": 8,
    "start_time": "2025-03-24T15:50:13.863Z"
   },
   {
    "duration": 6,
    "start_time": "2025-03-24T15:50:13.873Z"
   },
   {
    "duration": 26,
    "start_time": "2025-03-24T15:50:13.880Z"
   },
   {
    "duration": 10,
    "start_time": "2025-03-24T15:50:13.908Z"
   },
   {
    "duration": 14,
    "start_time": "2025-03-24T15:50:13.922Z"
   },
   {
    "duration": 25,
    "start_time": "2025-03-24T15:50:13.939Z"
   },
   {
    "duration": 6,
    "start_time": "2025-03-24T15:50:13.965Z"
   },
   {
    "duration": 6,
    "start_time": "2025-03-24T15:50:14.005Z"
   },
   {
    "duration": 6,
    "start_time": "2025-03-24T15:50:14.012Z"
   },
   {
    "duration": 13,
    "start_time": "2025-03-24T15:50:14.019Z"
   },
   {
    "duration": 8,
    "start_time": "2025-03-24T15:50:14.034Z"
   },
   {
    "duration": 193,
    "start_time": "2025-03-24T15:50:14.043Z"
   },
   {
    "duration": 8,
    "start_time": "2025-03-24T15:50:14.238Z"
   },
   {
    "duration": 3,
    "start_time": "2025-03-24T15:50:14.248Z"
   },
   {
    "duration": 6,
    "start_time": "2025-03-24T15:50:14.253Z"
   },
   {
    "duration": 3,
    "start_time": "2025-03-24T15:50:14.261Z"
   },
   {
    "duration": 6,
    "start_time": "2025-03-24T15:50:14.266Z"
   },
   {
    "duration": 13,
    "start_time": "2025-03-24T15:53:39.113Z"
   },
   {
    "duration": 144,
    "start_time": "2025-03-24T15:53:48.237Z"
   },
   {
    "duration": 13,
    "start_time": "2025-03-24T15:54:58.551Z"
   },
   {
    "duration": 14,
    "start_time": "2025-03-24T15:54:59.150Z"
   },
   {
    "duration": 151,
    "start_time": "2025-03-24T15:54:59.742Z"
   },
   {
    "duration": 15,
    "start_time": "2025-03-24T15:56:08.879Z"
   },
   {
    "duration": 3,
    "start_time": "2025-03-24T15:56:09.801Z"
   },
   {
    "duration": 6,
    "start_time": "2025-03-24T15:56:10.472Z"
   },
   {
    "duration": 14,
    "start_time": "2025-03-24T15:58:29.269Z"
   },
   {
    "duration": 4,
    "start_time": "2025-03-24T15:58:29.798Z"
   },
   {
    "duration": 6,
    "start_time": "2025-03-24T15:58:30.318Z"
   },
   {
    "duration": 14,
    "start_time": "2025-03-24T15:58:31.171Z"
   },
   {
    "duration": 4,
    "start_time": "2025-03-24T15:58:31.576Z"
   },
   {
    "duration": 5,
    "start_time": "2025-03-24T15:58:31.969Z"
   },
   {
    "duration": 11,
    "start_time": "2025-03-24T15:58:32.387Z"
   },
   {
    "duration": 6,
    "start_time": "2025-03-24T15:58:32.844Z"
   },
   {
    "duration": 209,
    "start_time": "2025-03-24T15:58:33.246Z"
   },
   {
    "duration": 21,
    "start_time": "2025-03-24T15:58:33.675Z"
   },
   {
    "duration": 2,
    "start_time": "2025-03-24T16:01:49.567Z"
   },
   {
    "duration": 42,
    "start_time": "2025-03-24T16:01:49.578Z"
   },
   {
    "duration": 15,
    "start_time": "2025-03-24T16:01:49.622Z"
   },
   {
    "duration": 8,
    "start_time": "2025-03-24T16:01:49.639Z"
   },
   {
    "duration": 8,
    "start_time": "2025-03-24T16:01:49.649Z"
   },
   {
    "duration": 7,
    "start_time": "2025-03-24T16:01:49.659Z"
   },
   {
    "duration": 13,
    "start_time": "2025-03-24T16:01:49.667Z"
   },
   {
    "duration": 7,
    "start_time": "2025-03-24T16:01:49.707Z"
   },
   {
    "duration": 11,
    "start_time": "2025-03-24T16:01:49.716Z"
   },
   {
    "duration": 19,
    "start_time": "2025-03-24T16:01:49.729Z"
   },
   {
    "duration": 5,
    "start_time": "2025-03-24T16:01:49.750Z"
   },
   {
    "duration": 5,
    "start_time": "2025-03-24T16:01:49.756Z"
   },
   {
    "duration": 39,
    "start_time": "2025-03-24T16:01:49.767Z"
   },
   {
    "duration": 13,
    "start_time": "2025-03-24T16:01:49.809Z"
   },
   {
    "duration": 162,
    "start_time": "2025-03-24T16:01:49.823Z"
   },
   {
    "duration": 22,
    "start_time": "2025-03-24T16:01:49.987Z"
   },
   {
    "duration": 13,
    "start_time": "2025-03-24T16:01:50.012Z"
   },
   {
    "duration": 206,
    "start_time": "2025-03-24T16:01:50.026Z"
   },
   {
    "duration": 13,
    "start_time": "2025-03-24T16:01:50.234Z"
   },
   {
    "duration": 3,
    "start_time": "2025-03-24T16:01:50.248Z"
   },
   {
    "duration": 5,
    "start_time": "2025-03-24T16:01:50.253Z"
   },
   {
    "duration": 12,
    "start_time": "2025-03-24T16:01:50.259Z"
   },
   {
    "duration": 33,
    "start_time": "2025-03-24T16:01:50.273Z"
   },
   {
    "duration": 5,
    "start_time": "2025-03-24T16:01:50.308Z"
   },
   {
    "duration": 12,
    "start_time": "2025-03-24T16:01:50.315Z"
   },
   {
    "duration": 5,
    "start_time": "2025-03-24T16:01:50.330Z"
   },
   {
    "duration": 219,
    "start_time": "2025-03-24T16:01:50.337Z"
   },
   {
    "duration": 50,
    "start_time": "2025-03-24T16:01:50.558Z"
   },
   {
    "duration": 3,
    "start_time": "2025-03-24T16:53:50.685Z"
   },
   {
    "duration": 40,
    "start_time": "2025-03-24T16:53:50.693Z"
   },
   {
    "duration": 13,
    "start_time": "2025-03-24T16:53:50.735Z"
   },
   {
    "duration": 7,
    "start_time": "2025-03-24T16:53:50.750Z"
   },
   {
    "duration": 7,
    "start_time": "2025-03-24T16:53:50.759Z"
   },
   {
    "duration": 5,
    "start_time": "2025-03-24T16:53:50.768Z"
   },
   {
    "duration": 37,
    "start_time": "2025-03-24T16:53:50.775Z"
   },
   {
    "duration": 8,
    "start_time": "2025-03-24T16:53:50.814Z"
   },
   {
    "duration": 10,
    "start_time": "2025-03-24T16:53:50.824Z"
   },
   {
    "duration": 21,
    "start_time": "2025-03-24T16:53:50.835Z"
   },
   {
    "duration": 4,
    "start_time": "2025-03-24T16:53:50.858Z"
   },
   {
    "duration": 5,
    "start_time": "2025-03-24T16:53:50.863Z"
   },
   {
    "duration": 38,
    "start_time": "2025-03-24T16:53:50.869Z"
   },
   {
    "duration": 12,
    "start_time": "2025-03-24T16:53:50.909Z"
   },
   {
    "duration": 162,
    "start_time": "2025-03-24T16:53:50.924Z"
   },
   {
    "duration": 23,
    "start_time": "2025-03-24T16:53:51.089Z"
   },
   {
    "duration": 14,
    "start_time": "2025-03-24T16:53:51.114Z"
   },
   {
    "duration": 161,
    "start_time": "2025-03-24T16:53:51.130Z"
   },
   {
    "duration": 22,
    "start_time": "2025-03-24T16:53:51.293Z"
   },
   {
    "duration": 3,
    "start_time": "2025-03-24T16:53:51.317Z"
   },
   {
    "duration": 6,
    "start_time": "2025-03-24T16:53:51.322Z"
   },
   {
    "duration": 14,
    "start_time": "2025-03-24T16:53:51.329Z"
   },
   {
    "duration": 4,
    "start_time": "2025-03-24T16:53:51.344Z"
   },
   {
    "duration": 3,
    "start_time": "2025-03-24T16:53:51.351Z"
   },
   {
    "duration": 10,
    "start_time": "2025-03-24T16:53:51.357Z"
   },
   {
    "duration": 39,
    "start_time": "2025-03-24T16:53:51.369Z"
   },
   {
    "duration": 222,
    "start_time": "2025-03-24T16:53:51.410Z"
   },
   {
    "duration": 21,
    "start_time": "2025-03-24T16:53:51.633Z"
   },
   {
    "duration": 2244,
    "start_time": "2025-03-24T22:28:08.482Z"
   },
   {
    "duration": 83,
    "start_time": "2025-03-24T22:28:10.729Z"
   },
   {
    "duration": 16,
    "start_time": "2025-03-24T22:28:10.814Z"
   },
   {
    "duration": 11,
    "start_time": "2025-03-24T22:28:10.832Z"
   },
   {
    "duration": 7,
    "start_time": "2025-03-24T22:28:10.845Z"
   },
   {
    "duration": 7,
    "start_time": "2025-03-24T22:28:10.855Z"
   },
   {
    "duration": 18,
    "start_time": "2025-03-24T22:28:10.863Z"
   },
   {
    "duration": 9,
    "start_time": "2025-03-24T22:28:10.882Z"
   },
   {
    "duration": 40,
    "start_time": "2025-03-24T22:28:10.892Z"
   },
   {
    "duration": 22,
    "start_time": "2025-03-24T22:28:10.936Z"
   },
   {
    "duration": 4,
    "start_time": "2025-03-24T22:28:10.960Z"
   },
   {
    "duration": 7,
    "start_time": "2025-03-24T22:28:10.966Z"
   },
   {
    "duration": 5,
    "start_time": "2025-03-24T22:28:10.975Z"
   },
   {
    "duration": 45,
    "start_time": "2025-03-24T22:28:10.982Z"
   },
   {
    "duration": 169,
    "start_time": "2025-03-24T22:28:11.029Z"
   },
   {
    "duration": 11,
    "start_time": "2025-03-24T22:28:11.201Z"
   },
   {
    "duration": 22,
    "start_time": "2025-03-24T22:28:11.213Z"
   },
   {
    "duration": 175,
    "start_time": "2025-03-24T22:28:11.236Z"
   },
   {
    "duration": 17,
    "start_time": "2025-03-24T22:28:11.413Z"
   },
   {
    "duration": 3,
    "start_time": "2025-03-24T22:28:11.432Z"
   },
   {
    "duration": 6,
    "start_time": "2025-03-24T22:28:11.437Z"
   },
   {
    "duration": 15,
    "start_time": "2025-03-24T22:28:11.444Z"
   },
   {
    "duration": 4,
    "start_time": "2025-03-24T22:28:11.461Z"
   },
   {
    "duration": 4,
    "start_time": "2025-03-24T22:28:11.468Z"
   },
   {
    "duration": 10,
    "start_time": "2025-03-24T22:28:11.475Z"
   },
   {
    "duration": 42,
    "start_time": "2025-03-24T22:28:11.486Z"
   },
   {
    "duration": 250,
    "start_time": "2025-03-24T22:28:11.531Z"
   },
   {
    "duration": 20,
    "start_time": "2025-03-24T22:28:11.785Z"
   },
   {
    "duration": 22,
    "start_time": "2025-03-24T22:30:22.211Z"
   },
   {
    "duration": 33,
    "start_time": "2025-03-24T22:30:50.574Z"
   },
   {
    "duration": 2,
    "start_time": "2025-03-24T22:31:04.703Z"
   },
   {
    "duration": 43,
    "start_time": "2025-03-24T22:31:04.718Z"
   },
   {
    "duration": 17,
    "start_time": "2025-03-24T22:31:04.764Z"
   },
   {
    "duration": 11,
    "start_time": "2025-03-24T22:31:04.783Z"
   },
   {
    "duration": 28,
    "start_time": "2025-03-24T22:31:04.797Z"
   },
   {
    "duration": 8,
    "start_time": "2025-03-24T22:31:04.829Z"
   },
   {
    "duration": 93,
    "start_time": "2025-03-24T22:31:04.839Z"
   },
   {
    "duration": 8,
    "start_time": "2025-03-24T22:31:04.934Z"
   },
   {
    "duration": 13,
    "start_time": "2025-03-24T22:31:04.944Z"
   },
   {
    "duration": 30,
    "start_time": "2025-03-24T22:31:04.959Z"
   },
   {
    "duration": 5,
    "start_time": "2025-03-24T22:31:04.991Z"
   },
   {
    "duration": 6,
    "start_time": "2025-03-24T22:31:05.025Z"
   },
   {
    "duration": 6,
    "start_time": "2025-03-24T22:31:05.032Z"
   },
   {
    "duration": 16,
    "start_time": "2025-03-24T22:31:05.039Z"
   },
   {
    "duration": 177,
    "start_time": "2025-03-24T22:31:05.058Z"
   },
   {
    "duration": 12,
    "start_time": "2025-03-24T22:31:05.237Z"
   },
   {
    "duration": 15,
    "start_time": "2025-03-24T22:31:05.251Z"
   },
   {
    "duration": 180,
    "start_time": "2025-03-24T22:31:05.268Z"
   },
   {
    "duration": 16,
    "start_time": "2025-03-24T22:31:05.450Z"
   },
   {
    "duration": 4,
    "start_time": "2025-03-24T22:31:05.468Z"
   },
   {
    "duration": 5,
    "start_time": "2025-03-24T22:31:05.474Z"
   },
   {
    "duration": 43,
    "start_time": "2025-03-24T22:31:05.482Z"
   },
   {
    "duration": 7,
    "start_time": "2025-03-24T22:31:05.528Z"
   },
   {
    "duration": 5,
    "start_time": "2025-03-24T22:31:05.539Z"
   },
   {
    "duration": 14,
    "start_time": "2025-03-24T22:31:05.545Z"
   },
   {
    "duration": 6,
    "start_time": "2025-03-24T22:31:05.561Z"
   },
   {
    "duration": 292,
    "start_time": "2025-03-24T22:31:05.571Z"
   },
   {
    "duration": 22,
    "start_time": "2025-03-24T22:31:05.865Z"
   },
   {
    "duration": 26,
    "start_time": "2025-03-24T22:31:44.087Z"
   },
   {
    "duration": 17,
    "start_time": "2025-03-24T22:31:48.555Z"
   },
   {
    "duration": 5,
    "start_time": "2025-03-24T22:31:50.385Z"
   },
   {
    "duration": 6,
    "start_time": "2025-03-24T23:31:36.119Z"
   },
   {
    "duration": 14,
    "start_time": "2025-03-24T23:32:21.011Z"
   },
   {
    "duration": 187,
    "start_time": "2025-03-24T23:32:26.717Z"
   },
   {
    "duration": 18,
    "start_time": "2025-03-24T23:33:07.428Z"
   },
   {
    "duration": 7,
    "start_time": "2025-03-24T23:38:44.865Z"
   },
   {
    "duration": 12,
    "start_time": "2025-03-24T23:38:46.421Z"
   },
   {
    "duration": 145,
    "start_time": "2025-03-24T23:38:47.169Z"
   },
   {
    "duration": 10,
    "start_time": "2025-03-24T23:38:49.479Z"
   },
   {
    "duration": 13,
    "start_time": "2025-03-24T23:38:53.339Z"
   },
   {
    "duration": 144,
    "start_time": "2025-03-24T23:38:54.444Z"
   },
   {
    "duration": 12,
    "start_time": "2025-03-24T23:38:56.188Z"
   },
   {
    "duration": 4,
    "start_time": "2025-03-24T23:38:58.069Z"
   },
   {
    "duration": 12,
    "start_time": "2025-03-24T23:39:34.392Z"
   },
   {
    "duration": 13,
    "start_time": "2025-03-24T23:40:00.657Z"
   },
   {
    "duration": 3,
    "start_time": "2025-03-24T23:40:07.568Z"
   },
   {
    "duration": 2323,
    "start_time": "2025-03-25T17:19:12.528Z"
   },
   {
    "duration": 82,
    "start_time": "2025-03-25T17:19:14.854Z"
   },
   {
    "duration": 13,
    "start_time": "2025-03-25T17:19:14.938Z"
   },
   {
    "duration": 11,
    "start_time": "2025-03-25T17:19:14.953Z"
   },
   {
    "duration": 9,
    "start_time": "2025-03-25T17:19:14.966Z"
   },
   {
    "duration": 6,
    "start_time": "2025-03-25T17:19:14.977Z"
   },
   {
    "duration": 29,
    "start_time": "2025-03-25T17:19:14.984Z"
   },
   {
    "duration": 8,
    "start_time": "2025-03-25T17:19:15.015Z"
   },
   {
    "duration": 12,
    "start_time": "2025-03-25T17:19:15.024Z"
   },
   {
    "duration": 24,
    "start_time": "2025-03-25T17:19:15.039Z"
   },
   {
    "duration": 40,
    "start_time": "2025-03-25T17:19:15.065Z"
   },
   {
    "duration": 5,
    "start_time": "2025-03-25T17:19:15.107Z"
   },
   {
    "duration": 5,
    "start_time": "2025-03-25T17:19:15.114Z"
   },
   {
    "duration": 5,
    "start_time": "2025-03-25T17:19:15.120Z"
   },
   {
    "duration": 9,
    "start_time": "2025-03-25T17:19:15.127Z"
   },
   {
    "duration": 11,
    "start_time": "2025-03-25T17:19:15.137Z"
   },
   {
    "duration": 187,
    "start_time": "2025-03-25T17:19:15.149Z"
   },
   {
    "duration": 10,
    "start_time": "2025-03-25T17:19:15.338Z"
   },
   {
    "duration": 14,
    "start_time": "2025-03-25T17:19:15.350Z"
   },
   {
    "duration": 183,
    "start_time": "2025-03-25T17:19:15.366Z"
   },
   {
    "duration": 13,
    "start_time": "2025-03-25T17:19:15.551Z"
   },
   {
    "duration": 3,
    "start_time": "2025-03-25T17:19:15.566Z"
   },
   {
    "duration": 6,
    "start_time": "2025-03-25T17:19:15.571Z"
   },
   {
    "duration": 38,
    "start_time": "2025-03-25T17:19:15.578Z"
   },
   {
    "duration": 4,
    "start_time": "2025-03-25T17:19:15.617Z"
   },
   {
    "duration": 5,
    "start_time": "2025-03-25T17:19:15.623Z"
   },
   {
    "duration": 12,
    "start_time": "2025-03-25T17:19:15.629Z"
   },
   {
    "duration": 6,
    "start_time": "2025-03-25T17:19:15.644Z"
   },
   {
    "duration": 298,
    "start_time": "2025-03-25T17:19:15.651Z"
   },
   {
    "duration": 20,
    "start_time": "2025-03-25T17:19:15.951Z"
   },
   {
    "duration": 2,
    "start_time": "2025-03-25T20:52:21.200Z"
   },
   {
    "duration": 41,
    "start_time": "2025-03-25T20:52:21.213Z"
   },
   {
    "duration": 13,
    "start_time": "2025-03-25T20:52:21.256Z"
   },
   {
    "duration": 9,
    "start_time": "2025-03-25T20:52:21.270Z"
   },
   {
    "duration": 7,
    "start_time": "2025-03-25T20:52:21.281Z"
   },
   {
    "duration": 17,
    "start_time": "2025-03-25T20:52:21.290Z"
   },
   {
    "duration": 13,
    "start_time": "2025-03-25T20:52:21.309Z"
   },
   {
    "duration": 7,
    "start_time": "2025-03-25T20:52:21.324Z"
   },
   {
    "duration": 11,
    "start_time": "2025-03-25T20:52:21.333Z"
   },
   {
    "duration": 20,
    "start_time": "2025-03-25T20:52:21.346Z"
   },
   {
    "duration": 51,
    "start_time": "2025-03-25T20:52:21.367Z"
   },
   {
    "duration": 4,
    "start_time": "2025-03-25T20:52:21.420Z"
   },
   {
    "duration": 5,
    "start_time": "2025-03-25T20:52:21.427Z"
   },
   {
    "duration": 6,
    "start_time": "2025-03-25T20:52:21.434Z"
   },
   {
    "duration": 7,
    "start_time": "2025-03-25T20:52:21.444Z"
   },
   {
    "duration": 12,
    "start_time": "2025-03-25T20:52:21.453Z"
   },
   {
    "duration": 204,
    "start_time": "2025-03-25T20:52:21.467Z"
   },
   {
    "duration": 11,
    "start_time": "2025-03-25T20:52:21.674Z"
   },
   {
    "duration": 29,
    "start_time": "2025-03-25T20:52:21.689Z"
   },
   {
    "duration": 171,
    "start_time": "2025-03-25T20:52:21.720Z"
   },
   {
    "duration": 20,
    "start_time": "2025-03-25T20:52:21.893Z"
   },
   {
    "duration": 3,
    "start_time": "2025-03-25T20:52:21.915Z"
   },
   {
    "duration": 6,
    "start_time": "2025-03-25T20:52:21.920Z"
   },
   {
    "duration": 13,
    "start_time": "2025-03-25T20:52:21.928Z"
   },
   {
    "duration": 4,
    "start_time": "2025-03-25T20:52:21.943Z"
   },
   {
    "duration": 5,
    "start_time": "2025-03-25T20:52:21.948Z"
   },
   {
    "duration": 10,
    "start_time": "2025-03-25T20:52:21.954Z"
   },
   {
    "duration": 42,
    "start_time": "2025-03-25T20:52:21.966Z"
   },
   {
    "duration": 247,
    "start_time": "2025-03-25T20:52:22.010Z"
   },
   {
    "duration": 21,
    "start_time": "2025-03-25T20:52:22.259Z"
   },
   {
    "duration": 142,
    "start_time": "2025-03-25T21:16:59.111Z"
   },
   {
    "duration": 13,
    "start_time": "2025-03-25T21:17:23.672Z"
   },
   {
    "duration": 13,
    "start_time": "2025-03-25T21:50:21.193Z"
   },
   {
    "duration": 570,
    "start_time": "2025-03-25T21:50:21.745Z"
   },
   {
    "duration": 42,
    "start_time": "2025-03-25T21:50:22.785Z"
   },
   {
    "duration": 6,
    "start_time": "2025-03-25T21:50:37.559Z"
   },
   {
    "duration": 12,
    "start_time": "2025-03-25T21:50:38.590Z"
   },
   {
    "duration": 9,
    "start_time": "2025-03-25T21:50:39.482Z"
   },
   {
    "duration": 212,
    "start_time": "2025-03-25T21:50:43.439Z"
   },
   {
    "duration": 20,
    "start_time": "2025-03-25T21:50:44.573Z"
   },
   {
    "duration": 4,
    "start_time": "2025-03-25T23:01:20.813Z"
   },
   {
    "duration": 5,
    "start_time": "2025-03-25T23:01:22.853Z"
   },
   {
    "duration": 11,
    "start_time": "2025-03-25T23:01:23.485Z"
   },
   {
    "duration": 123,
    "start_time": "2025-03-25T23:05:40.583Z"
   },
   {
    "duration": 21,
    "start_time": "2025-03-25T23:06:03.458Z"
   },
   {
    "duration": 437,
    "start_time": "2025-03-25T23:06:52.025Z"
   },
   {
    "duration": 48,
    "start_time": "2025-03-25T23:06:52.568Z"
   },
   {
    "duration": 2119,
    "start_time": "2025-03-25T23:07:07.411Z"
   },
   {
    "duration": 210,
    "start_time": "2025-03-25T23:14:52.950Z"
   },
   {
    "duration": 216,
    "start_time": "2025-03-25T23:16:07.221Z"
   },
   {
    "duration": 182,
    "start_time": "2025-03-25T23:21:43.037Z"
   },
   {
    "duration": 2022,
    "start_time": "2025-03-25T23:22:26.545Z"
   },
   {
    "duration": 147,
    "start_time": "2025-03-25T23:31:53.741Z"
   },
   {
    "duration": 44,
    "start_time": "2025-03-25T23:37:33.182Z"
   },
   {
    "duration": 13,
    "start_time": "2025-03-25T23:37:40.614Z"
   },
   {
    "duration": 14,
    "start_time": "2025-03-25T23:37:41.505Z"
   },
   {
    "duration": 18,
    "start_time": "2025-03-25T23:38:09.607Z"
   },
   {
    "duration": 3,
    "start_time": "2025-03-25T23:38:24.672Z"
   },
   {
    "duration": 4,
    "start_time": "2025-03-25T23:38:39.201Z"
   },
   {
    "duration": 3,
    "start_time": "2025-03-25T23:39:47.913Z"
   },
   {
    "duration": 4,
    "start_time": "2025-03-25T23:40:54.916Z"
   },
   {
    "duration": 5,
    "start_time": "2025-03-26T00:01:45.653Z"
   },
   {
    "duration": 6,
    "start_time": "2025-03-26T00:02:31.212Z"
   },
   {
    "duration": 5,
    "start_time": "2025-03-26T00:03:24.048Z"
   },
   {
    "duration": 17,
    "start_time": "2025-03-26T00:05:22.299Z"
   },
   {
    "duration": 12,
    "start_time": "2025-03-26T00:05:41.567Z"
   },
   {
    "duration": 6,
    "start_time": "2025-03-26T00:08:36.960Z"
   },
   {
    "duration": 4,
    "start_time": "2025-03-26T00:08:48.885Z"
   },
   {
    "duration": 6,
    "start_time": "2025-03-26T00:08:59.998Z"
   },
   {
    "duration": 14,
    "start_time": "2025-03-26T00:10:12.187Z"
   },
   {
    "duration": 278,
    "start_time": "2025-03-26T00:32:58.193Z"
   },
   {
    "duration": 13,
    "start_time": "2025-03-26T00:55:53.141Z"
   },
   {
    "duration": 7,
    "start_time": "2025-03-26T00:56:05.745Z"
   },
   {
    "duration": 1255,
    "start_time": "2025-03-26T01:16:50.217Z"
   },
   {
    "duration": 12,
    "start_time": "2025-03-26T01:17:56.502Z"
   },
   {
    "duration": 5,
    "start_time": "2025-03-26T01:19:14.912Z"
   },
   {
    "duration": 4,
    "start_time": "2025-03-26T01:19:24.029Z"
   },
   {
    "duration": 4,
    "start_time": "2025-03-26T01:19:40.396Z"
   },
   {
    "duration": 5,
    "start_time": "2025-03-26T01:19:52.608Z"
   },
   {
    "duration": 8,
    "start_time": "2025-03-26T01:20:25.872Z"
   },
   {
    "duration": 753,
    "start_time": "2025-03-26T01:24:35.330Z"
   },
   {
    "duration": 470,
    "start_time": "2025-03-26T01:25:02.009Z"
   },
   {
    "duration": 278,
    "start_time": "2025-03-26T01:51:01.043Z"
   },
   {
    "duration": 23,
    "start_time": "2025-03-26T02:04:31.895Z"
   },
   {
    "duration": 6,
    "start_time": "2025-03-26T02:04:46.311Z"
   },
   {
    "duration": 154,
    "start_time": "2025-03-26T02:07:22.493Z"
   },
   {
    "duration": 9,
    "start_time": "2025-03-26T02:07:42.622Z"
   },
   {
    "duration": 26,
    "start_time": "2025-03-26T02:09:18.102Z"
   },
   {
    "duration": 563,
    "start_time": "2025-03-26T02:14:05.089Z"
   },
   {
    "duration": 289,
    "start_time": "2025-03-26T02:18:23.313Z"
   },
   {
    "duration": 2635,
    "start_time": "2025-03-26T19:14:40.220Z"
   },
   {
    "duration": 75,
    "start_time": "2025-03-26T19:14:42.857Z"
   },
   {
    "duration": 13,
    "start_time": "2025-03-26T19:14:42.934Z"
   },
   {
    "duration": 11,
    "start_time": "2025-03-26T19:14:42.949Z"
   },
   {
    "duration": 8,
    "start_time": "2025-03-26T19:14:42.961Z"
   },
   {
    "duration": 6,
    "start_time": "2025-03-26T19:14:42.970Z"
   },
   {
    "duration": 35,
    "start_time": "2025-03-26T19:14:42.978Z"
   },
   {
    "duration": 8,
    "start_time": "2025-03-26T19:14:43.014Z"
   },
   {
    "duration": 12,
    "start_time": "2025-03-26T19:14:43.023Z"
   },
   {
    "duration": 22,
    "start_time": "2025-03-26T19:14:43.038Z"
   },
   {
    "duration": 14,
    "start_time": "2025-03-26T19:14:43.062Z"
   },
   {
    "duration": 31,
    "start_time": "2025-03-26T19:14:43.077Z"
   },
   {
    "duration": 5,
    "start_time": "2025-03-26T19:14:43.110Z"
   },
   {
    "duration": 4,
    "start_time": "2025-03-26T19:14:43.117Z"
   },
   {
    "duration": 7,
    "start_time": "2025-03-26T19:14:43.123Z"
   },
   {
    "duration": 8,
    "start_time": "2025-03-26T19:14:43.132Z"
   },
   {
    "duration": 4,
    "start_time": "2025-03-26T19:14:43.142Z"
   },
   {
    "duration": 252,
    "start_time": "2025-03-26T19:14:43.147Z"
   },
   {
    "duration": 0,
    "start_time": "2025-03-26T19:14:43.402Z"
   },
   {
    "duration": 0,
    "start_time": "2025-03-26T19:14:43.403Z"
   },
   {
    "duration": 0,
    "start_time": "2025-03-26T19:14:43.404Z"
   },
   {
    "duration": 0,
    "start_time": "2025-03-26T19:14:43.409Z"
   },
   {
    "duration": 0,
    "start_time": "2025-03-26T19:14:43.410Z"
   },
   {
    "duration": 0,
    "start_time": "2025-03-26T19:14:43.411Z"
   },
   {
    "duration": 0,
    "start_time": "2025-03-26T19:14:43.412Z"
   },
   {
    "duration": 0,
    "start_time": "2025-03-26T19:14:43.413Z"
   },
   {
    "duration": 0,
    "start_time": "2025-03-26T19:14:43.414Z"
   },
   {
    "duration": 0,
    "start_time": "2025-03-26T19:14:43.415Z"
   },
   {
    "duration": 0,
    "start_time": "2025-03-26T19:14:43.416Z"
   },
   {
    "duration": 0,
    "start_time": "2025-03-26T19:14:43.417Z"
   },
   {
    "duration": 0,
    "start_time": "2025-03-26T19:14:43.418Z"
   },
   {
    "duration": 0,
    "start_time": "2025-03-26T19:14:43.419Z"
   },
   {
    "duration": 0,
    "start_time": "2025-03-26T19:14:43.420Z"
   },
   {
    "duration": 0,
    "start_time": "2025-03-26T19:14:43.421Z"
   },
   {
    "duration": 3,
    "start_time": "2025-03-26T19:15:20.480Z"
   },
   {
    "duration": 5,
    "start_time": "2025-03-26T19:15:20.505Z"
   },
   {
    "duration": 175,
    "start_time": "2025-03-26T19:15:20.513Z"
   },
   {
    "duration": 21,
    "start_time": "2025-03-26T19:15:20.689Z"
   },
   {
    "duration": 22,
    "start_time": "2025-03-26T19:15:20.712Z"
   },
   {
    "duration": 0,
    "start_time": "2025-03-26T19:15:20.735Z"
   },
   {
    "duration": 0,
    "start_time": "2025-03-26T19:15:20.737Z"
   },
   {
    "duration": 0,
    "start_time": "2025-03-26T19:15:20.739Z"
   },
   {
    "duration": 0,
    "start_time": "2025-03-26T19:15:20.740Z"
   },
   {
    "duration": 0,
    "start_time": "2025-03-26T19:15:20.741Z"
   },
   {
    "duration": 0,
    "start_time": "2025-03-26T19:15:20.742Z"
   },
   {
    "duration": 0,
    "start_time": "2025-03-26T19:15:20.744Z"
   },
   {
    "duration": 0,
    "start_time": "2025-03-26T19:15:20.745Z"
   },
   {
    "duration": 0,
    "start_time": "2025-03-26T19:15:20.746Z"
   },
   {
    "duration": 0,
    "start_time": "2025-03-26T19:15:20.748Z"
   },
   {
    "duration": 0,
    "start_time": "2025-03-26T19:15:20.750Z"
   },
   {
    "duration": 0,
    "start_time": "2025-03-26T19:15:20.751Z"
   },
   {
    "duration": 25,
    "start_time": "2025-03-26T19:51:29.658Z"
   },
   {
    "duration": 5,
    "start_time": "2025-03-26T19:51:30.821Z"
   },
   {
    "duration": 215,
    "start_time": "2025-03-26T19:51:31.257Z"
   },
   {
    "duration": 14,
    "start_time": "2025-03-26T19:51:31.886Z"
   },
   {
    "duration": 7,
    "start_time": "2025-03-26T19:51:32.325Z"
   },
   {
    "duration": 9,
    "start_time": "2025-03-26T19:51:32.594Z"
   },
   {
    "duration": 54,
    "start_time": "2025-03-26T19:51:33.122Z"
   },
   {
    "duration": 7,
    "start_time": "2025-03-26T19:51:33.313Z"
   },
   {
    "duration": 17,
    "start_time": "2025-03-26T19:51:33.516Z"
   },
   {
    "duration": 15,
    "start_time": "2025-03-26T19:51:33.691Z"
   },
   {
    "duration": 6,
    "start_time": "2025-03-26T19:51:33.894Z"
   },
   {
    "duration": 429,
    "start_time": "2025-03-26T19:51:34.131Z"
   },
   {
    "duration": 30,
    "start_time": "2025-03-26T19:51:34.562Z"
   },
   {
    "duration": 2501,
    "start_time": "2025-03-27T14:19:17.116Z"
   },
   {
    "duration": 75,
    "start_time": "2025-03-27T14:19:19.619Z"
   },
   {
    "duration": 14,
    "start_time": "2025-03-27T14:19:19.697Z"
   },
   {
    "duration": 11,
    "start_time": "2025-03-27T14:19:19.714Z"
   },
   {
    "duration": 9,
    "start_time": "2025-03-27T14:19:19.727Z"
   },
   {
    "duration": 8,
    "start_time": "2025-03-27T14:19:19.738Z"
   },
   {
    "duration": 13,
    "start_time": "2025-03-27T14:19:19.748Z"
   },
   {
    "duration": 15,
    "start_time": "2025-03-27T14:19:19.763Z"
   },
   {
    "duration": 12,
    "start_time": "2025-03-27T14:19:19.780Z"
   },
   {
    "duration": 22,
    "start_time": "2025-03-27T14:19:19.796Z"
   },
   {
    "duration": 35,
    "start_time": "2025-03-27T14:19:19.819Z"
   },
   {
    "duration": 5,
    "start_time": "2025-03-27T14:19:19.856Z"
   },
   {
    "duration": 6,
    "start_time": "2025-03-27T14:19:19.862Z"
   },
   {
    "duration": 4,
    "start_time": "2025-03-27T14:19:19.869Z"
   },
   {
    "duration": 7,
    "start_time": "2025-03-27T14:19:19.875Z"
   },
   {
    "duration": 8,
    "start_time": "2025-03-27T14:19:19.884Z"
   },
   {
    "duration": 4,
    "start_time": "2025-03-27T14:19:19.893Z"
   },
   {
    "duration": 3,
    "start_time": "2025-03-27T14:19:19.899Z"
   },
   {
    "duration": 6,
    "start_time": "2025-03-27T14:19:19.943Z"
   },
   {
    "duration": 167,
    "start_time": "2025-03-27T14:19:19.950Z"
   },
   {
    "duration": 9,
    "start_time": "2025-03-27T14:19:20.119Z"
   },
   {
    "duration": 12,
    "start_time": "2025-03-27T14:19:20.143Z"
   },
   {
    "duration": 4,
    "start_time": "2025-03-27T14:19:20.157Z"
   },
   {
    "duration": 166,
    "start_time": "2025-03-27T14:19:20.162Z"
   },
   {
    "duration": 16,
    "start_time": "2025-03-27T14:19:20.330Z"
   },
   {
    "duration": 3,
    "start_time": "2025-03-27T14:19:20.348Z"
   },
   {
    "duration": 5,
    "start_time": "2025-03-27T14:19:20.352Z"
   },
   {
    "duration": 12,
    "start_time": "2025-03-27T14:19:20.361Z"
   },
   {
    "duration": 4,
    "start_time": "2025-03-27T14:19:20.374Z"
   },
   {
    "duration": 5,
    "start_time": "2025-03-27T14:19:20.379Z"
   },
   {
    "duration": 10,
    "start_time": "2025-03-27T14:19:20.385Z"
   },
   {
    "duration": 46,
    "start_time": "2025-03-27T14:19:20.397Z"
   },
   {
    "duration": 251,
    "start_time": "2025-03-27T14:19:20.444Z"
   },
   {
    "duration": 20,
    "start_time": "2025-03-27T14:19:20.696Z"
   },
   {
    "duration": 309,
    "start_time": "2025-03-27T15:11:40.106Z"
   },
   {
    "duration": 661,
    "start_time": "2025-03-27T15:12:39.901Z"
   },
   {
    "duration": 463,
    "start_time": "2025-03-27T15:56:58.936Z"
   },
   {
    "duration": 119,
    "start_time": "2025-03-27T15:57:22.015Z"
   },
   {
    "duration": 476,
    "start_time": "2025-03-27T15:57:30.810Z"
   },
   {
    "duration": 14,
    "start_time": "2025-03-27T15:59:46.668Z"
   },
   {
    "duration": 6,
    "start_time": "2025-03-27T16:45:39.565Z"
   },
   {
    "duration": 211,
    "start_time": "2025-03-27T18:08:20.144Z"
   },
   {
    "duration": 205,
    "start_time": "2025-03-27T18:12:19.439Z"
   },
   {
    "duration": 200,
    "start_time": "2025-03-27T18:13:15.348Z"
   },
   {
    "duration": 208,
    "start_time": "2025-03-27T18:13:55.217Z"
   },
   {
    "duration": 198,
    "start_time": "2025-03-27T18:14:15.672Z"
   },
   {
    "duration": 194,
    "start_time": "2025-03-27T18:23:57.276Z"
   },
   {
    "duration": 12,
    "start_time": "2025-03-27T18:33:54.542Z"
   },
   {
    "duration": 3,
    "start_time": "2025-03-27T18:40:43.841Z"
   },
   {
    "duration": 13,
    "start_time": "2025-03-27T18:41:14.928Z"
   },
   {
    "duration": 996,
    "start_time": "2025-03-27T19:38:20.635Z"
   },
   {
    "duration": 1079,
    "start_time": "2025-03-27T19:38:33.195Z"
   },
   {
    "duration": 3165,
    "start_time": "2025-03-27T19:39:00.619Z"
   },
   {
    "duration": 237,
    "start_time": "2025-03-27T19:39:23.877Z"
   },
   {
    "duration": 2628,
    "start_time": "2025-03-28T18:42:30.526Z"
   },
   {
    "duration": 73,
    "start_time": "2025-03-28T18:42:33.157Z"
   },
   {
    "duration": 15,
    "start_time": "2025-03-28T18:42:33.231Z"
   },
   {
    "duration": 11,
    "start_time": "2025-03-28T18:42:33.248Z"
   },
   {
    "duration": 8,
    "start_time": "2025-03-28T18:42:33.260Z"
   },
   {
    "duration": 8,
    "start_time": "2025-03-28T18:42:33.270Z"
   },
   {
    "duration": 14,
    "start_time": "2025-03-28T18:42:33.279Z"
   },
   {
    "duration": 24,
    "start_time": "2025-03-28T18:42:33.294Z"
   },
   {
    "duration": 13,
    "start_time": "2025-03-28T18:42:33.320Z"
   },
   {
    "duration": 22,
    "start_time": "2025-03-28T18:42:33.337Z"
   },
   {
    "duration": 15,
    "start_time": "2025-03-28T18:42:33.360Z"
   },
   {
    "duration": 35,
    "start_time": "2025-03-28T18:42:33.377Z"
   },
   {
    "duration": 6,
    "start_time": "2025-03-28T18:42:33.414Z"
   },
   {
    "duration": 4,
    "start_time": "2025-03-28T18:42:33.423Z"
   },
   {
    "duration": 9,
    "start_time": "2025-03-28T18:42:33.428Z"
   },
   {
    "duration": 14,
    "start_time": "2025-03-28T18:42:33.439Z"
   },
   {
    "duration": 4,
    "start_time": "2025-03-28T18:42:33.454Z"
   },
   {
    "duration": 239,
    "start_time": "2025-03-28T18:42:33.460Z"
   },
   {
    "duration": 14,
    "start_time": "2025-03-28T18:42:33.701Z"
   },
   {
    "duration": 13,
    "start_time": "2025-03-28T18:42:33.717Z"
   },
   {
    "duration": 4,
    "start_time": "2025-03-28T18:42:33.731Z"
   },
   {
    "duration": 235,
    "start_time": "2025-03-28T18:42:33.737Z"
   },
   {
    "duration": 14,
    "start_time": "2025-03-28T18:42:33.973Z"
   },
   {
    "duration": 3,
    "start_time": "2025-03-28T18:42:33.988Z"
   },
   {
    "duration": 22,
    "start_time": "2025-03-28T18:42:33.993Z"
   },
   {
    "duration": 13,
    "start_time": "2025-03-28T18:42:34.016Z"
   },
   {
    "duration": 5,
    "start_time": "2025-03-28T18:42:34.031Z"
   },
   {
    "duration": 3,
    "start_time": "2025-03-28T18:42:34.040Z"
   },
   {
    "duration": 11,
    "start_time": "2025-03-28T18:42:34.045Z"
   },
   {
    "duration": 5,
    "start_time": "2025-03-28T18:42:34.057Z"
   },
   {
    "duration": 288,
    "start_time": "2025-03-28T18:42:34.063Z"
   },
   {
    "duration": 14,
    "start_time": "2025-03-28T18:42:34.353Z"
   },
   {
    "duration": 14,
    "start_time": "2025-03-28T19:24:44.957Z"
   },
   {
    "duration": 13,
    "start_time": "2025-03-28T19:25:05.806Z"
   },
   {
    "duration": 3,
    "start_time": "2025-03-28T20:20:45.827Z"
   },
   {
    "duration": 4,
    "start_time": "2025-03-28T20:23:33.953Z"
   },
   {
    "duration": 2156,
    "start_time": "2025-03-28T20:38:50.240Z"
   },
   {
    "duration": 218,
    "start_time": "2025-03-28T20:42:36.782Z"
   },
   {
    "duration": 4,
    "start_time": "2025-03-28T20:44:15.357Z"
   },
   {
    "duration": 6,
    "start_time": "2025-03-28T20:44:38.060Z"
   },
   {
    "duration": 6,
    "start_time": "2025-03-28T20:44:59.575Z"
   },
   {
    "duration": 7,
    "start_time": "2025-03-28T20:45:17.818Z"
   },
   {
    "duration": 4,
    "start_time": "2025-03-28T21:02:02.990Z"
   },
   {
    "duration": 3,
    "start_time": "2025-03-28T21:03:27.141Z"
   },
   {
    "duration": 18,
    "start_time": "2025-03-28T23:52:40.053Z"
   },
   {
    "duration": 18,
    "start_time": "2025-03-28T23:54:24.688Z"
   },
   {
    "duration": 4,
    "start_time": "2025-03-29T00:02:35.081Z"
   },
   {
    "duration": 6,
    "start_time": "2025-03-29T00:04:01.455Z"
   },
   {
    "duration": 6,
    "start_time": "2025-03-29T00:06:59.613Z"
   },
   {
    "duration": 6,
    "start_time": "2025-03-29T00:12:16.108Z"
   },
   {
    "duration": 5,
    "start_time": "2025-03-29T00:12:38.074Z"
   },
   {
    "duration": 6,
    "start_time": "2025-03-29T00:15:58.386Z"
   },
   {
    "duration": 7,
    "start_time": "2025-03-29T00:16:04.986Z"
   },
   {
    "duration": 5,
    "start_time": "2025-03-29T00:17:26.847Z"
   },
   {
    "duration": 219,
    "start_time": "2025-03-29T00:25:50.831Z"
   },
   {
    "duration": 808,
    "start_time": "2025-03-29T00:26:09.131Z"
   },
   {
    "duration": 136,
    "start_time": "2025-03-29T00:26:42.541Z"
   },
   {
    "duration": 883,
    "start_time": "2025-03-29T00:27:06.756Z"
   },
   {
    "duration": 856,
    "start_time": "2025-03-29T00:27:24.997Z"
   },
   {
    "duration": 849,
    "start_time": "2025-03-29T00:44:54.135Z"
   },
   {
    "duration": 15,
    "start_time": "2025-03-29T00:49:34.216Z"
   },
   {
    "duration": 2543,
    "start_time": "2025-03-29T01:51:51.629Z"
   },
   {
    "duration": 71,
    "start_time": "2025-03-29T01:51:54.174Z"
   },
   {
    "duration": 15,
    "start_time": "2025-03-29T01:51:54.246Z"
   },
   {
    "duration": 11,
    "start_time": "2025-03-29T01:51:54.263Z"
   },
   {
    "duration": 8,
    "start_time": "2025-03-29T01:51:54.276Z"
   },
   {
    "duration": 6,
    "start_time": "2025-03-29T01:51:54.286Z"
   },
   {
    "duration": 14,
    "start_time": "2025-03-29T01:51:54.293Z"
   },
   {
    "duration": 7,
    "start_time": "2025-03-29T01:51:54.308Z"
   },
   {
    "duration": 11,
    "start_time": "2025-03-29T01:51:54.317Z"
   },
   {
    "duration": 52,
    "start_time": "2025-03-29T01:51:54.331Z"
   },
   {
    "duration": 14,
    "start_time": "2025-03-29T01:51:54.384Z"
   },
   {
    "duration": 4,
    "start_time": "2025-03-29T01:51:54.400Z"
   },
   {
    "duration": 5,
    "start_time": "2025-03-29T01:51:54.407Z"
   },
   {
    "duration": 5,
    "start_time": "2025-03-29T01:51:54.414Z"
   },
   {
    "duration": 8,
    "start_time": "2025-03-29T01:51:54.420Z"
   },
   {
    "duration": 49,
    "start_time": "2025-03-29T01:51:54.429Z"
   },
   {
    "duration": 3,
    "start_time": "2025-03-29T01:51:54.480Z"
   },
   {
    "duration": 225,
    "start_time": "2025-03-29T01:51:54.485Z"
   },
   {
    "duration": 11,
    "start_time": "2025-03-29T01:51:54.712Z"
   },
   {
    "duration": 13,
    "start_time": "2025-03-29T01:51:54.725Z"
   },
   {
    "duration": 3,
    "start_time": "2025-03-29T01:51:54.739Z"
   },
   {
    "duration": 224,
    "start_time": "2025-03-29T01:51:54.743Z"
   },
   {
    "duration": 14,
    "start_time": "2025-03-29T01:51:54.970Z"
   },
   {
    "duration": 4,
    "start_time": "2025-03-29T01:51:54.986Z"
   },
   {
    "duration": 6,
    "start_time": "2025-03-29T01:51:54.991Z"
   },
   {
    "duration": 863,
    "start_time": "2025-03-29T01:51:54.998Z"
   },
   {
    "duration": 17,
    "start_time": "2025-03-29T01:51:55.864Z"
   },
   {
    "duration": 3,
    "start_time": "2025-03-29T01:51:55.885Z"
   },
   {
    "duration": 4,
    "start_time": "2025-03-29T01:51:55.891Z"
   },
   {
    "duration": 11,
    "start_time": "2025-03-29T01:51:55.896Z"
   },
   {
    "duration": 5,
    "start_time": "2025-03-29T01:51:55.909Z"
   },
   {
    "duration": 292,
    "start_time": "2025-03-29T01:51:55.915Z"
   },
   {
    "duration": 15,
    "start_time": "2025-03-29T01:51:56.209Z"
   },
   {
    "duration": 4,
    "start_time": "2025-03-29T02:29:15.554Z"
   },
   {
    "duration": 4,
    "start_time": "2025-03-29T02:29:16.246Z"
   },
   {
    "duration": 11,
    "start_time": "2025-03-29T02:29:19.314Z"
   },
   {
    "duration": 5,
    "start_time": "2025-03-29T02:29:20.911Z"
   },
   {
    "duration": 272,
    "start_time": "2025-03-29T02:29:24.425Z"
   },
   {
    "duration": 4,
    "start_time": "2025-03-29T02:29:57.268Z"
   },
   {
    "duration": 4,
    "start_time": "2025-03-29T02:30:18.303Z"
   },
   {
    "duration": 11,
    "start_time": "2025-03-29T02:30:18.987Z"
   },
   {
    "duration": 5,
    "start_time": "2025-03-29T02:30:19.793Z"
   },
   {
    "duration": 238,
    "start_time": "2025-03-29T02:30:20.662Z"
   },
   {
    "duration": 14,
    "start_time": "2025-03-29T02:34:15.658Z"
   },
   {
    "duration": 4,
    "start_time": "2025-03-29T02:34:16.577Z"
   },
   {
    "duration": 5,
    "start_time": "2025-03-29T02:34:17.263Z"
   },
   {
    "duration": 12,
    "start_time": "2025-03-29T02:34:19.843Z"
   },
   {
    "duration": 5,
    "start_time": "2025-03-29T02:34:20.736Z"
   },
   {
    "duration": 218,
    "start_time": "2025-03-29T02:34:25.875Z"
   },
   {
    "duration": 13,
    "start_time": "2025-03-29T02:38:38.448Z"
   },
   {
    "duration": 4,
    "start_time": "2025-03-29T02:38:38.859Z"
   },
   {
    "duration": 5,
    "start_time": "2025-03-29T02:38:39.242Z"
   },
   {
    "duration": 14,
    "start_time": "2025-03-29T02:38:39.467Z"
   },
   {
    "duration": 6,
    "start_time": "2025-03-29T02:38:39.705Z"
   },
   {
    "duration": 217,
    "start_time": "2025-03-29T02:38:39.883Z"
   },
   {
    "duration": 14,
    "start_time": "2025-03-29T02:38:40.102Z"
   },
   {
    "duration": 217,
    "start_time": "2025-03-29T02:52:05.800Z"
   },
   {
    "duration": 5,
    "start_time": "2025-03-29T02:52:09.735Z"
   },
   {
    "duration": 4,
    "start_time": "2025-03-29T02:52:10.241Z"
   },
   {
    "duration": 11,
    "start_time": "2025-03-29T02:52:14.342Z"
   },
   {
    "duration": 5,
    "start_time": "2025-03-29T02:52:36.423Z"
   },
   {
    "duration": 11,
    "start_time": "2025-03-29T02:52:37.620Z"
   },
   {
    "duration": 6,
    "start_time": "2025-03-29T02:52:51.405Z"
   },
   {
    "duration": 6,
    "start_time": "2025-03-29T02:53:14.192Z"
   },
   {
    "duration": 4,
    "start_time": "2025-03-29T02:53:25.752Z"
   },
   {
    "duration": 11,
    "start_time": "2025-03-29T02:54:10.669Z"
   },
   {
    "duration": 7,
    "start_time": "2025-03-29T02:54:11.464Z"
   },
   {
    "duration": 235,
    "start_time": "2025-03-29T02:54:12.454Z"
   },
   {
    "duration": 4,
    "start_time": "2025-03-29T03:01:56.919Z"
   },
   {
    "duration": 8,
    "start_time": "2025-03-29T03:10:30.477Z"
   },
   {
    "duration": 4,
    "start_time": "2025-03-29T03:16:41.185Z"
   },
   {
    "duration": 5,
    "start_time": "2025-03-29T03:17:02.886Z"
   },
   {
    "duration": 15,
    "start_time": "2025-03-29T03:17:54.119Z"
   },
   {
    "duration": 15,
    "start_time": "2025-03-29T03:18:11.494Z"
   },
   {
    "duration": 18,
    "start_time": "2025-03-29T03:18:46.738Z"
   },
   {
    "duration": 6,
    "start_time": "2025-03-29T03:18:52.566Z"
   },
   {
    "duration": 17,
    "start_time": "2025-03-29T03:18:58.881Z"
   },
   {
    "duration": 263,
    "start_time": "2025-03-29T03:20:36.557Z"
   },
   {
    "duration": 175,
    "start_time": "2025-03-29T03:27:20.938Z"
   },
   {
    "duration": 192,
    "start_time": "2025-03-29T03:27:40.113Z"
   },
   {
    "duration": 105,
    "start_time": "2025-03-29T03:28:25.994Z"
   },
   {
    "duration": 127,
    "start_time": "2025-03-29T03:28:36.959Z"
   },
   {
    "duration": 129,
    "start_time": "2025-03-29T03:28:45.108Z"
   },
   {
    "duration": 121,
    "start_time": "2025-03-29T03:28:54.356Z"
   },
   {
    "duration": 10,
    "start_time": "2025-03-29T03:30:42.010Z"
   },
   {
    "duration": 12,
    "start_time": "2025-03-29T03:31:11.510Z"
   },
   {
    "duration": 22,
    "start_time": "2025-03-29T03:31:34.424Z"
   },
   {
    "duration": 10,
    "start_time": "2025-03-29T03:31:58.701Z"
   },
   {
    "duration": 15,
    "start_time": "2025-03-29T03:42:40.135Z"
   },
   {
    "duration": 10,
    "start_time": "2025-03-29T03:42:58.333Z"
   },
   {
    "duration": 10,
    "start_time": "2025-03-29T03:43:44.163Z"
   },
   {
    "duration": 14,
    "start_time": "2025-03-29T03:45:00.736Z"
   },
   {
    "duration": 12,
    "start_time": "2025-03-29T03:45:19.430Z"
   },
   {
    "duration": 9,
    "start_time": "2025-03-29T03:45:41.151Z"
   },
   {
    "duration": 10,
    "start_time": "2025-03-29T03:45:58.443Z"
   },
   {
    "duration": 15,
    "start_time": "2025-03-29T03:49:08.096Z"
   },
   {
    "duration": 14,
    "start_time": "2025-03-29T03:49:14.758Z"
   },
   {
    "duration": 14,
    "start_time": "2025-03-29T03:49:19.015Z"
   },
   {
    "duration": 15,
    "start_time": "2025-03-29T03:49:26.339Z"
   },
   {
    "duration": 5,
    "start_time": "2025-03-29T03:51:48.762Z"
   },
   {
    "duration": 13,
    "start_time": "2025-03-29T03:57:59.966Z"
   },
   {
    "duration": 6,
    "start_time": "2025-03-29T03:58:03.751Z"
   },
   {
    "duration": 5,
    "start_time": "2025-03-29T03:58:20.199Z"
   },
   {
    "duration": 14,
    "start_time": "2025-03-29T03:58:23.115Z"
   },
   {
    "duration": 6,
    "start_time": "2025-03-29T03:58:27.835Z"
   },
   {
    "duration": 128,
    "start_time": "2025-03-29T03:58:30.842Z"
   },
   {
    "duration": 14,
    "start_time": "2025-03-29T03:59:26.537Z"
   },
   {
    "duration": 2594,
    "start_time": "2025-03-31T20:47:49.604Z"
   },
   {
    "duration": 71,
    "start_time": "2025-03-31T20:47:52.201Z"
   },
   {
    "duration": 15,
    "start_time": "2025-03-31T20:47:52.273Z"
   },
   {
    "duration": 11,
    "start_time": "2025-03-31T20:47:52.291Z"
   },
   {
    "duration": 8,
    "start_time": "2025-03-31T20:47:52.303Z"
   },
   {
    "duration": 6,
    "start_time": "2025-03-31T20:47:52.312Z"
   },
   {
    "duration": 13,
    "start_time": "2025-03-31T20:47:52.319Z"
   },
   {
    "duration": 39,
    "start_time": "2025-03-31T20:47:52.333Z"
   },
   {
    "duration": 12,
    "start_time": "2025-03-31T20:47:52.373Z"
   },
   {
    "duration": 22,
    "start_time": "2025-03-31T20:47:52.389Z"
   },
   {
    "duration": 13,
    "start_time": "2025-03-31T20:47:52.412Z"
   },
   {
    "duration": 4,
    "start_time": "2025-03-31T20:47:52.427Z"
   },
   {
    "duration": 5,
    "start_time": "2025-03-31T20:47:52.432Z"
   },
   {
    "duration": 4,
    "start_time": "2025-03-31T20:47:52.470Z"
   },
   {
    "duration": 7,
    "start_time": "2025-03-31T20:47:52.476Z"
   },
   {
    "duration": 11,
    "start_time": "2025-03-31T20:47:52.485Z"
   },
   {
    "duration": 4,
    "start_time": "2025-03-31T20:47:52.497Z"
   },
   {
    "duration": 225,
    "start_time": "2025-03-31T20:47:52.503Z"
   },
   {
    "duration": 11,
    "start_time": "2025-03-31T20:47:52.730Z"
   },
   {
    "duration": 30,
    "start_time": "2025-03-31T20:47:52.742Z"
   },
   {
    "duration": 4,
    "start_time": "2025-03-31T20:47:52.774Z"
   },
   {
    "duration": 208,
    "start_time": "2025-03-31T20:47:52.780Z"
   },
   {
    "duration": 14,
    "start_time": "2025-03-31T20:47:52.989Z"
   },
   {
    "duration": 3,
    "start_time": "2025-03-31T20:47:53.005Z"
   },
   {
    "duration": 6,
    "start_time": "2025-03-31T20:47:53.010Z"
   },
   {
    "duration": 849,
    "start_time": "2025-03-31T20:47:53.017Z"
   },
   {
    "duration": 13,
    "start_time": "2025-03-31T20:47:53.870Z"
   },
   {
    "duration": 7,
    "start_time": "2025-03-31T20:47:53.887Z"
   },
   {
    "duration": 4,
    "start_time": "2025-03-31T20:47:53.897Z"
   },
   {
    "duration": 22,
    "start_time": "2025-03-31T20:47:53.903Z"
   },
   {
    "duration": 5,
    "start_time": "2025-03-31T20:47:53.927Z"
   },
   {
    "duration": 205,
    "start_time": "2025-03-31T20:47:53.934Z"
   },
   {
    "duration": 2,
    "start_time": "2025-03-31T21:33:21.091Z"
   },
   {
    "duration": 3,
    "start_time": "2025-03-31T21:33:22.274Z"
   },
   {
    "duration": 44,
    "start_time": "2025-03-31T21:33:24.162Z"
   },
   {
    "duration": 117,
    "start_time": "2025-03-31T21:34:13.610Z"
   },
   {
    "duration": 2459,
    "start_time": "2025-04-01T14:23:21.191Z"
   },
   {
    "duration": 70,
    "start_time": "2025-04-01T14:23:23.652Z"
   },
   {
    "duration": 14,
    "start_time": "2025-04-01T14:23:23.723Z"
   },
   {
    "duration": 10,
    "start_time": "2025-04-01T14:23:23.739Z"
   },
   {
    "duration": 8,
    "start_time": "2025-04-01T14:23:23.750Z"
   },
   {
    "duration": 6,
    "start_time": "2025-04-01T14:23:23.759Z"
   },
   {
    "duration": 12,
    "start_time": "2025-04-01T14:23:23.768Z"
   },
   {
    "duration": 8,
    "start_time": "2025-04-01T14:23:23.781Z"
   },
   {
    "duration": 45,
    "start_time": "2025-04-01T14:23:23.790Z"
   },
   {
    "duration": 21,
    "start_time": "2025-04-01T14:23:23.838Z"
   },
   {
    "duration": 12,
    "start_time": "2025-04-01T14:23:23.861Z"
   },
   {
    "duration": 4,
    "start_time": "2025-04-01T14:23:23.875Z"
   },
   {
    "duration": 4,
    "start_time": "2025-04-01T14:23:23.881Z"
   },
   {
    "duration": 4,
    "start_time": "2025-04-01T14:23:23.888Z"
   },
   {
    "duration": 37,
    "start_time": "2025-04-01T14:23:23.894Z"
   },
   {
    "duration": 11,
    "start_time": "2025-04-01T14:23:23.933Z"
   },
   {
    "duration": 3,
    "start_time": "2025-04-01T14:23:23.946Z"
   },
   {
    "duration": 213,
    "start_time": "2025-04-01T14:23:23.951Z"
   },
   {
    "duration": 10,
    "start_time": "2025-04-01T14:23:24.165Z"
   },
   {
    "duration": 12,
    "start_time": "2025-04-01T14:23:24.177Z"
   },
   {
    "duration": 3,
    "start_time": "2025-04-01T14:23:24.190Z"
   },
   {
    "duration": 221,
    "start_time": "2025-04-01T14:23:24.195Z"
   },
   {
    "duration": 21,
    "start_time": "2025-04-01T14:23:24.418Z"
   },
   {
    "duration": 4,
    "start_time": "2025-04-01T14:23:24.441Z"
   },
   {
    "duration": 5,
    "start_time": "2025-04-01T14:23:24.448Z"
   },
   {
    "duration": 879,
    "start_time": "2025-04-01T14:23:24.454Z"
   },
   {
    "duration": 13,
    "start_time": "2025-04-01T14:23:25.335Z"
   },
   {
    "duration": 4,
    "start_time": "2025-04-01T14:23:25.352Z"
   },
   {
    "duration": 4,
    "start_time": "2025-04-01T14:23:25.357Z"
   },
   {
    "duration": 10,
    "start_time": "2025-04-01T14:23:25.363Z"
   },
   {
    "duration": 4,
    "start_time": "2025-04-01T14:23:25.374Z"
   },
   {
    "duration": 169,
    "start_time": "2025-04-01T14:23:25.380Z"
   },
   {
    "duration": 164,
    "start_time": "2025-04-01T17:17:51.544Z"
   },
   {
    "duration": 2502,
    "start_time": "2025-04-01T17:18:05.498Z"
   },
   {
    "duration": 73,
    "start_time": "2025-04-01T17:18:08.003Z"
   },
   {
    "duration": 14,
    "start_time": "2025-04-01T17:18:08.077Z"
   },
   {
    "duration": 10,
    "start_time": "2025-04-01T17:18:08.093Z"
   },
   {
    "duration": 8,
    "start_time": "2025-04-01T17:18:08.106Z"
   },
   {
    "duration": 5,
    "start_time": "2025-04-01T17:18:08.116Z"
   },
   {
    "duration": 12,
    "start_time": "2025-04-01T17:18:08.123Z"
   },
   {
    "duration": 6,
    "start_time": "2025-04-01T17:18:08.137Z"
   },
   {
    "duration": 12,
    "start_time": "2025-04-01T17:18:08.145Z"
   },
   {
    "duration": 21,
    "start_time": "2025-04-01T17:18:08.159Z"
   },
   {
    "duration": 42,
    "start_time": "2025-04-01T17:18:08.182Z"
   },
   {
    "duration": 4,
    "start_time": "2025-04-01T17:18:08.225Z"
   },
   {
    "duration": 6,
    "start_time": "2025-04-01T17:18:08.231Z"
   },
   {
    "duration": 4,
    "start_time": "2025-04-01T17:18:08.241Z"
   },
   {
    "duration": 7,
    "start_time": "2025-04-01T17:18:08.247Z"
   },
   {
    "duration": 10,
    "start_time": "2025-04-01T17:18:08.256Z"
   },
   {
    "duration": 4,
    "start_time": "2025-04-01T17:18:08.268Z"
   },
   {
    "duration": 260,
    "start_time": "2025-04-01T17:18:08.311Z"
   },
   {
    "duration": 9,
    "start_time": "2025-04-01T17:18:08.573Z"
   },
   {
    "duration": 29,
    "start_time": "2025-04-01T17:18:08.584Z"
   },
   {
    "duration": 5,
    "start_time": "2025-04-01T17:18:08.615Z"
   },
   {
    "duration": 218,
    "start_time": "2025-04-01T17:18:08.621Z"
   },
   {
    "duration": 14,
    "start_time": "2025-04-01T17:18:08.841Z"
   },
   {
    "duration": 4,
    "start_time": "2025-04-01T17:18:08.856Z"
   },
   {
    "duration": 5,
    "start_time": "2025-04-01T17:18:08.862Z"
   },
   {
    "duration": 851,
    "start_time": "2025-04-01T17:18:08.870Z"
   },
   {
    "duration": 14,
    "start_time": "2025-04-01T17:18:09.723Z"
   },
   {
    "duration": 5,
    "start_time": "2025-04-01T17:18:09.739Z"
   },
   {
    "duration": 5,
    "start_time": "2025-04-01T17:18:09.746Z"
   },
   {
    "duration": 12,
    "start_time": "2025-04-01T17:18:09.753Z"
   },
   {
    "duration": 5,
    "start_time": "2025-04-01T17:18:09.767Z"
   },
   {
    "duration": 129,
    "start_time": "2025-04-01T17:18:09.812Z"
   },
   {
    "duration": 89,
    "start_time": "2025-04-01T17:18:09.943Z"
   },
   {
    "duration": 0,
    "start_time": "2025-04-01T17:18:10.034Z"
   },
   {
    "duration": 17,
    "start_time": "2025-04-01T17:18:15.522Z"
   },
   {
    "duration": 3,
    "start_time": "2025-04-01T17:18:40.878Z"
   },
   {
    "duration": 39,
    "start_time": "2025-04-01T17:18:45.277Z"
   },
   {
    "duration": 8,
    "start_time": "2025-04-01T17:18:54.056Z"
   },
   {
    "duration": 8,
    "start_time": "2025-04-01T17:21:24.422Z"
   },
   {
    "duration": 408,
    "start_time": "2025-04-01T17:26:45.979Z"
   },
   {
    "duration": 58,
    "start_time": "2025-04-01T17:28:19.921Z"
   },
   {
    "duration": 9,
    "start_time": "2025-04-01T17:28:36.695Z"
   },
   {
    "duration": 21,
    "start_time": "2025-04-01T17:28:59.836Z"
   },
   {
    "duration": 8,
    "start_time": "2025-04-01T17:29:24.087Z"
   },
   {
    "duration": 3,
    "start_time": "2025-04-01T17:33:36.714Z"
   },
   {
    "duration": 39,
    "start_time": "2025-04-01T17:33:36.720Z"
   },
   {
    "duration": 16,
    "start_time": "2025-04-01T17:33:36.763Z"
   },
   {
    "duration": 10,
    "start_time": "2025-04-01T17:33:36.781Z"
   },
   {
    "duration": 23,
    "start_time": "2025-04-01T17:33:36.794Z"
   },
   {
    "duration": 6,
    "start_time": "2025-04-01T17:33:36.818Z"
   },
   {
    "duration": 13,
    "start_time": "2025-04-01T17:33:36.825Z"
   },
   {
    "duration": 7,
    "start_time": "2025-04-01T17:33:36.839Z"
   },
   {
    "duration": 12,
    "start_time": "2025-04-01T17:33:36.847Z"
   },
   {
    "duration": 53,
    "start_time": "2025-04-01T17:33:36.862Z"
   },
   {
    "duration": 11,
    "start_time": "2025-04-01T17:33:36.917Z"
   },
   {
    "duration": 4,
    "start_time": "2025-04-01T17:33:36.930Z"
   },
   {
    "duration": 5,
    "start_time": "2025-04-01T17:33:36.936Z"
   },
   {
    "duration": 5,
    "start_time": "2025-04-01T17:33:36.943Z"
   },
   {
    "duration": 7,
    "start_time": "2025-04-01T17:33:36.949Z"
   },
   {
    "duration": 13,
    "start_time": "2025-04-01T17:33:36.958Z"
   },
   {
    "duration": 4,
    "start_time": "2025-04-01T17:33:37.012Z"
   },
   {
    "duration": 211,
    "start_time": "2025-04-01T17:33:37.017Z"
   },
   {
    "duration": 10,
    "start_time": "2025-04-01T17:33:37.230Z"
   },
   {
    "duration": 11,
    "start_time": "2025-04-01T17:33:37.242Z"
   },
   {
    "duration": 4,
    "start_time": "2025-04-01T17:33:37.255Z"
   },
   {
    "duration": 205,
    "start_time": "2025-04-01T17:33:37.261Z"
   },
   {
    "duration": 14,
    "start_time": "2025-04-01T17:33:37.467Z"
   },
   {
    "duration": 3,
    "start_time": "2025-04-01T17:33:37.483Z"
   },
   {
    "duration": 5,
    "start_time": "2025-04-01T17:33:37.511Z"
   },
   {
    "duration": 918,
    "start_time": "2025-04-01T17:33:37.518Z"
   },
   {
    "duration": 13,
    "start_time": "2025-04-01T17:33:38.438Z"
   },
   {
    "duration": 4,
    "start_time": "2025-04-01T17:33:38.453Z"
   },
   {
    "duration": 5,
    "start_time": "2025-04-01T17:33:38.459Z"
   },
   {
    "duration": 18,
    "start_time": "2025-04-01T17:33:38.465Z"
   },
   {
    "duration": 28,
    "start_time": "2025-04-01T17:33:38.486Z"
   },
   {
    "duration": 136,
    "start_time": "2025-04-01T17:33:38.517Z"
   },
   {
    "duration": 8,
    "start_time": "2025-04-01T17:33:38.655Z"
   },
   {
    "duration": 9,
    "start_time": "2025-04-01T17:33:38.664Z"
   },
   {
    "duration": 8,
    "start_time": "2025-04-01T17:34:17.160Z"
   },
   {
    "duration": 51,
    "start_time": "2025-04-01T17:37:04.357Z"
   },
   {
    "duration": 8,
    "start_time": "2025-04-01T17:37:18.581Z"
   },
   {
    "duration": 8,
    "start_time": "2025-04-01T17:37:24.631Z"
   },
   {
    "duration": 9,
    "start_time": "2025-04-01T17:37:31.834Z"
   },
   {
    "duration": 9,
    "start_time": "2025-04-01T17:39:03.918Z"
   },
   {
    "duration": 46,
    "start_time": "2025-04-01T17:40:10.333Z"
   },
   {
    "duration": 8,
    "start_time": "2025-04-01T17:40:22.593Z"
   },
   {
    "duration": 8,
    "start_time": "2025-04-01T17:41:28.673Z"
   },
   {
    "duration": 7,
    "start_time": "2025-04-01T17:42:38.897Z"
   },
   {
    "duration": 7,
    "start_time": "2025-04-01T17:43:29.230Z"
   },
   {
    "duration": 8,
    "start_time": "2025-04-01T17:43:43.729Z"
   },
   {
    "duration": 7,
    "start_time": "2025-04-01T17:44:15.151Z"
   },
   {
    "duration": 7,
    "start_time": "2025-04-01T17:45:11.690Z"
   },
   {
    "duration": 3,
    "start_time": "2025-04-01T17:45:18.315Z"
   },
   {
    "duration": 8,
    "start_time": "2025-04-01T17:50:51.729Z"
   },
   {
    "duration": 7,
    "start_time": "2025-04-01T17:52:42.542Z"
   },
   {
    "duration": 4,
    "start_time": "2025-04-01T17:53:36.249Z"
   },
   {
    "duration": 7,
    "start_time": "2025-04-01T17:54:42.385Z"
   },
   {
    "duration": 8,
    "start_time": "2025-04-01T17:55:26.280Z"
   },
   {
    "duration": 8,
    "start_time": "2025-04-01T18:24:01.089Z"
   },
   {
    "duration": 2484,
    "start_time": "2025-04-01T20:25:50.657Z"
   },
   {
    "duration": 70,
    "start_time": "2025-04-01T20:25:53.143Z"
   },
   {
    "duration": 15,
    "start_time": "2025-04-01T20:25:53.214Z"
   },
   {
    "duration": 17,
    "start_time": "2025-04-01T20:25:53.231Z"
   },
   {
    "duration": 10,
    "start_time": "2025-04-01T20:25:53.250Z"
   },
   {
    "duration": 7,
    "start_time": "2025-04-01T20:25:53.261Z"
   },
   {
    "duration": 17,
    "start_time": "2025-04-01T20:25:53.270Z"
   },
   {
    "duration": 21,
    "start_time": "2025-04-01T20:25:53.292Z"
   },
   {
    "duration": 13,
    "start_time": "2025-04-01T20:25:53.315Z"
   },
   {
    "duration": 21,
    "start_time": "2025-04-01T20:25:53.331Z"
   },
   {
    "duration": 13,
    "start_time": "2025-04-01T20:25:53.354Z"
   },
   {
    "duration": 7,
    "start_time": "2025-04-01T20:25:53.369Z"
   },
   {
    "duration": 40,
    "start_time": "2025-04-01T20:25:53.377Z"
   },
   {
    "duration": 5,
    "start_time": "2025-04-01T20:25:53.420Z"
   },
   {
    "duration": 9,
    "start_time": "2025-04-01T20:25:53.427Z"
   },
   {
    "duration": 12,
    "start_time": "2025-04-01T20:25:53.438Z"
   },
   {
    "duration": 3,
    "start_time": "2025-04-01T20:25:53.452Z"
   },
   {
    "duration": 227,
    "start_time": "2025-04-01T20:25:53.457Z"
   },
   {
    "duration": 13,
    "start_time": "2025-04-01T20:25:53.685Z"
   },
   {
    "duration": 12,
    "start_time": "2025-04-01T20:25:53.711Z"
   },
   {
    "duration": 3,
    "start_time": "2025-04-01T20:25:53.725Z"
   },
   {
    "duration": 210,
    "start_time": "2025-04-01T20:25:53.730Z"
   },
   {
    "duration": 14,
    "start_time": "2025-04-01T20:25:53.941Z"
   },
   {
    "duration": 4,
    "start_time": "2025-04-01T20:25:53.956Z"
   },
   {
    "duration": 5,
    "start_time": "2025-04-01T20:25:53.961Z"
   },
   {
    "duration": 904,
    "start_time": "2025-04-01T20:25:53.968Z"
   },
   {
    "duration": 13,
    "start_time": "2025-04-01T20:25:54.875Z"
   },
   {
    "duration": 4,
    "start_time": "2025-04-01T20:25:54.891Z"
   },
   {
    "duration": 3,
    "start_time": "2025-04-01T20:25:54.912Z"
   },
   {
    "duration": 10,
    "start_time": "2025-04-01T20:25:54.917Z"
   },
   {
    "duration": 5,
    "start_time": "2025-04-01T20:25:54.929Z"
   },
   {
    "duration": 163,
    "start_time": "2025-04-01T20:25:54.935Z"
   },
   {
    "duration": 15,
    "start_time": "2025-04-01T20:25:55.100Z"
   },
   {
    "duration": 5,
    "start_time": "2025-04-01T20:25:55.116Z"
   },
   {
    "duration": 8,
    "start_time": "2025-04-01T20:25:55.122Z"
   },
   {
    "duration": 7,
    "start_time": "2025-04-01T20:25:55.131Z"
   },
   {
    "duration": 4,
    "start_time": "2025-04-01T20:25:55.139Z"
   },
   {
    "duration": 641,
    "start_time": "2025-04-01T20:25:55.144Z"
   },
   {
    "duration": 2,
    "start_time": "2025-04-01T21:02:08.059Z"
   },
   {
    "duration": 40,
    "start_time": "2025-04-01T21:02:08.075Z"
   },
   {
    "duration": 13,
    "start_time": "2025-04-01T21:02:08.117Z"
   },
   {
    "duration": 8,
    "start_time": "2025-04-01T21:02:08.131Z"
   },
   {
    "duration": 8,
    "start_time": "2025-04-01T21:02:08.141Z"
   },
   {
    "duration": 6,
    "start_time": "2025-04-01T21:02:08.151Z"
   },
   {
    "duration": 12,
    "start_time": "2025-04-01T21:02:08.159Z"
   },
   {
    "duration": 40,
    "start_time": "2025-04-01T21:02:08.174Z"
   },
   {
    "duration": 11,
    "start_time": "2025-04-01T21:02:08.215Z"
   },
   {
    "duration": 19,
    "start_time": "2025-04-01T21:02:08.227Z"
   },
   {
    "duration": 13,
    "start_time": "2025-04-01T21:02:08.248Z"
   },
   {
    "duration": 5,
    "start_time": "2025-04-01T21:02:08.262Z"
   },
   {
    "duration": 5,
    "start_time": "2025-04-01T21:02:08.268Z"
   },
   {
    "duration": 4,
    "start_time": "2025-04-01T21:02:08.312Z"
   },
   {
    "duration": 6,
    "start_time": "2025-04-01T21:02:08.317Z"
   },
   {
    "duration": 11,
    "start_time": "2025-04-01T21:02:08.325Z"
   },
   {
    "duration": 3,
    "start_time": "2025-04-01T21:02:08.338Z"
   },
   {
    "duration": 243,
    "start_time": "2025-04-01T21:02:08.343Z"
   },
   {
    "duration": 11,
    "start_time": "2025-04-01T21:02:08.588Z"
   },
   {
    "duration": 27,
    "start_time": "2025-04-01T21:02:08.600Z"
   },
   {
    "duration": 3,
    "start_time": "2025-04-01T21:02:08.630Z"
   },
   {
    "duration": 211,
    "start_time": "2025-04-01T21:02:08.635Z"
   },
   {
    "duration": 14,
    "start_time": "2025-04-01T21:02:08.848Z"
   },
   {
    "duration": 4,
    "start_time": "2025-04-01T21:02:08.863Z"
   },
   {
    "duration": 5,
    "start_time": "2025-04-01T21:02:08.869Z"
   },
   {
    "duration": 857,
    "start_time": "2025-04-01T21:02:08.877Z"
   },
   {
    "duration": 12,
    "start_time": "2025-04-01T21:02:09.736Z"
   },
   {
    "duration": 4,
    "start_time": "2025-04-01T21:02:09.750Z"
   },
   {
    "duration": 5,
    "start_time": "2025-04-01T21:02:09.755Z"
   },
   {
    "duration": 11,
    "start_time": "2025-04-01T21:02:09.761Z"
   },
   {
    "duration": 36,
    "start_time": "2025-04-01T21:02:09.775Z"
   },
   {
    "duration": 226,
    "start_time": "2025-04-01T21:02:09.813Z"
   },
   {
    "duration": 6,
    "start_time": "2025-04-01T21:02:10.041Z"
   },
   {
    "duration": 3,
    "start_time": "2025-04-01T21:02:10.049Z"
   },
   {
    "duration": 7,
    "start_time": "2025-04-01T21:02:10.054Z"
   },
   {
    "duration": 7,
    "start_time": "2025-04-01T21:02:10.063Z"
   },
   {
    "duration": 5,
    "start_time": "2025-04-01T21:02:10.071Z"
   },
   {
    "duration": 74,
    "start_time": "2025-04-01T21:02:10.077Z"
   },
   {
    "duration": 6,
    "start_time": "2025-04-01T21:06:48.560Z"
   },
   {
    "duration": 7,
    "start_time": "2025-04-01T21:07:19.832Z"
   },
   {
    "duration": 8,
    "start_time": "2025-04-01T21:11:25.194Z"
   },
   {
    "duration": 7,
    "start_time": "2025-04-01T21:12:19.938Z"
   },
   {
    "duration": 6,
    "start_time": "2025-04-01T21:15:41.130Z"
   },
   {
    "duration": 7,
    "start_time": "2025-04-01T21:16:06.080Z"
   },
   {
    "duration": 6,
    "start_time": "2025-04-01T21:17:32.775Z"
   },
   {
    "duration": 7,
    "start_time": "2025-04-01T21:17:52.597Z"
   },
   {
    "duration": 42,
    "start_time": "2025-04-02T02:58:38.808Z"
   },
   {
    "duration": 14,
    "start_time": "2025-04-02T02:58:47.858Z"
   },
   {
    "duration": 1058,
    "start_time": "2025-04-03T02:37:08.666Z"
   },
   {
    "duration": 80,
    "start_time": "2025-04-03T02:37:09.727Z"
   },
   {
    "duration": 17,
    "start_time": "2025-04-03T02:37:09.809Z"
   },
   {
    "duration": 13,
    "start_time": "2025-04-03T02:37:09.829Z"
   },
   {
    "duration": 9,
    "start_time": "2025-04-03T02:37:09.844Z"
   },
   {
    "duration": 6,
    "start_time": "2025-04-03T02:37:09.855Z"
   },
   {
    "duration": 14,
    "start_time": "2025-04-03T02:37:09.863Z"
   },
   {
    "duration": 7,
    "start_time": "2025-04-03T02:37:09.879Z"
   },
   {
    "duration": 49,
    "start_time": "2025-04-03T02:37:09.887Z"
   },
   {
    "duration": 34,
    "start_time": "2025-04-03T02:37:09.939Z"
   },
   {
    "duration": 13,
    "start_time": "2025-04-03T02:37:09.975Z"
   },
   {
    "duration": 7,
    "start_time": "2025-04-03T02:37:09.990Z"
   },
   {
    "duration": 27,
    "start_time": "2025-04-03T02:37:09.999Z"
   },
   {
    "duration": 9,
    "start_time": "2025-04-03T02:37:10.027Z"
   },
   {
    "duration": 10,
    "start_time": "2025-04-03T02:37:10.042Z"
   },
   {
    "duration": 16,
    "start_time": "2025-04-03T02:37:10.053Z"
   },
   {
    "duration": 4,
    "start_time": "2025-04-03T02:37:10.071Z"
   },
   {
    "duration": 258,
    "start_time": "2025-04-03T02:37:10.077Z"
   },
   {
    "duration": 11,
    "start_time": "2025-04-03T02:37:10.337Z"
   },
   {
    "duration": 17,
    "start_time": "2025-04-03T02:37:10.350Z"
   },
   {
    "duration": 3,
    "start_time": "2025-04-03T02:37:10.368Z"
   },
   {
    "duration": 251,
    "start_time": "2025-04-03T02:37:10.373Z"
   },
   {
    "duration": 15,
    "start_time": "2025-04-03T02:37:10.626Z"
   },
   {
    "duration": 4,
    "start_time": "2025-04-03T02:37:10.644Z"
   },
   {
    "duration": 4,
    "start_time": "2025-04-03T02:37:10.650Z"
   },
   {
    "duration": 964,
    "start_time": "2025-04-03T02:37:10.656Z"
   },
   {
    "duration": 16,
    "start_time": "2025-04-03T02:37:11.625Z"
   },
   {
    "duration": 6,
    "start_time": "2025-04-03T02:37:11.647Z"
   },
   {
    "duration": 5,
    "start_time": "2025-04-03T02:37:11.655Z"
   },
   {
    "duration": 13,
    "start_time": "2025-04-03T02:37:11.662Z"
   },
   {
    "duration": 9,
    "start_time": "2025-04-03T02:37:11.679Z"
   },
   {
    "duration": 167,
    "start_time": "2025-04-03T02:37:11.690Z"
   },
   {
    "duration": 8,
    "start_time": "2025-04-03T02:37:11.859Z"
   },
   {
    "duration": 4,
    "start_time": "2025-04-03T02:37:33.005Z"
   },
   {
    "duration": 9,
    "start_time": "2025-04-03T02:37:35.346Z"
   },
   {
    "duration": 10,
    "start_time": "2025-04-03T02:37:47.144Z"
   },
   {
    "duration": 163,
    "start_time": "2025-04-03T17:36:08.651Z"
   },
   {
    "duration": 2469,
    "start_time": "2025-04-03T17:36:22.151Z"
   },
   {
    "duration": 69,
    "start_time": "2025-04-03T17:36:24.623Z"
   },
   {
    "duration": 13,
    "start_time": "2025-04-03T17:36:24.694Z"
   },
   {
    "duration": 10,
    "start_time": "2025-04-03T17:36:24.708Z"
   },
   {
    "duration": 8,
    "start_time": "2025-04-03T17:36:24.720Z"
   },
   {
    "duration": 6,
    "start_time": "2025-04-03T17:36:24.730Z"
   },
   {
    "duration": 13,
    "start_time": "2025-04-03T17:36:24.737Z"
   },
   {
    "duration": 6,
    "start_time": "2025-04-03T17:36:24.752Z"
   },
   {
    "duration": 12,
    "start_time": "2025-04-03T17:36:24.759Z"
   },
   {
    "duration": 55,
    "start_time": "2025-04-03T17:36:24.775Z"
   },
   {
    "duration": 13,
    "start_time": "2025-04-03T17:36:24.831Z"
   },
   {
    "duration": 4,
    "start_time": "2025-04-03T17:36:24.846Z"
   },
   {
    "duration": 5,
    "start_time": "2025-04-03T17:36:24.852Z"
   },
   {
    "duration": 5,
    "start_time": "2025-04-03T17:36:24.859Z"
   },
   {
    "duration": 7,
    "start_time": "2025-04-03T17:36:24.865Z"
   },
   {
    "duration": 44,
    "start_time": "2025-04-03T17:36:24.874Z"
   },
   {
    "duration": 4,
    "start_time": "2025-04-03T17:36:24.919Z"
   },
   {
    "duration": 217,
    "start_time": "2025-04-03T17:36:24.925Z"
   },
   {
    "duration": 9,
    "start_time": "2025-04-03T17:36:25.144Z"
   },
   {
    "duration": 13,
    "start_time": "2025-04-03T17:36:25.155Z"
   },
   {
    "duration": 3,
    "start_time": "2025-04-03T17:36:25.170Z"
   },
   {
    "duration": 213,
    "start_time": "2025-04-03T17:36:25.176Z"
   },
   {
    "duration": 24,
    "start_time": "2025-04-03T17:36:25.391Z"
   },
   {
    "duration": 3,
    "start_time": "2025-04-03T17:36:25.417Z"
   },
   {
    "duration": 4,
    "start_time": "2025-04-03T17:36:25.422Z"
   },
   {
    "duration": 189,
    "start_time": "2025-04-03T17:36:25.428Z"
   },
   {
    "duration": 12,
    "start_time": "2025-04-03T17:36:25.619Z"
   },
   {
    "duration": 4,
    "start_time": "2025-04-03T17:36:25.635Z"
   },
   {
    "duration": 4,
    "start_time": "2025-04-03T17:36:25.641Z"
   },
   {
    "duration": 10,
    "start_time": "2025-04-03T17:36:25.648Z"
   },
   {
    "duration": 5,
    "start_time": "2025-04-03T17:36:25.659Z"
   },
   {
    "duration": 212,
    "start_time": "2025-04-03T17:36:25.666Z"
   },
   {
    "duration": 7,
    "start_time": "2025-04-03T17:36:25.880Z"
   },
   {
    "duration": 207,
    "start_time": "2025-04-03T17:36:57.283Z"
   },
   {
    "duration": 237,
    "start_time": "2025-04-03T17:37:07.505Z"
   },
   {
    "duration": 216,
    "start_time": "2025-04-03T17:37:19.069Z"
   },
   {
    "duration": 807,
    "start_time": "2025-04-03T17:37:28.073Z"
   },
   {
    "duration": 202,
    "start_time": "2025-04-03T17:37:36.037Z"
   },
   {
    "duration": 195,
    "start_time": "2025-04-03T17:37:43.851Z"
   },
   {
    "duration": 208,
    "start_time": "2025-04-03T17:37:57.762Z"
   },
   {
    "duration": 319,
    "start_time": "2025-04-03T17:38:05.607Z"
   },
   {
    "duration": 761,
    "start_time": "2025-04-03T17:41:52.157Z"
   },
   {
    "duration": 432,
    "start_time": "2025-04-03T17:42:26.402Z"
   },
   {
    "duration": 144,
    "start_time": "2025-04-03T17:44:02.794Z"
   },
   {
    "duration": 183,
    "start_time": "2025-04-03T17:44:25.661Z"
   },
   {
    "duration": 192,
    "start_time": "2025-04-03T17:44:46.130Z"
   },
   {
    "duration": 14,
    "start_time": "2025-04-03T17:45:43.731Z"
   },
   {
    "duration": 7,
    "start_time": "2025-04-03T17:48:36.428Z"
   },
   {
    "duration": 8,
    "start_time": "2025-04-03T17:48:42.710Z"
   },
   {
    "duration": 13,
    "start_time": "2025-04-03T17:54:23.129Z"
   },
   {
    "duration": 14,
    "start_time": "2025-04-03T17:54:35.166Z"
   },
   {
    "duration": 158,
    "start_time": "2025-04-03T21:57:13.491Z"
   },
   {
    "duration": 2538,
    "start_time": "2025-04-03T21:57:19.074Z"
   },
   {
    "duration": 71,
    "start_time": "2025-04-03T21:57:21.614Z"
   },
   {
    "duration": 14,
    "start_time": "2025-04-03T21:57:21.688Z"
   },
   {
    "duration": 11,
    "start_time": "2025-04-03T21:57:21.704Z"
   },
   {
    "duration": 8,
    "start_time": "2025-04-03T21:57:21.716Z"
   },
   {
    "duration": 7,
    "start_time": "2025-04-03T21:57:21.726Z"
   },
   {
    "duration": 13,
    "start_time": "2025-04-03T21:57:21.734Z"
   },
   {
    "duration": 8,
    "start_time": "2025-04-03T21:57:21.750Z"
   },
   {
    "duration": 13,
    "start_time": "2025-04-03T21:57:21.760Z"
   },
   {
    "duration": 53,
    "start_time": "2025-04-03T21:57:21.776Z"
   },
   {
    "duration": 14,
    "start_time": "2025-04-03T21:57:21.830Z"
   },
   {
    "duration": 5,
    "start_time": "2025-04-03T21:57:21.846Z"
   },
   {
    "duration": 6,
    "start_time": "2025-04-03T21:57:21.853Z"
   },
   {
    "duration": 6,
    "start_time": "2025-04-03T21:57:21.860Z"
   },
   {
    "duration": 8,
    "start_time": "2025-04-03T21:57:21.868Z"
   },
   {
    "duration": 26,
    "start_time": "2025-04-03T21:57:21.877Z"
   },
   {
    "duration": 15,
    "start_time": "2025-04-03T21:57:21.924Z"
   },
   {
    "duration": 4,
    "start_time": "2025-04-03T21:57:21.940Z"
   },
   {
    "duration": 12,
    "start_time": "2025-04-03T21:57:21.946Z"
   },
   {
    "duration": 223,
    "start_time": "2025-04-03T21:57:21.960Z"
   },
   {
    "duration": 11,
    "start_time": "2025-04-03T21:57:22.185Z"
   },
   {
    "duration": 29,
    "start_time": "2025-04-03T21:57:22.197Z"
   },
   {
    "duration": 3,
    "start_time": "2025-04-03T21:57:22.228Z"
   },
   {
    "duration": 321,
    "start_time": "2025-04-03T21:57:22.233Z"
   },
   {
    "duration": 14,
    "start_time": "2025-04-03T21:57:22.556Z"
   },
   {
    "duration": 4,
    "start_time": "2025-04-03T21:57:22.571Z"
   },
   {
    "duration": 5,
    "start_time": "2025-04-03T21:57:22.577Z"
   },
   {
    "duration": 248,
    "start_time": "2025-04-03T21:57:22.586Z"
   },
   {
    "duration": 30,
    "start_time": "2025-04-03T21:57:22.835Z"
   },
   {
    "duration": 8,
    "start_time": "2025-04-03T21:57:22.867Z"
   },
   {
    "duration": 4,
    "start_time": "2025-04-03T21:57:22.877Z"
   },
   {
    "duration": 19,
    "start_time": "2025-04-03T21:57:22.883Z"
   },
   {
    "duration": 6,
    "start_time": "2025-04-03T21:57:22.924Z"
   },
   {
    "duration": 138,
    "start_time": "2025-04-03T21:57:22.932Z"
   },
   {
    "duration": 21,
    "start_time": "2025-04-03T21:57:23.072Z"
   },
   {
    "duration": 80,
    "start_time": "2025-04-03T21:57:37.014Z"
   },
   {
    "duration": 2,
    "start_time": "2025-04-03T21:58:04.833Z"
   },
   {
    "duration": 41,
    "start_time": "2025-04-03T21:58:05.171Z"
   },
   {
    "duration": 322,
    "start_time": "2025-04-03T21:58:13.318Z"
   },
   {
    "duration": 10,
    "start_time": "2025-04-03T22:00:22.942Z"
   },
   {
    "duration": 314,
    "start_time": "2025-04-03T22:00:23.926Z"
   },
   {
    "duration": 363,
    "start_time": "2025-04-03T22:02:08.589Z"
   },
   {
    "duration": 379,
    "start_time": "2025-04-03T22:03:13.705Z"
   },
   {
    "duration": 10,
    "start_time": "2025-04-03T22:03:45.229Z"
   },
   {
    "duration": 443,
    "start_time": "2025-04-03T22:03:45.853Z"
   },
   {
    "duration": 9,
    "start_time": "2025-04-03T22:09:55.339Z"
   },
   {
    "duration": 3,
    "start_time": "2025-04-03T22:11:24.154Z"
   },
   {
    "duration": 79,
    "start_time": "2025-04-03T22:11:57.846Z"
   },
   {
    "duration": 4,
    "start_time": "2025-04-03T22:19:58.345Z"
   },
   {
    "duration": 336,
    "start_time": "2025-04-03T22:19:59.144Z"
   },
   {
    "duration": 360,
    "start_time": "2025-04-03T22:20:08.824Z"
   },
   {
    "duration": 316,
    "start_time": "2025-04-03T22:20:15.431Z"
   },
   {
    "duration": 288,
    "start_time": "2025-04-03T22:20:24.149Z"
   },
   {
    "duration": 404,
    "start_time": "2025-04-03T22:22:01.862Z"
   },
   {
    "duration": 692,
    "start_time": "2025-04-03T22:23:32.046Z"
   },
   {
    "duration": 579,
    "start_time": "2025-04-03T22:23:47.796Z"
   },
   {
    "duration": 409,
    "start_time": "2025-04-03T22:26:32.603Z"
   },
   {
    "duration": 5,
    "start_time": "2025-04-03T22:28:04.421Z"
   },
   {
    "duration": 5,
    "start_time": "2025-04-03T22:28:48.664Z"
   },
   {
    "duration": 5,
    "start_time": "2025-04-03T22:29:07.161Z"
   },
   {
    "duration": 491,
    "start_time": "2025-04-03T22:29:07.470Z"
   },
   {
    "duration": 727,
    "start_time": "2025-04-03T22:30:01.702Z"
   },
   {
    "duration": 5,
    "start_time": "2025-04-03T22:30:27.183Z"
   },
   {
    "duration": 509,
    "start_time": "2025-04-03T22:30:33.608Z"
   },
   {
    "duration": 5,
    "start_time": "2025-04-03T22:30:49.888Z"
   },
   {
    "duration": 516,
    "start_time": "2025-04-03T22:33:55.751Z"
   },
   {
    "duration": 185,
    "start_time": "2025-04-04T00:00:21.215Z"
   },
   {
    "duration": 314,
    "start_time": "2025-04-04T00:07:12.604Z"
   },
   {
    "duration": 324,
    "start_time": "2025-04-04T00:07:47.135Z"
   },
   {
    "duration": 4,
    "start_time": "2025-04-04T00:10:20.844Z"
   },
   {
    "duration": 4,
    "start_time": "2025-04-04T00:36:52.932Z"
   },
   {
    "duration": 13,
    "start_time": "2025-04-04T00:39:54.133Z"
   },
   {
    "duration": 10,
    "start_time": "2025-04-04T00:40:10.502Z"
   },
   {
    "duration": 2,
    "start_time": "2025-04-04T00:40:49.568Z"
   },
   {
    "duration": 50,
    "start_time": "2025-04-04T00:40:49.580Z"
   },
   {
    "duration": 16,
    "start_time": "2025-04-04T00:40:49.633Z"
   },
   {
    "duration": 8,
    "start_time": "2025-04-04T00:40:49.651Z"
   },
   {
    "duration": 8,
    "start_time": "2025-04-04T00:40:49.661Z"
   },
   {
    "duration": 6,
    "start_time": "2025-04-04T00:40:49.670Z"
   },
   {
    "duration": 12,
    "start_time": "2025-04-04T00:40:49.677Z"
   },
   {
    "duration": 39,
    "start_time": "2025-04-04T00:40:49.691Z"
   },
   {
    "duration": 11,
    "start_time": "2025-04-04T00:40:49.731Z"
   },
   {
    "duration": 21,
    "start_time": "2025-04-04T00:40:49.746Z"
   },
   {
    "duration": 11,
    "start_time": "2025-04-04T00:40:49.769Z"
   },
   {
    "duration": 4,
    "start_time": "2025-04-04T00:40:49.781Z"
   },
   {
    "duration": 38,
    "start_time": "2025-04-04T00:40:49.787Z"
   },
   {
    "duration": 5,
    "start_time": "2025-04-04T00:40:49.828Z"
   },
   {
    "duration": 6,
    "start_time": "2025-04-04T00:40:49.836Z"
   },
   {
    "duration": 7,
    "start_time": "2025-04-04T00:40:49.844Z"
   },
   {
    "duration": 13,
    "start_time": "2025-04-04T00:40:49.853Z"
   },
   {
    "duration": 131,
    "start_time": "2025-04-04T00:40:49.868Z"
   },
   {
    "duration": 6,
    "start_time": "2025-04-04T00:40:50.000Z"
   },
   {
    "duration": 17,
    "start_time": "2025-04-04T00:40:50.009Z"
   },
   {
    "duration": 480,
    "start_time": "2025-04-04T00:40:50.028Z"
   },
   {
    "duration": 344,
    "start_time": "2025-04-04T00:40:50.510Z"
   },
   {
    "duration": 10,
    "start_time": "2025-04-04T00:40:50.856Z"
   },
   {
    "duration": 13,
    "start_time": "2025-04-04T00:40:50.869Z"
   },
   {
    "duration": 4,
    "start_time": "2025-04-04T00:40:50.883Z"
   },
   {
    "duration": 217,
    "start_time": "2025-04-04T00:40:50.888Z"
   },
   {
    "duration": 23,
    "start_time": "2025-04-04T00:40:51.106Z"
   },
   {
    "duration": 3,
    "start_time": "2025-04-04T00:40:51.131Z"
   },
   {
    "duration": 5,
    "start_time": "2025-04-04T00:40:51.136Z"
   },
   {
    "duration": 539,
    "start_time": "2025-04-04T00:40:51.143Z"
   },
   {
    "duration": 14,
    "start_time": "2025-04-04T00:40:51.683Z"
   },
   {
    "duration": 5,
    "start_time": "2025-04-04T00:40:51.698Z"
   },
   {
    "duration": 21,
    "start_time": "2025-04-04T00:40:51.705Z"
   },
   {
    "duration": 10,
    "start_time": "2025-04-04T00:40:51.728Z"
   },
   {
    "duration": 5,
    "start_time": "2025-04-04T00:40:51.740Z"
   },
   {
    "duration": 155,
    "start_time": "2025-04-04T00:40:51.746Z"
   },
   {
    "duration": 12,
    "start_time": "2025-04-04T00:40:51.903Z"
   },
   {
    "duration": 4,
    "start_time": "2025-04-04T00:43:31.864Z"
   },
   {
    "duration": 417,
    "start_time": "2025-04-04T00:43:32.697Z"
   },
   {
    "duration": 5,
    "start_time": "2025-04-04T00:43:51.307Z"
   },
   {
    "duration": 355,
    "start_time": "2025-04-04T00:45:12.508Z"
   },
   {
    "duration": 115,
    "start_time": "2025-04-04T00:45:44.458Z"
   },
   {
    "duration": 13,
    "start_time": "2025-04-04T00:46:32.222Z"
   },
   {
    "duration": 15,
    "start_time": "2025-04-04T00:46:39.856Z"
   },
   {
    "duration": 4,
    "start_time": "2025-04-04T00:46:45.226Z"
   },
   {
    "duration": 6,
    "start_time": "2025-04-04T00:46:51.909Z"
   },
   {
    "duration": 337,
    "start_time": "2025-04-04T00:46:52.569Z"
   },
   {
    "duration": 5,
    "start_time": "2025-04-04T01:19:21.498Z"
   },
   {
    "duration": 4,
    "start_time": "2025-04-04T01:19:22.152Z"
   },
   {
    "duration": 290,
    "start_time": "2025-04-04T01:19:23.497Z"
   },
   {
    "duration": 460,
    "start_time": "2025-04-04T01:19:31.325Z"
   },
   {
    "duration": 315,
    "start_time": "2025-04-04T01:20:51.139Z"
   },
   {
    "duration": 15,
    "start_time": "2025-04-04T01:23:53.777Z"
   },
   {
    "duration": 4,
    "start_time": "2025-04-04T01:24:07.580Z"
   },
   {
    "duration": 5,
    "start_time": "2025-04-04T01:24:09.277Z"
   },
   {
    "duration": 16,
    "start_time": "2025-04-04T01:24:16.178Z"
   },
   {
    "duration": 20,
    "start_time": "2025-04-04T01:24:21.917Z"
   },
   {
    "duration": 5,
    "start_time": "2025-04-04T01:24:42.349Z"
   },
   {
    "duration": 5,
    "start_time": "2025-04-04T01:24:52.818Z"
   },
   {
    "duration": 11,
    "start_time": "2025-04-04T01:25:07.818Z"
   },
   {
    "duration": 14,
    "start_time": "2025-04-04T01:25:11.594Z"
   },
   {
    "duration": 5,
    "start_time": "2025-04-04T01:25:42.593Z"
   },
   {
    "duration": 125,
    "start_time": "2025-04-04T01:25:50.672Z"
   },
   {
    "duration": 14,
    "start_time": "2025-04-04T01:26:39.535Z"
   },
   {
    "duration": 3,
    "start_time": "2025-04-04T01:26:53.371Z"
   },
   {
    "duration": 3,
    "start_time": "2025-04-04T01:27:08.222Z"
   },
   {
    "duration": 17,
    "start_time": "2025-04-04T01:27:20.536Z"
   },
   {
    "duration": 4,
    "start_time": "2025-04-04T01:27:26.674Z"
   },
   {
    "duration": 3,
    "start_time": "2025-04-04T01:27:40.286Z"
   },
   {
    "duration": 97,
    "start_time": "2025-04-04T01:29:05.338Z"
   },
   {
    "duration": 15,
    "start_time": "2025-04-04T01:29:37.974Z"
   },
   {
    "duration": 15,
    "start_time": "2025-04-04T01:29:47.375Z"
   },
   {
    "duration": 100,
    "start_time": "2025-04-04T01:30:00.827Z"
   },
   {
    "duration": 4,
    "start_time": "2025-04-04T01:30:51.082Z"
   },
   {
    "duration": 5,
    "start_time": "2025-04-04T01:32:01.065Z"
   },
   {
    "duration": 4,
    "start_time": "2025-04-04T01:32:03.431Z"
   },
   {
    "duration": 11,
    "start_time": "2025-04-04T01:32:05.151Z"
   },
   {
    "duration": 6,
    "start_time": "2025-04-04T01:32:10.537Z"
   },
   {
    "duration": 129,
    "start_time": "2025-04-04T01:32:13.323Z"
   },
   {
    "duration": 7,
    "start_time": "2025-04-04T01:32:26.725Z"
   },
   {
    "duration": 10,
    "start_time": "2025-04-04T01:33:12.156Z"
   },
   {
    "duration": 495,
    "start_time": "2025-04-04T01:37:42.641Z"
   },
   {
    "duration": 7,
    "start_time": "2025-04-04T01:38:11.601Z"
   },
   {
    "duration": 6,
    "start_time": "2025-04-04T01:38:24.132Z"
   },
   {
    "duration": 6,
    "start_time": "2025-04-04T01:38:31.939Z"
   },
   {
    "duration": 4,
    "start_time": "2025-04-04T01:39:02.072Z"
   },
   {
    "duration": 4,
    "start_time": "2025-04-04T01:39:15.354Z"
   },
   {
    "duration": 4,
    "start_time": "2025-04-04T01:39:30.269Z"
   },
   {
    "duration": 3,
    "start_time": "2025-04-04T01:39:30.851Z"
   },
   {
    "duration": 6,
    "start_time": "2025-04-04T01:39:42.606Z"
   },
   {
    "duration": 10,
    "start_time": "2025-04-04T01:39:49.593Z"
   },
   {
    "duration": 7,
    "start_time": "2025-04-04T01:40:12.138Z"
   },
   {
    "duration": 3,
    "start_time": "2025-04-04T01:40:15.830Z"
   },
   {
    "duration": 6,
    "start_time": "2025-04-04T01:40:16.343Z"
   },
   {
    "duration": 14,
    "start_time": "2025-04-04T01:48:50.350Z"
   },
   {
    "duration": 94,
    "start_time": "2025-04-04T01:48:59.218Z"
   },
   {
    "duration": 2573,
    "start_time": "2025-04-04T16:49:38.599Z"
   },
   {
    "duration": 70,
    "start_time": "2025-04-04T16:49:41.174Z"
   },
   {
    "duration": 15,
    "start_time": "2025-04-04T16:49:41.246Z"
   },
   {
    "duration": 10,
    "start_time": "2025-04-04T16:49:41.263Z"
   },
   {
    "duration": 8,
    "start_time": "2025-04-04T16:49:41.275Z"
   },
   {
    "duration": 5,
    "start_time": "2025-04-04T16:49:41.285Z"
   },
   {
    "duration": 14,
    "start_time": "2025-04-04T16:49:41.291Z"
   },
   {
    "duration": 37,
    "start_time": "2025-04-04T16:49:41.306Z"
   },
   {
    "duration": 12,
    "start_time": "2025-04-04T16:49:41.345Z"
   },
   {
    "duration": 21,
    "start_time": "2025-04-04T16:49:41.361Z"
   },
   {
    "duration": 13,
    "start_time": "2025-04-04T16:49:41.384Z"
   },
   {
    "duration": 4,
    "start_time": "2025-04-04T16:49:41.398Z"
   },
   {
    "duration": 5,
    "start_time": "2025-04-04T16:49:41.404Z"
   },
   {
    "duration": 4,
    "start_time": "2025-04-04T16:49:41.443Z"
   },
   {
    "duration": 7,
    "start_time": "2025-04-04T16:49:41.449Z"
   },
   {
    "duration": 8,
    "start_time": "2025-04-04T16:49:41.459Z"
   },
   {
    "duration": 13,
    "start_time": "2025-04-04T16:49:41.469Z"
   },
   {
    "duration": 128,
    "start_time": "2025-04-04T16:49:41.484Z"
   },
   {
    "duration": 5,
    "start_time": "2025-04-04T16:49:41.614Z"
   },
   {
    "duration": 279,
    "start_time": "2025-04-04T16:49:41.620Z"
   },
   {
    "duration": 0,
    "start_time": "2025-04-04T16:49:41.901Z"
   },
   {
    "duration": 0,
    "start_time": "2025-04-04T16:49:41.903Z"
   },
   {
    "duration": 0,
    "start_time": "2025-04-04T16:49:41.903Z"
   },
   {
    "duration": 0,
    "start_time": "2025-04-04T16:49:41.904Z"
   },
   {
    "duration": 0,
    "start_time": "2025-04-04T16:49:41.906Z"
   },
   {
    "duration": 0,
    "start_time": "2025-04-04T16:49:41.906Z"
   },
   {
    "duration": 0,
    "start_time": "2025-04-04T16:49:41.907Z"
   },
   {
    "duration": 0,
    "start_time": "2025-04-04T16:49:41.909Z"
   },
   {
    "duration": 0,
    "start_time": "2025-04-04T16:49:41.910Z"
   },
   {
    "duration": 0,
    "start_time": "2025-04-04T16:49:41.912Z"
   },
   {
    "duration": 0,
    "start_time": "2025-04-04T16:49:41.913Z"
   },
   {
    "duration": 0,
    "start_time": "2025-04-04T16:49:41.915Z"
   },
   {
    "duration": 0,
    "start_time": "2025-04-04T16:49:41.942Z"
   },
   {
    "duration": 0,
    "start_time": "2025-04-04T16:49:41.943Z"
   },
   {
    "duration": 0,
    "start_time": "2025-04-04T16:49:41.944Z"
   },
   {
    "duration": 0,
    "start_time": "2025-04-04T16:49:41.946Z"
   },
   {
    "duration": 0,
    "start_time": "2025-04-04T16:49:41.947Z"
   },
   {
    "duration": 0,
    "start_time": "2025-04-04T16:49:41.948Z"
   },
   {
    "duration": 0,
    "start_time": "2025-04-04T16:49:41.950Z"
   },
   {
    "duration": 0,
    "start_time": "2025-04-04T16:49:41.951Z"
   },
   {
    "duration": 0,
    "start_time": "2025-04-04T16:49:41.952Z"
   },
   {
    "duration": 0,
    "start_time": "2025-04-04T16:49:41.953Z"
   },
   {
    "duration": 6,
    "start_time": "2025-04-04T18:38:04.456Z"
   },
   {
    "duration": 5,
    "start_time": "2025-04-04T18:47:49.806Z"
   },
   {
    "duration": 6,
    "start_time": "2025-04-04T18:49:16.781Z"
   },
   {
    "duration": 5,
    "start_time": "2025-04-04T18:50:18.675Z"
   },
   {
    "duration": 6,
    "start_time": "2025-04-04T18:51:33.817Z"
   },
   {
    "duration": 5,
    "start_time": "2025-04-04T18:52:06.792Z"
   },
   {
    "duration": 4,
    "start_time": "2025-04-04T18:54:09.059Z"
   },
   {
    "duration": 545,
    "start_time": "2025-04-04T18:55:31.394Z"
   },
   {
    "duration": 447,
    "start_time": "2025-04-04T18:55:39.994Z"
   },
   {
    "duration": 4,
    "start_time": "2025-04-04T18:56:42.079Z"
   },
   {
    "duration": 478,
    "start_time": "2025-04-04T18:56:42.952Z"
   },
   {
    "duration": 515,
    "start_time": "2025-04-04T18:57:02.174Z"
   },
   {
    "duration": 576,
    "start_time": "2025-04-04T18:58:05.929Z"
   },
   {
    "duration": 538,
    "start_time": "2025-04-04T18:58:14.564Z"
   },
   {
    "duration": 492,
    "start_time": "2025-04-04T18:58:26.051Z"
   },
   {
    "duration": 479,
    "start_time": "2025-04-04T18:58:40.334Z"
   },
   {
    "duration": 539,
    "start_time": "2025-04-04T18:59:29.387Z"
   },
   {
    "duration": 448,
    "start_time": "2025-04-04T18:59:45.189Z"
   },
   {
    "duration": 466,
    "start_time": "2025-04-04T18:59:55.817Z"
   },
   {
    "duration": 445,
    "start_time": "2025-04-04T19:00:10.819Z"
   },
   {
    "duration": 452,
    "start_time": "2025-04-04T19:00:22.127Z"
   },
   {
    "duration": 2512,
    "start_time": "2025-04-05T01:40:54.827Z"
   },
   {
    "duration": 68,
    "start_time": "2025-04-05T01:40:57.342Z"
   },
   {
    "duration": 14,
    "start_time": "2025-04-05T01:40:57.412Z"
   },
   {
    "duration": 10,
    "start_time": "2025-04-05T01:40:57.428Z"
   },
   {
    "duration": 8,
    "start_time": "2025-04-05T01:40:57.439Z"
   },
   {
    "duration": 6,
    "start_time": "2025-04-05T01:40:57.448Z"
   },
   {
    "duration": 13,
    "start_time": "2025-04-05T01:40:57.456Z"
   },
   {
    "duration": 6,
    "start_time": "2025-04-05T01:40:57.471Z"
   },
   {
    "duration": 13,
    "start_time": "2025-04-05T01:40:57.509Z"
   },
   {
    "duration": 20,
    "start_time": "2025-04-05T01:40:57.525Z"
   },
   {
    "duration": 13,
    "start_time": "2025-04-05T01:40:57.547Z"
   },
   {
    "duration": 5,
    "start_time": "2025-04-05T01:40:57.561Z"
   },
   {
    "duration": 4,
    "start_time": "2025-04-05T01:40:57.568Z"
   },
   {
    "duration": 36,
    "start_time": "2025-04-05T01:40:57.574Z"
   },
   {
    "duration": 10,
    "start_time": "2025-04-05T01:40:57.612Z"
   },
   {
    "duration": 8,
    "start_time": "2025-04-05T01:40:57.623Z"
   },
   {
    "duration": 15,
    "start_time": "2025-04-05T01:40:57.633Z"
   },
   {
    "duration": 131,
    "start_time": "2025-04-05T01:40:57.649Z"
   },
   {
    "duration": 220,
    "start_time": "2025-04-05T01:40:57.782Z"
   },
   {
    "duration": 0,
    "start_time": "2025-04-05T01:40:58.009Z"
   },
   {
    "duration": 0,
    "start_time": "2025-04-05T01:40:58.010Z"
   },
   {
    "duration": 0,
    "start_time": "2025-04-05T01:40:58.011Z"
   },
   {
    "duration": 0,
    "start_time": "2025-04-05T01:40:58.012Z"
   },
   {
    "duration": 0,
    "start_time": "2025-04-05T01:40:58.013Z"
   },
   {
    "duration": 0,
    "start_time": "2025-04-05T01:40:58.014Z"
   },
   {
    "duration": 0,
    "start_time": "2025-04-05T01:40:58.015Z"
   },
   {
    "duration": 0,
    "start_time": "2025-04-05T01:40:58.016Z"
   },
   {
    "duration": 0,
    "start_time": "2025-04-05T01:40:58.017Z"
   },
   {
    "duration": 0,
    "start_time": "2025-04-05T01:40:58.018Z"
   },
   {
    "duration": 0,
    "start_time": "2025-04-05T01:40:58.021Z"
   },
   {
    "duration": 0,
    "start_time": "2025-04-05T01:40:58.023Z"
   },
   {
    "duration": 0,
    "start_time": "2025-04-05T01:40:58.024Z"
   },
   {
    "duration": 0,
    "start_time": "2025-04-05T01:40:58.025Z"
   },
   {
    "duration": 0,
    "start_time": "2025-04-05T01:40:58.027Z"
   },
   {
    "duration": 0,
    "start_time": "2025-04-05T01:40:58.029Z"
   },
   {
    "duration": 0,
    "start_time": "2025-04-05T01:40:58.030Z"
   },
   {
    "duration": 0,
    "start_time": "2025-04-05T01:40:58.032Z"
   },
   {
    "duration": 0,
    "start_time": "2025-04-05T01:40:58.033Z"
   },
   {
    "duration": 0,
    "start_time": "2025-04-05T01:40:58.034Z"
   },
   {
    "duration": 0,
    "start_time": "2025-04-05T01:40:58.035Z"
   },
   {
    "duration": 0,
    "start_time": "2025-04-05T01:40:58.036Z"
   },
   {
    "duration": 4,
    "start_time": "2025-04-05T01:41:39.281Z"
   },
   {
    "duration": 6,
    "start_time": "2025-04-05T01:42:29.823Z"
   },
   {
    "duration": 406,
    "start_time": "2025-04-05T01:42:30.321Z"
   },
   {
    "duration": 491,
    "start_time": "2025-04-05T01:43:09.609Z"
   },
   {
    "duration": 441,
    "start_time": "2025-04-05T01:43:36.728Z"
   },
   {
    "duration": 11,
    "start_time": "2025-04-05T01:43:38.975Z"
   },
   {
    "duration": 14,
    "start_time": "2025-04-05T01:43:40.146Z"
   },
   {
    "duration": 3,
    "start_time": "2025-04-05T01:43:43.424Z"
   },
   {
    "duration": 101,
    "start_time": "2025-04-05T01:43:44.313Z"
   },
   {
    "duration": 4,
    "start_time": "2025-04-05T01:46:00.851Z"
   },
   {
    "duration": 534,
    "start_time": "2025-04-05T01:51:16.404Z"
   },
   {
    "duration": 452,
    "start_time": "2025-04-05T01:51:45.586Z"
   },
   {
    "duration": 15,
    "start_time": "2025-04-05T01:51:47.158Z"
   },
   {
    "duration": 6,
    "start_time": "2025-04-05T01:51:47.729Z"
   },
   {
    "duration": 96,
    "start_time": "2025-04-05T01:51:48.198Z"
   },
   {
    "duration": 4,
    "start_time": "2025-04-05T01:51:48.475Z"
   },
   {
    "duration": 16,
    "start_time": "2025-04-05T01:51:49.405Z"
   },
   {
    "duration": 5,
    "start_time": "2025-04-05T01:52:35.786Z"
   },
   {
    "duration": 5,
    "start_time": "2025-04-05T01:54:09.835Z"
   },
   {
    "duration": 5,
    "start_time": "2025-04-05T01:54:38.078Z"
   },
   {
    "duration": 6,
    "start_time": "2025-04-05T01:55:54.346Z"
   },
   {
    "duration": 324,
    "start_time": "2025-04-05T01:56:33.785Z"
   },
   {
    "duration": 14,
    "start_time": "2025-04-05T01:58:15.044Z"
   },
   {
    "duration": 4,
    "start_time": "2025-04-05T01:58:15.804Z"
   },
   {
    "duration": 20,
    "start_time": "2025-04-05T01:58:16.536Z"
   },
   {
    "duration": 5,
    "start_time": "2025-04-05T02:20:29.067Z"
   },
   {
    "duration": 13,
    "start_time": "2025-04-05T02:20:36.036Z"
   },
   {
    "duration": 9,
    "start_time": "2025-04-05T02:20:40.205Z"
   },
   {
    "duration": 131,
    "start_time": "2025-04-05T02:20:40.852Z"
   },
   {
    "duration": 8,
    "start_time": "2025-04-05T02:21:21.409Z"
   },
   {
    "duration": 5,
    "start_time": "2025-04-05T02:21:38.486Z"
   },
   {
    "duration": 46,
    "start_time": "2025-04-05T02:21:38.494Z"
   },
   {
    "duration": 13,
    "start_time": "2025-04-05T02:21:38.542Z"
   },
   {
    "duration": 8,
    "start_time": "2025-04-05T02:21:38.557Z"
   },
   {
    "duration": 8,
    "start_time": "2025-04-05T02:21:38.567Z"
   },
   {
    "duration": 6,
    "start_time": "2025-04-05T02:21:38.576Z"
   },
   {
    "duration": 30,
    "start_time": "2025-04-05T02:21:38.584Z"
   },
   {
    "duration": 8,
    "start_time": "2025-04-05T02:21:38.615Z"
   },
   {
    "duration": 11,
    "start_time": "2025-04-05T02:21:38.625Z"
   },
   {
    "duration": 20,
    "start_time": "2025-04-05T02:21:38.637Z"
   },
   {
    "duration": 11,
    "start_time": "2025-04-05T02:21:38.658Z"
   },
   {
    "duration": 4,
    "start_time": "2025-04-05T02:21:38.671Z"
   },
   {
    "duration": 7,
    "start_time": "2025-04-05T02:21:38.709Z"
   },
   {
    "duration": 6,
    "start_time": "2025-04-05T02:21:38.720Z"
   },
   {
    "duration": 6,
    "start_time": "2025-04-05T02:21:38.728Z"
   },
   {
    "duration": 6,
    "start_time": "2025-04-05T02:21:38.736Z"
   },
   {
    "duration": 12,
    "start_time": "2025-04-05T02:21:38.744Z"
   },
   {
    "duration": 128,
    "start_time": "2025-04-05T02:21:38.757Z"
   },
   {
    "duration": 4,
    "start_time": "2025-04-05T02:21:38.887Z"
   },
   {
    "duration": 559,
    "start_time": "2025-04-05T02:21:38.910Z"
   },
   {
    "duration": 10,
    "start_time": "2025-04-05T02:21:39.473Z"
   },
   {
    "duration": 27,
    "start_time": "2025-04-05T02:21:39.484Z"
   },
   {
    "duration": 3,
    "start_time": "2025-04-05T02:21:39.513Z"
   },
   {
    "duration": 116,
    "start_time": "2025-04-05T02:21:39.518Z"
   },
   {
    "duration": 6,
    "start_time": "2025-04-05T02:21:39.636Z"
   },
   {
    "duration": 471,
    "start_time": "2025-04-05T02:21:39.644Z"
   },
   {
    "duration": 14,
    "start_time": "2025-04-05T02:21:40.117Z"
   },
   {
    "duration": 4,
    "start_time": "2025-04-05T02:21:40.132Z"
   },
   {
    "duration": 117,
    "start_time": "2025-04-05T02:21:40.138Z"
   },
   {
    "duration": 4,
    "start_time": "2025-04-05T02:21:40.257Z"
   },
   {
    "duration": 5,
    "start_time": "2025-04-05T02:21:40.263Z"
   },
   {
    "duration": 364,
    "start_time": "2025-04-05T02:21:40.270Z"
   },
   {
    "duration": 13,
    "start_time": "2025-04-05T02:21:40.636Z"
   },
   {
    "duration": 5,
    "start_time": "2025-04-05T02:21:40.650Z"
   },
   {
    "duration": 5,
    "start_time": "2025-04-05T02:21:40.657Z"
   },
   {
    "duration": 10,
    "start_time": "2025-04-05T02:21:40.664Z"
   },
   {
    "duration": 34,
    "start_time": "2025-04-05T02:21:40.676Z"
   },
   {
    "duration": 132,
    "start_time": "2025-04-05T02:21:40.711Z"
   },
   {
    "duration": 6,
    "start_time": "2025-04-05T02:21:40.845Z"
   },
   {
    "duration": 6,
    "start_time": "2025-04-05T03:17:09.858Z"
   },
   {
    "duration": 491,
    "start_time": "2025-04-05T03:21:22.537Z"
   },
   {
    "duration": 554,
    "start_time": "2025-04-05T03:22:51.709Z"
   },
   {
    "duration": 348,
    "start_time": "2025-04-05T03:29:53.151Z"
   },
   {
    "duration": 352,
    "start_time": "2025-04-05T03:30:01.073Z"
   },
   {
    "duration": 5,
    "start_time": "2025-04-05T03:32:11.727Z"
   },
   {
    "duration": 498,
    "start_time": "2025-04-05T03:32:13.413Z"
   },
   {
    "duration": 13,
    "start_time": "2025-04-05T03:32:22.386Z"
   },
   {
    "duration": 3,
    "start_time": "2025-04-05T03:33:23.654Z"
   },
   {
    "duration": 13,
    "start_time": "2025-04-05T03:34:43.673Z"
   },
   {
    "duration": 5,
    "start_time": "2025-04-05T03:34:44.380Z"
   },
   {
    "duration": 12,
    "start_time": "2025-04-05T03:36:06.616Z"
   },
   {
    "duration": 5,
    "start_time": "2025-04-05T03:36:12.460Z"
   },
   {
    "duration": 132,
    "start_time": "2025-04-05T03:36:13.829Z"
   },
   {
    "duration": 13,
    "start_time": "2025-04-05T03:43:51.894Z"
   },
   {
    "duration": 5,
    "start_time": "2025-04-05T03:55:21.141Z"
   },
   {
    "duration": 11,
    "start_time": "2025-04-05T03:55:23.025Z"
   },
   {
    "duration": 5,
    "start_time": "2025-04-05T03:55:24.330Z"
   },
   {
    "duration": 124,
    "start_time": "2025-04-05T03:55:25.290Z"
   },
   {
    "duration": 98,
    "start_time": "2025-04-05T04:28:55.312Z"
   },
   {
    "duration": 101,
    "start_time": "2025-04-05T04:52:10.750Z"
   },
   {
    "duration": 125,
    "start_time": "2025-04-05T04:53:02.461Z"
   },
   {
    "duration": 480,
    "start_time": "2025-04-05T05:12:19.391Z"
   },
   {
    "duration": 396,
    "start_time": "2025-04-05T05:13:46.433Z"
   },
   {
    "duration": 350,
    "start_time": "2025-04-05T05:14:04.478Z"
   },
   {
    "duration": 339,
    "start_time": "2025-04-05T05:14:23.513Z"
   },
   {
    "duration": 310,
    "start_time": "2025-04-05T05:14:29.427Z"
   },
   {
    "duration": 383,
    "start_time": "2025-04-05T05:14:43.242Z"
   },
   {
    "duration": 656,
    "start_time": "2025-04-05T05:14:55.065Z"
   },
   {
    "duration": 367,
    "start_time": "2025-04-05T05:15:02.908Z"
   },
   {
    "duration": 18,
    "start_time": "2025-04-05T05:22:48.823Z"
   },
   {
    "duration": 15,
    "start_time": "2025-04-05T05:23:10.750Z"
   },
   {
    "duration": 15,
    "start_time": "2025-04-05T05:23:41.240Z"
   },
   {
    "duration": 134,
    "start_time": "2025-04-05T05:40:00.537Z"
   },
   {
    "duration": 458,
    "start_time": "2025-04-05T05:55:25.914Z"
   },
   {
    "duration": 442,
    "start_time": "2025-04-05T05:55:33.191Z"
   }
  ],
  "kernelspec": {
   "display_name": "Python 3 (ipykernel)",
   "language": "python",
   "name": "python3"
  },
  "language_info": {
   "codemirror_mode": {
    "name": "ipython",
    "version": 3
   },
   "file_extension": ".py",
   "mimetype": "text/x-python",
   "name": "python",
   "nbconvert_exporter": "python",
   "pygments_lexer": "ipython3",
   "version": "3.9.19"
  },
  "toc": {
   "base_numbering": 1,
   "nav_menu": {
    "height": "345px",
    "width": "160px"
   },
   "number_sections": true,
   "sideBar": true,
   "skip_h1_title": true,
   "title_cell": "Table of Contents",
   "title_sidebar": "Contents",
   "toc_cell": false,
   "toc_position": {},
   "toc_section_display": true,
   "toc_window_display": false
  }
 },
 "nbformat": 4,
 "nbformat_minor": 2
}
